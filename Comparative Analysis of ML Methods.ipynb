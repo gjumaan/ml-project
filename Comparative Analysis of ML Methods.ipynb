{
 "cells": [
  {
   "cell_type": "code",
   "execution_count": null,
   "id": "8cbd52b4",
   "metadata": {},
   "outputs": [],
   "source": [
    "import pandas as pd\n",
    "import numpy as np\n",
    "import matplotlib.pyplot as plt"
   ]
  },
  {
   "cell_type": "code",
   "execution_count": null,
   "id": "1f0aaa3d",
   "metadata": {},
   "outputs": [],
   "source": [
    "#Read dataset files\n",
    "# test_df = pd.read_csv('dataset/test.csv')\n",
    "train_df_cleaned = pd.read_csv('dataset/train_data_cleaned.csv')\n",
    "#data cleanup step performed in credit-default-ml.ipynb as well as getdummies step"
   ]
  },
  {
   "cell_type": "markdown",
   "id": "7e8d2575",
   "metadata": {},
   "source": [
    "## Training Data"
   ]
  },
  {
   "cell_type": "code",
   "execution_count": null,
   "id": "7901c692",
   "metadata": {},
   "outputs": [],
   "source": [
    "train_df_cleaned"
   ]
  },
  {
   "cell_type": "markdown",
   "id": "ab8818fd",
   "metadata": {},
   "source": [
    "-------------"
   ]
  },
  {
   "cell_type": "code",
   "execution_count": null,
   "id": "c3239258",
   "metadata": {},
   "outputs": [],
   "source": [
    "#Ricardo Start"
   ]
  },
  {
   "cell_type": "code",
   "execution_count": null,
   "id": "e99cd5e0",
   "metadata": {},
   "outputs": [],
   "source": [
    "# Assign X (data) and y (target)\n",
    "X = train_df_cleaned.drop(\"credit_card_default\", axis=1)\n",
    "y = train_df_cleaned[\"credit_card_default\"]\n",
    "target_names = [\"no-default\", \"default\"]\n",
    "print(X.shape, y.shape)"
   ]
  },
  {
   "cell_type": "code",
   "execution_count": null,
   "id": "2fd49526",
   "metadata": {},
   "outputs": [],
   "source": [
    "from sklearn.model_selection import train_test_split\n",
    "\n",
    "X_train, X_test, y_train, y_test = train_test_split(X, y, random_state=1)"
   ]
  },
  {
   "cell_type": "code",
   "execution_count": null,
   "id": "1d28312a",
   "metadata": {},
   "outputs": [],
   "source": [
    "from sklearn.preprocessing import StandardScaler\n",
    "X_scaler = StandardScaler().fit(X_train)\n",
    "\n",
    "\n",
    "X_train_scaled = X_scaler.transform(X_train)\n",
    "X_test_scaled = X_scaler.transform(X_test)\n"
   ]
  },
  {
   "cell_type": "code",
   "execution_count": null,
   "id": "955fe8af",
   "metadata": {},
   "outputs": [],
   "source": []
  },
  {
   "cell_type": "code",
   "execution_count": null,
   "id": "ac3c79e9",
   "metadata": {},
   "outputs": [],
   "source": [
    "from sklearn.linear_model import LogisticRegression\n",
    "classifier = LogisticRegression()\n",
    "classifier"
   ]
  },
  {
   "cell_type": "code",
   "execution_count": null,
   "id": "18069802",
   "metadata": {},
   "outputs": [],
   "source": [
    "#Fit(train) \n",
    "\n",
    "lgR=classifier.fit(X_train_scaled, y_train)\n"
   ]
  },
  {
   "cell_type": "code",
   "execution_count": null,
   "id": "f9262359",
   "metadata": {},
   "outputs": [],
   "source": [
    "print(f\"Training Data Score: {lgR.score(X_train_scaled, y_train)}\")\n",
    "print(f\"Testing Data Score: {lgR.score(X_test_scaled, y_test)}\")"
   ]
  },
  {
   "cell_type": "code",
   "execution_count": null,
   "id": "2b8902ca",
   "metadata": {},
   "outputs": [],
   "source": [
    "predictions = lgR.predict(X_test_scaled)\n",
    "print(f\"First 35 Predictions:   {predictions[:35]}\")\n",
    "print(f\"First 35 Actual labels: {y_test[:35].tolist()}\")"
   ]
  },
  {
   "cell_type": "code",
   "execution_count": null,
   "id": "774ff12c",
   "metadata": {},
   "outputs": [],
   "source": [
    "results=pd.DataFrame({\"Prediction\": predictions, \"Actual\": y_test}).reset_index(drop=True)"
   ]
  },
  {
   "cell_type": "code",
   "execution_count": null,
   "id": "c88ffd99",
   "metadata": {},
   "outputs": [],
   "source": [
    "results"
   ]
  },
  {
   "cell_type": "code",
   "execution_count": null,
   "id": "d805d0cf",
   "metadata": {},
   "outputs": [],
   "source": [
    "#Save the model\n",
    "import joblib\n",
    "\n",
    "filename = 'saved_models/lgR_trained.joblib'\n",
    "joblib.dump(lgR, filename)"
   ]
  },
  {
   "cell_type": "code",
   "execution_count": null,
   "id": "6f7bf4fe",
   "metadata": {},
   "outputs": [],
   "source": [
    "#Load the model\n",
    "loaded_model = joblib.load(filename)\n",
    "print('Test Acc: %.3f' % loaded_model.score(X_test_scaled, y_test))"
   ]
  },
  {
   "cell_type": "code",
   "execution_count": null,
   "id": "806bedbc",
   "metadata": {},
   "outputs": [],
   "source": [
    "# Calculate classification report\n",
    "from sklearn.metrics import classification_report\n",
    "predictions = lgR.predict(X_test_scaled)\n",
    "print(classification_report(y_test, predictions,\n",
    "                            target_names=target_names))"
   ]
  },
  {
   "cell_type": "code",
   "execution_count": null,
   "id": "dde0b50d",
   "metadata": {},
   "outputs": [],
   "source": [
    "import seaborn as sns\n",
    "from sklearn.metrics import confusion_matrix\n",
    "sns.heatmap(confusion_matrix(y_test, predictions), cmap=\"BuPu\", \n",
    "        annot = True, fmt=\"d\")"
   ]
  },
  {
   "cell_type": "code",
   "execution_count": null,
   "id": "46879015",
   "metadata": {},
   "outputs": [],
   "source": [
    "predictions_df = pd.DataFrame({\"Prediction\": predictions})\n",
    "actual_df = pd.DataFrame({\"Actual\": y_test})"
   ]
  },
  {
   "cell_type": "code",
   "execution_count": null,
   "id": "9d94b9f0",
   "metadata": {},
   "outputs": [],
   "source": [
    "predictions_df.value_counts()\n"
   ]
  },
  {
   "cell_type": "code",
   "execution_count": null,
   "id": "4fc87b87",
   "metadata": {},
   "outputs": [],
   "source": [
    "actual_df.value_counts()"
   ]
  },
  {
   "cell_type": "code",
   "execution_count": null,
   "id": "d8d70e49",
   "metadata": {},
   "outputs": [],
   "source": [
    "\n",
    "#Ricardo End"
   ]
  },
  {
   "cell_type": "markdown",
   "id": "28bf73f6",
   "metadata": {},
   "source": [
    "-------------"
   ]
  },
  {
   "cell_type": "code",
   "execution_count": null,
   "id": "824518b8",
   "metadata": {},
   "outputs": [],
   "source": [
    "#Kelly Start"
   ]
  },
  {
   "cell_type": "code",
   "execution_count": null,
   "id": "91fe4096",
   "metadata": {},
   "outputs": [],
   "source": [
    "filename = 'saved_models/decision_tree_trained.joblib'\n",
    "decision_tree_model = joblib.load(filename)\n",
    "print('Test Acc: %.3f' % decision_tree_model.score(X_test_scaled, y_test))"
   ]
  },
  {
   "cell_type": "code",
   "execution_count": null,
   "id": "85932ef3",
   "metadata": {},
   "outputs": [],
   "source": [
    "filename = 'saved_models/random_forest_trained.joblib'\n",
    "random_forest_model = joblib.load(filename)\n",
    "print('Test Acc: %.3f' % random_forest_model.score(X_test_scaled, y_test))"
   ]
  },
  {
   "cell_type": "code",
   "execution_count": null,
   "id": "095f64b6",
   "metadata": {},
   "outputs": [],
   "source": [
    "#Kelly End"
   ]
  },
  {
   "cell_type": "markdown",
   "id": "ccdff3cf",
   "metadata": {},
   "source": [
    "-------------"
   ]
  },
  {
   "cell_type": "code",
   "execution_count": null,
   "id": "697424d6",
   "metadata": {},
   "outputs": [],
   "source": [
    "#Timmy Start"
   ]
  },
  {
   "cell_type": "code",
   "execution_count": null,
   "id": "d65bfe95",
   "metadata": {},
   "outputs": [],
   "source": [
    "filename = 'saved_models/KNN_trained.joblib'\n",
    "KNN_model = joblib.load(filename)\n",
    "print('Test Acc: %.3f' % KNN_model.score(X_test_scaled, y_test))"
   ]
  },
  {
   "cell_type": "code",
   "execution_count": null,
   "id": "07fee753",
   "metadata": {},
   "outputs": [],
   "source": [
    "#Timmy End"
   ]
  },
  {
   "cell_type": "markdown",
   "id": "748671e7",
   "metadata": {},
   "source": [
    "-------------"
   ]
  },
  {
   "cell_type": "code",
   "execution_count": null,
   "id": "4b727c06",
   "metadata": {},
   "outputs": [],
   "source": [
    "#Jumaan Start"
   ]
  },
  {
   "cell_type": "code",
   "execution_count": null,
   "id": "4e41b557",
   "metadata": {},
   "outputs": [],
   "source": [
    "filename = 'saved_models/SVM_trained.joblib'\n",
    "loaded_model = joblib.load(filename)\n",
    "print('Test Acc: %.3f' % loaded_model.score(X_test_scaled, y_test))"
   ]
  },
  {
   "cell_type": "code",
   "execution_count": null,
   "id": "7e70edc0",
   "metadata": {},
   "outputs": [],
   "source": [
    "#Jumaan End"
   ]
  },
  {
   "cell_type": "markdown",
   "id": "0736d90e",
   "metadata": {},
   "source": [
    "-------------"
   ]
  },
  {
   "cell_type": "code",
   "execution_count": null,
   "id": "53309b83",
   "metadata": {},
   "outputs": [],
   "source": [
    "#Feipeng Start"
   ]
  },
  {
   "cell_type": "code",
   "execution_count": null,
   "id": "8d4abae8",
   "metadata": {},
   "outputs": [],
   "source": [
    "from tensorflow.keras.utils import to_categorical\n",
    "\n",
    "# One-hot encoding\n",
    "y_train_categorical = to_categorical(y_train)\n",
    "y_test_categorical = to_categorical(y_test)\n",
    "y_train_categorical"
   ]
  },
  {
   "cell_type": "code",
   "execution_count": null,
   "id": "85a0f196",
   "metadata": {},
   "outputs": [],
   "source": []
  },
  {
   "cell_type": "code",
   "execution_count": null,
   "id": "e5e8ad0d",
   "metadata": {},
   "outputs": [],
   "source": [
    "# Load the model\n",
    "from tensorflow.keras.models import load_model\n",
    "\n",
    "deep_trained = load_model(\"saved_models/neural_network_deep_trained.h5\")"
   ]
  },
  {
   "cell_type": "code",
   "execution_count": null,
   "id": "832855ac",
   "metadata": {},
   "outputs": [],
   "source": [
    "deep_model_loss, deep_model_accuracy = deep_trained.evaluate(\n",
    "    X_test_scaled, y_test_categorical, verbose=2)\n",
    "print(\n",
    "    f\"Deep Learning Neural Network - Loss: {deep_model_loss}, Accuracy: {deep_model_accuracy}\")"
   ]
  },
  {
   "cell_type": "code",
   "execution_count": null,
   "id": "30806c18",
   "metadata": {},
   "outputs": [],
   "source": []
  },
  {
   "cell_type": "code",
   "execution_count": null,
   "id": "b2ff0562",
   "metadata": {},
   "outputs": [],
   "source": [
    "# print('Test Acc: %.3f' % deep_trained.score(X_test_scaled, y_test_categorical))"
   ]
  },
  {
   "cell_type": "code",
   "execution_count": null,
   "id": "3c233699",
   "metadata": {},
   "outputs": [],
   "source": [
    "#Feipeng end"
   ]
  },
  {
   "cell_type": "markdown",
   "id": "1b2fe576",
   "metadata": {},
   "source": [
    "## Analysis of the Models"
   ]
  },
  {
   "cell_type": "code",
   "execution_count": null,
   "id": "5cb27d4d",
   "metadata": {},
   "outputs": [],
   "source": [
    "import csv\n",
    "import pandas\n",
    "from sklearn import model_selection\n",
    "from sklearn.linear_model import LogisticRegression\n",
    "from sklearn import tree\n",
    "from sklearn.ensemble import RandomForestClassifier\n",
    "from sklearn.tree import DecisionTreeClassifier\n",
    "from sklearn.neighbors import KNeighborsClassifier\n",
    "from sklearn.discriminant_analysis import LinearDiscriminantAnalysis\n",
    "from sklearn.naive_bayes import GaussianNB\n",
    "from sklearn.svm import SVC\n",
    "import sys\n",
    "import numpy\n"
   ]
  },
  {
   "cell_type": "code",
   "execution_count": null,
   "id": "7f3a2b71",
   "metadata": {},
   "outputs": [],
   "source": [
    "# load dataset\n",
    "location = 'dataset/train_data_cleaned1.csv'"
   ]
  },
  {
   "cell_type": "code",
   "execution_count": null,
   "id": "70a53e42",
   "metadata": {},
   "outputs": [],
   "source": [
    "with open(\"dataset/train_data_cleaned.csv\") as csvFile:\n",
    "    reader = csv.reader(csvFile)\n",
    "    names_all = next(reader)"
   ]
  },
  {
   "cell_type": "code",
   "execution_count": null,
   "id": "2e9b77c1",
   "metadata": {},
   "outputs": [],
   "source": [
    "dataframe = pandas.read_csv(location, names=names_all,low_memory=False)\n",
    "array = dataframe.values\n",
    "X = array[:,0:32]\n",
    "Y = array[:,32]"
   ]
  },
  {
   "cell_type": "code",
   "execution_count": null,
   "id": "de3d3cbb",
   "metadata": {},
   "outputs": [],
   "source": [
    "from sklearn.preprocessing import StandardScaler\n",
    "X_scaler = StandardScaler().fit(X)\n",
    "\n",
    "\n",
    "X_scaled = X_scaler.transform(X)"
   ]
  },
  {
   "cell_type": "code",
   "execution_count": null,
   "id": "d4958099",
   "metadata": {},
   "outputs": [],
   "source": [
    "# prepare configuration for cross validation test harness\n",
    "seed = 7"
   ]
  },
  {
   "cell_type": "code",
   "execution_count": null,
   "id": "0aeffffe",
   "metadata": {},
   "outputs": [],
   "source": [
    "# prepare models\n",
    "models = []\n",
    "models.append(('LR', LogisticRegression()))\n",
    "models.append(('DTC', DecisionTreeClassifier()))\n",
    "models.append(('RFC', RandomForestClassifier()))\n",
    "models.append(('KNN', KNeighborsClassifier()))\n",
    "models.append(('SVM', SVC()))\n"
   ]
  },
  {
   "cell_type": "code",
   "execution_count": null,
   "id": "c6e9728e",
   "metadata": {},
   "outputs": [],
   "source": [
    "# evaluate each model in turn\n",
    "results = []\n",
    "names = []\n",
    "scoring = 'accuracy'"
   ]
  },
  {
   "cell_type": "code",
   "execution_count": null,
   "id": "41d2ab00",
   "metadata": {},
   "outputs": [],
   "source": [
    "for name, model in models:\n",
    "\tkfold = model_selection.KFold(n_splits=10, shuffle=True,random_state= 1)\n",
    "\tcv_results = model_selection.cross_val_score(model, X_scaled, Y, cv=kfold, scoring=scoring)\n",
    "\tresults.append(cv_results)\n",
    "\tnames.append(name)\n",
    "\tmsg = \"%s: %f (%f)\" % (name, cv_results.mean(), cv_results.std())\n",
    "\tprint(msg)"
   ]
  },
  {
   "cell_type": "code",
   "execution_count": null,
   "id": "1ec26363",
   "metadata": {},
   "outputs": [],
   "source": [
    "# boxplot algorithm comparison\n",
    "fig = plt.figure()\n",
    "fig.suptitle('Algorithm Comparison')\n",
    "ax = fig.add_subplot(111)\n",
    "plt.boxplot(results,widths = 0.6, patch_artist = False)\n",
    "ax.set_xticklabels(names)\n",
    "\n",
    "\n",
    "fig.set_size_inches(18.5, 10.5)\n",
    "fig.savefig('test2png.png', dpi=100)\n",
    "\n",
    "plt.show()"
   ]
  },
  {
   "cell_type": "code",
   "execution_count": null,
   "id": "891ddd15",
   "metadata": {},
   "outputs": [],
   "source": []
  }
 ],
 "metadata": {
  "kernelspec": {
   "display_name": "Python 3",
   "language": "python",
   "name": "python3"
  },
  "language_info": {
   "codemirror_mode": {
    "name": "ipython",
    "version": 3
   },
   "file_extension": ".py",
   "mimetype": "text/x-python",
   "name": "python",
   "nbconvert_exporter": "python",
   "pygments_lexer": "ipython3",
   "version": "3.8.8"
  }
 },
 "nbformat": 4,
 "nbformat_minor": 5
}
