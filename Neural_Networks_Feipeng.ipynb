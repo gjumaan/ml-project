{
 "cells": [
  {
   "cell_type": "code",
   "execution_count": 1,
   "id": "67595110",
   "metadata": {},
   "outputs": [],
   "source": [
    "import pandas as pd\n",
    "import numpy as np\n",
    "import matplotlib.pyplot as plt"
   ]
  },
  {
   "cell_type": "code",
   "execution_count": 2,
   "id": "f92db038",
   "metadata": {},
   "outputs": [
    {
     "data": {
      "text/html": [
       "<div>\n",
       "<style scoped>\n",
       "    .dataframe tbody tr th:only-of-type {\n",
       "        vertical-align: middle;\n",
       "    }\n",
       "\n",
       "    .dataframe tbody tr th {\n",
       "        vertical-align: top;\n",
       "    }\n",
       "\n",
       "    .dataframe thead th {\n",
       "        text-align: right;\n",
       "    }\n",
       "</style>\n",
       "<table border=\"1\" class=\"dataframe\">\n",
       "  <thead>\n",
       "    <tr style=\"text-align: right;\">\n",
       "      <th></th>\n",
       "      <th>age</th>\n",
       "      <th>no_of_children</th>\n",
       "      <th>net_yearly_income</th>\n",
       "      <th>total_family_members</th>\n",
       "      <th>migrant_worker</th>\n",
       "      <th>yearly_debt_payments</th>\n",
       "      <th>credit_limit</th>\n",
       "      <th>credit_limit_used(%)</th>\n",
       "      <th>credit_score</th>\n",
       "      <th>prev_defaults</th>\n",
       "      <th>...</th>\n",
       "      <th>occupation_type_Low-skill Laborers</th>\n",
       "      <th>occupation_type_Managers</th>\n",
       "      <th>occupation_type_Medicine staff</th>\n",
       "      <th>occupation_type_Private service staff</th>\n",
       "      <th>occupation_type_Realty agents</th>\n",
       "      <th>occupation_type_Sales staff</th>\n",
       "      <th>occupation_type_Secretaries</th>\n",
       "      <th>occupation_type_Security staff</th>\n",
       "      <th>occupation_type_Unknown</th>\n",
       "      <th>occupation_type_Waiters/barmen staff</th>\n",
       "    </tr>\n",
       "  </thead>\n",
       "  <tbody>\n",
       "    <tr>\n",
       "      <th>0</th>\n",
       "      <td>46</td>\n",
       "      <td>0.0</td>\n",
       "      <td>107934.04</td>\n",
       "      <td>1.0</td>\n",
       "      <td>1.0</td>\n",
       "      <td>33070.28</td>\n",
       "      <td>18690.93</td>\n",
       "      <td>73</td>\n",
       "      <td>544.0</td>\n",
       "      <td>2</td>\n",
       "      <td>...</td>\n",
       "      <td>0</td>\n",
       "      <td>0</td>\n",
       "      <td>0</td>\n",
       "      <td>0</td>\n",
       "      <td>0</td>\n",
       "      <td>0</td>\n",
       "      <td>0</td>\n",
       "      <td>0</td>\n",
       "      <td>1</td>\n",
       "      <td>0</td>\n",
       "    </tr>\n",
       "    <tr>\n",
       "      <th>1</th>\n",
       "      <td>29</td>\n",
       "      <td>0.0</td>\n",
       "      <td>109862.62</td>\n",
       "      <td>2.0</td>\n",
       "      <td>0.0</td>\n",
       "      <td>15329.53</td>\n",
       "      <td>37745.19</td>\n",
       "      <td>52</td>\n",
       "      <td>857.0</td>\n",
       "      <td>0</td>\n",
       "      <td>...</td>\n",
       "      <td>0</td>\n",
       "      <td>0</td>\n",
       "      <td>0</td>\n",
       "      <td>0</td>\n",
       "      <td>0</td>\n",
       "      <td>0</td>\n",
       "      <td>0</td>\n",
       "      <td>0</td>\n",
       "      <td>0</td>\n",
       "      <td>0</td>\n",
       "    </tr>\n",
       "    <tr>\n",
       "      <th>2</th>\n",
       "      <td>37</td>\n",
       "      <td>0.0</td>\n",
       "      <td>230153.17</td>\n",
       "      <td>2.0</td>\n",
       "      <td>0.0</td>\n",
       "      <td>48416.60</td>\n",
       "      <td>41598.36</td>\n",
       "      <td>43</td>\n",
       "      <td>650.0</td>\n",
       "      <td>0</td>\n",
       "      <td>...</td>\n",
       "      <td>0</td>\n",
       "      <td>0</td>\n",
       "      <td>0</td>\n",
       "      <td>0</td>\n",
       "      <td>0</td>\n",
       "      <td>0</td>\n",
       "      <td>0</td>\n",
       "      <td>0</td>\n",
       "      <td>0</td>\n",
       "      <td>0</td>\n",
       "    </tr>\n",
       "    <tr>\n",
       "      <th>3</th>\n",
       "      <td>39</td>\n",
       "      <td>0.0</td>\n",
       "      <td>122325.82</td>\n",
       "      <td>2.0</td>\n",
       "      <td>0.0</td>\n",
       "      <td>22574.36</td>\n",
       "      <td>32627.76</td>\n",
       "      <td>20</td>\n",
       "      <td>754.0</td>\n",
       "      <td>0</td>\n",
       "      <td>...</td>\n",
       "      <td>0</td>\n",
       "      <td>0</td>\n",
       "      <td>0</td>\n",
       "      <td>0</td>\n",
       "      <td>0</td>\n",
       "      <td>0</td>\n",
       "      <td>0</td>\n",
       "      <td>0</td>\n",
       "      <td>0</td>\n",
       "      <td>0</td>\n",
       "    </tr>\n",
       "    <tr>\n",
       "      <th>4</th>\n",
       "      <td>46</td>\n",
       "      <td>0.0</td>\n",
       "      <td>387286.00</td>\n",
       "      <td>1.0</td>\n",
       "      <td>0.0</td>\n",
       "      <td>38282.95</td>\n",
       "      <td>52950.64</td>\n",
       "      <td>75</td>\n",
       "      <td>927.0</td>\n",
       "      <td>0</td>\n",
       "      <td>...</td>\n",
       "      <td>0</td>\n",
       "      <td>0</td>\n",
       "      <td>0</td>\n",
       "      <td>0</td>\n",
       "      <td>0</td>\n",
       "      <td>0</td>\n",
       "      <td>0</td>\n",
       "      <td>0</td>\n",
       "      <td>0</td>\n",
       "      <td>0</td>\n",
       "    </tr>\n",
       "  </tbody>\n",
       "</table>\n",
       "<p>5 rows × 33 columns</p>\n",
       "</div>"
      ],
      "text/plain": [
       "   age  no_of_children  net_yearly_income  total_family_members  \\\n",
       "0   46             0.0          107934.04                   1.0   \n",
       "1   29             0.0          109862.62                   2.0   \n",
       "2   37             0.0          230153.17                   2.0   \n",
       "3   39             0.0          122325.82                   2.0   \n",
       "4   46             0.0          387286.00                   1.0   \n",
       "\n",
       "   migrant_worker  yearly_debt_payments  credit_limit  credit_limit_used(%)  \\\n",
       "0             1.0              33070.28      18690.93                    73   \n",
       "1             0.0              15329.53      37745.19                    52   \n",
       "2             0.0              48416.60      41598.36                    43   \n",
       "3             0.0              22574.36      32627.76                    20   \n",
       "4             0.0              38282.95      52950.64                    75   \n",
       "\n",
       "   credit_score  prev_defaults  ...  occupation_type_Low-skill Laborers  \\\n",
       "0         544.0              2  ...                                   0   \n",
       "1         857.0              0  ...                                   0   \n",
       "2         650.0              0  ...                                   0   \n",
       "3         754.0              0  ...                                   0   \n",
       "4         927.0              0  ...                                   0   \n",
       "\n",
       "   occupation_type_Managers  occupation_type_Medicine staff  \\\n",
       "0                         0                               0   \n",
       "1                         0                               0   \n",
       "2                         0                               0   \n",
       "3                         0                               0   \n",
       "4                         0                               0   \n",
       "\n",
       "   occupation_type_Private service staff  occupation_type_Realty agents  \\\n",
       "0                                      0                              0   \n",
       "1                                      0                              0   \n",
       "2                                      0                              0   \n",
       "3                                      0                              0   \n",
       "4                                      0                              0   \n",
       "\n",
       "   occupation_type_Sales staff  occupation_type_Secretaries  \\\n",
       "0                            0                            0   \n",
       "1                            0                            0   \n",
       "2                            0                            0   \n",
       "3                            0                            0   \n",
       "4                            0                            0   \n",
       "\n",
       "   occupation_type_Security staff  occupation_type_Unknown  \\\n",
       "0                               0                        1   \n",
       "1                               0                        0   \n",
       "2                               0                        0   \n",
       "3                               0                        0   \n",
       "4                               0                        0   \n",
       "\n",
       "   occupation_type_Waiters/barmen staff  \n",
       "0                                     0  \n",
       "1                                     0  \n",
       "2                                     0  \n",
       "3                                     0  \n",
       "4                                     0  \n",
       "\n",
       "[5 rows x 33 columns]"
      ]
     },
     "execution_count": 2,
     "metadata": {},
     "output_type": "execute_result"
    }
   ],
   "source": [
    "# Read dataset files\n",
    "df = pd.read_csv('dataset/train_data_cleaned.csv')\n",
    "df.head()"
   ]
  },
  {
   "cell_type": "code",
   "execution_count": 3,
   "id": "788794bc",
   "metadata": {},
   "outputs": [
    {
     "name": "stdout",
     "output_type": "stream",
     "text": [
      "(43508, 32) (43508,)\n"
     ]
    }
   ],
   "source": [
    "# Split features and labels\n",
    "X = df.drop('credit_card_default', axis=1)\n",
    "y = df['credit_card_default']\n",
    "target_names = [\"no-default\", \"default\"]\n",
    "\n",
    "print(X.shape, y.shape)"
   ]
  },
  {
   "cell_type": "code",
   "execution_count": 4,
   "id": "527e81f5",
   "metadata": {},
   "outputs": [],
   "source": [
    "# Use train_test_split to create training and testing data\n",
    "from sklearn.model_selection import train_test_split\n",
    "X_train, X_test, y_train, y_test = train_test_split(X, y, random_state=1)"
   ]
  },
  {
   "cell_type": "code",
   "execution_count": 5,
   "id": "9ee4a22f",
   "metadata": {},
   "outputs": [],
   "source": [
    "from sklearn.preprocessing import StandardScaler\n",
    "# Create a StandardScater model and fit it to the training data\n",
    "X_scaler = StandardScaler().fit(X_train)"
   ]
  },
  {
   "cell_type": "code",
   "execution_count": 6,
   "id": "d9c7d06c",
   "metadata": {},
   "outputs": [],
   "source": [
    "# Transform the training and testing data using the X_scaler\n",
    "X_train_scaled = X_scaler.transform(X_train)\n",
    "X_test_scaled = X_scaler.transform(X_test)"
   ]
  },
  {
   "cell_type": "code",
   "execution_count": 7,
   "id": "cced5501",
   "metadata": {},
   "outputs": [
    {
     "data": {
      "text/plain": [
       "array([[1., 0.],\n",
       "       [1., 0.],\n",
       "       [1., 0.],\n",
       "       ...,\n",
       "       [1., 0.],\n",
       "       [1., 0.],\n",
       "       [1., 0.]], dtype=float32)"
      ]
     },
     "execution_count": 7,
     "metadata": {},
     "output_type": "execute_result"
    }
   ],
   "source": [
    "from tensorflow.keras.utils import to_categorical\n",
    "\n",
    "# One-hot encoding\n",
    "y_train_categorical = to_categorical(y_train)\n",
    "y_test_categorical = to_categorical(y_test)\n",
    "y_train_categorical"
   ]
  },
  {
   "cell_type": "code",
   "execution_count": 8,
   "id": "782ccf5e",
   "metadata": {},
   "outputs": [
    {
     "data": {
      "text/plain": [
       "(32631, 32)"
      ]
     },
     "execution_count": 8,
     "metadata": {},
     "output_type": "execute_result"
    }
   ],
   "source": [
    "X_train_scaled.shape"
   ]
  },
  {
   "cell_type": "markdown",
   "id": "1b9127a1",
   "metadata": {},
   "source": [
    "### Create a Neural Network Model with 1 Hiden Layer"
   ]
  },
  {
   "cell_type": "code",
   "execution_count": 9,
   "id": "4067f7ae",
   "metadata": {},
   "outputs": [],
   "source": [
    "from tensorflow.keras.models import Sequential\n",
    "from tensorflow.keras.layers import Dense"
   ]
  },
  {
   "cell_type": "code",
   "execution_count": 10,
   "id": "703c87d7",
   "metadata": {},
   "outputs": [],
   "source": [
    "# Create model and add 1 hiden layers\n",
    "model = Sequential()\n",
    "model.add(Dense(units=100, activation='relu', input_dim=X_train_scaled.shape[1]))\n",
    "model.add(Dense(units=2, activation='softmax'))"
   ]
  },
  {
   "cell_type": "code",
   "execution_count": 11,
   "id": "0b440147",
   "metadata": {},
   "outputs": [],
   "source": [
    "# Compile and fit the model\n",
    "model.compile(optimizer='adam',\n",
    "              loss='categorical_crossentropy',\n",
    "              metrics=['accuracy'])"
   ]
  },
  {
   "cell_type": "code",
   "execution_count": 12,
   "id": "562a3905",
   "metadata": {},
   "outputs": [
    {
     "name": "stdout",
     "output_type": "stream",
     "text": [
      "Model: \"sequential\"\n",
      "_________________________________________________________________\n",
      "Layer (type)                 Output Shape              Param #   \n",
      "=================================================================\n",
      "dense (Dense)                (None, 100)               3300      \n",
      "_________________________________________________________________\n",
      "dense_1 (Dense)              (None, 2)                 202       \n",
      "=================================================================\n",
      "Total params: 3,502\n",
      "Trainable params: 3,502\n",
      "Non-trainable params: 0\n",
      "_________________________________________________________________\n"
     ]
    }
   ],
   "source": [
    "model.summary()"
   ]
  },
  {
   "cell_type": "code",
   "execution_count": 13,
   "id": "9de21402",
   "metadata": {},
   "outputs": [
    {
     "name": "stdout",
     "output_type": "stream",
     "text": [
      "Epoch 1/100\n",
      "1020/1020 - 1s - loss: 0.0767 - accuracy: 0.9754 - val_loss: 0.0549 - val_accuracy: 0.9793\n",
      "Epoch 2/100\n",
      "1020/1020 - 1s - loss: 0.0506 - accuracy: 0.9801 - val_loss: 0.0561 - val_accuracy: 0.9761\n",
      "Epoch 3/100\n",
      "1020/1020 - 1s - loss: 0.0491 - accuracy: 0.9800 - val_loss: 0.0545 - val_accuracy: 0.9775\n",
      "Epoch 4/100\n",
      "1020/1020 - 1s - loss: 0.0479 - accuracy: 0.9801 - val_loss: 0.0557 - val_accuracy: 0.9783\n",
      "Epoch 5/100\n",
      "1020/1020 - 1s - loss: 0.0474 - accuracy: 0.9803 - val_loss: 0.0553 - val_accuracy: 0.9794\n",
      "Epoch 6/100\n",
      "1020/1020 - 1s - loss: 0.0468 - accuracy: 0.9802 - val_loss: 0.0543 - val_accuracy: 0.9786\n",
      "Epoch 7/100\n",
      "1020/1020 - 1s - loss: 0.0464 - accuracy: 0.9804 - val_loss: 0.0562 - val_accuracy: 0.9772\n",
      "Epoch 8/100\n",
      "1020/1020 - 1s - loss: 0.0459 - accuracy: 0.9808 - val_loss: 0.0540 - val_accuracy: 0.9757\n",
      "Epoch 9/100\n",
      "1020/1020 - 1s - loss: 0.0454 - accuracy: 0.9809 - val_loss: 0.0554 - val_accuracy: 0.9785\n",
      "Epoch 10/100\n",
      "1020/1020 - 1s - loss: 0.0453 - accuracy: 0.9805 - val_loss: 0.0532 - val_accuracy: 0.9781\n",
      "Epoch 11/100\n",
      "1020/1020 - 1s - loss: 0.0444 - accuracy: 0.9810 - val_loss: 0.0544 - val_accuracy: 0.9772\n",
      "Epoch 12/100\n",
      "1020/1020 - 1s - loss: 0.0441 - accuracy: 0.9812 - val_loss: 0.0544 - val_accuracy: 0.9786\n",
      "Epoch 13/100\n",
      "1020/1020 - 1s - loss: 0.0438 - accuracy: 0.9812 - val_loss: 0.0534 - val_accuracy: 0.9767\n",
      "Epoch 14/100\n",
      "1020/1020 - 1s - loss: 0.0431 - accuracy: 0.9814 - val_loss: 0.0535 - val_accuracy: 0.9784\n",
      "Epoch 15/100\n",
      "1020/1020 - 1s - loss: 0.0428 - accuracy: 0.9815 - val_loss: 0.0539 - val_accuracy: 0.9761\n",
      "Epoch 16/100\n",
      "1020/1020 - 1s - loss: 0.0422 - accuracy: 0.9816 - val_loss: 0.0560 - val_accuracy: 0.9789\n",
      "Epoch 17/100\n",
      "1020/1020 - 1s - loss: 0.0429 - accuracy: 0.9810 - val_loss: 0.0532 - val_accuracy: 0.9773\n",
      "Epoch 18/100\n",
      "1020/1020 - 1s - loss: 0.0417 - accuracy: 0.9814 - val_loss: 0.0526 - val_accuracy: 0.9782\n",
      "Epoch 19/100\n",
      "1020/1020 - 1s - loss: 0.0409 - accuracy: 0.9820 - val_loss: 0.0535 - val_accuracy: 0.9773\n",
      "Epoch 20/100\n",
      "1020/1020 - 1s - loss: 0.0412 - accuracy: 0.9823 - val_loss: 0.0533 - val_accuracy: 0.9773\n",
      "Epoch 21/100\n",
      "1020/1020 - 1s - loss: 0.0412 - accuracy: 0.9816 - val_loss: 0.0524 - val_accuracy: 0.9778\n",
      "Epoch 22/100\n",
      "1020/1020 - 1s - loss: 0.0403 - accuracy: 0.9820 - val_loss: 0.0550 - val_accuracy: 0.9745\n",
      "Epoch 23/100\n",
      "1020/1020 - 1s - loss: 0.0401 - accuracy: 0.9824 - val_loss: 0.0527 - val_accuracy: 0.9761\n",
      "Epoch 24/100\n",
      "1020/1020 - 1s - loss: 0.0395 - accuracy: 0.9832 - val_loss: 0.0545 - val_accuracy: 0.9771\n",
      "Epoch 25/100\n",
      "1020/1020 - 1s - loss: 0.0393 - accuracy: 0.9827 - val_loss: 0.0556 - val_accuracy: 0.9782\n",
      "Epoch 26/100\n",
      "1020/1020 - 1s - loss: 0.0392 - accuracy: 0.9827 - val_loss: 0.0552 - val_accuracy: 0.9766\n",
      "Epoch 27/100\n",
      "1020/1020 - 1s - loss: 0.0388 - accuracy: 0.9826 - val_loss: 0.0536 - val_accuracy: 0.9765\n",
      "Epoch 28/100\n",
      "1020/1020 - 1s - loss: 0.0399 - accuracy: 0.9830 - val_loss: 0.0548 - val_accuracy: 0.9766\n",
      "Epoch 29/100\n",
      "1020/1020 - 1s - loss: 0.0385 - accuracy: 0.9822 - val_loss: 0.0553 - val_accuracy: 0.9779\n",
      "Epoch 30/100\n",
      "1020/1020 - 1s - loss: 0.0383 - accuracy: 0.9827 - val_loss: 0.0553 - val_accuracy: 0.9770\n",
      "Epoch 31/100\n",
      "1020/1020 - 1s - loss: 0.0378 - accuracy: 0.9830 - val_loss: 0.0552 - val_accuracy: 0.9775\n",
      "Epoch 32/100\n",
      "1020/1020 - 1s - loss: 0.0373 - accuracy: 0.9831 - val_loss: 0.0562 - val_accuracy: 0.9770\n",
      "Epoch 33/100\n",
      "1020/1020 - 1s - loss: 0.0376 - accuracy: 0.9830 - val_loss: 0.0558 - val_accuracy: 0.9743\n",
      "Epoch 34/100\n",
      "1020/1020 - 1s - loss: 0.0369 - accuracy: 0.9830 - val_loss: 0.0570 - val_accuracy: 0.9743\n",
      "Epoch 35/100\n",
      "1020/1020 - 1s - loss: 0.0363 - accuracy: 0.9834 - val_loss: 0.0574 - val_accuracy: 0.9760\n",
      "Epoch 36/100\n",
      "1020/1020 - 1s - loss: 0.0366 - accuracy: 0.9832 - val_loss: 0.0580 - val_accuracy: 0.9713\n",
      "Epoch 37/100\n",
      "1020/1020 - 1s - loss: 0.0366 - accuracy: 0.9842 - val_loss: 0.0573 - val_accuracy: 0.9743\n",
      "Epoch 38/100\n",
      "1020/1020 - 1s - loss: 0.0359 - accuracy: 0.9837 - val_loss: 0.0598 - val_accuracy: 0.9737\n",
      "Epoch 39/100\n",
      "1020/1020 - 1s - loss: 0.0375 - accuracy: 0.9837 - val_loss: 0.0583 - val_accuracy: 0.9774\n",
      "Epoch 40/100\n",
      "1020/1020 - 1s - loss: 0.0356 - accuracy: 0.9838 - val_loss: 0.0580 - val_accuracy: 0.9759\n",
      "Epoch 41/100\n",
      "1020/1020 - 1s - loss: 0.0354 - accuracy: 0.9840 - val_loss: 0.0582 - val_accuracy: 0.9736\n",
      "Epoch 42/100\n",
      "1020/1020 - 1s - loss: 0.0352 - accuracy: 0.9846 - val_loss: 0.0588 - val_accuracy: 0.9771\n",
      "Epoch 43/100\n",
      "1020/1020 - 1s - loss: 0.0348 - accuracy: 0.9838 - val_loss: 0.0589 - val_accuracy: 0.9747\n",
      "Epoch 44/100\n",
      "1020/1020 - 1s - loss: 0.0349 - accuracy: 0.9841 - val_loss: 0.0600 - val_accuracy: 0.9754\n",
      "Epoch 45/100\n",
      "1020/1020 - 1s - loss: 0.0350 - accuracy: 0.9846 - val_loss: 0.0593 - val_accuracy: 0.9748\n",
      "Epoch 46/100\n",
      "1020/1020 - 1s - loss: 0.0342 - accuracy: 0.9845 - val_loss: 0.0608 - val_accuracy: 0.9761\n",
      "Epoch 47/100\n",
      "1020/1020 - 1s - loss: 0.0340 - accuracy: 0.9852 - val_loss: 0.0620 - val_accuracy: 0.9738\n",
      "Epoch 48/100\n",
      "1020/1020 - 1s - loss: 0.0340 - accuracy: 0.9847 - val_loss: 0.0602 - val_accuracy: 0.9742\n",
      "Epoch 49/100\n",
      "1020/1020 - 1s - loss: 0.0335 - accuracy: 0.9850 - val_loss: 0.0615 - val_accuracy: 0.9756\n",
      "Epoch 50/100\n",
      "1020/1020 - 1s - loss: 0.0336 - accuracy: 0.9854 - val_loss: 0.0644 - val_accuracy: 0.9775\n",
      "Epoch 51/100\n",
      "1020/1020 - 1s - loss: 0.0330 - accuracy: 0.9854 - val_loss: 0.0616 - val_accuracy: 0.9758\n",
      "Epoch 52/100\n",
      "1020/1020 - 1s - loss: 0.0328 - accuracy: 0.9854 - val_loss: 0.0641 - val_accuracy: 0.9761\n",
      "Epoch 53/100\n",
      "1020/1020 - 1s - loss: 0.0326 - accuracy: 0.9857 - val_loss: 0.0647 - val_accuracy: 0.9743\n",
      "Epoch 54/100\n",
      "1020/1020 - 1s - loss: 0.0332 - accuracy: 0.9848 - val_loss: 0.0627 - val_accuracy: 0.9755\n",
      "Epoch 55/100\n",
      "1020/1020 - 1s - loss: 0.0320 - accuracy: 0.9860 - val_loss: 0.0634 - val_accuracy: 0.9741\n",
      "Epoch 56/100\n",
      "1020/1020 - 1s - loss: 0.0319 - accuracy: 0.9858 - val_loss: 0.0628 - val_accuracy: 0.9754\n",
      "Epoch 57/100\n",
      "1020/1020 - 1s - loss: 0.0319 - accuracy: 0.9866 - val_loss: 0.0632 - val_accuracy: 0.9736\n",
      "Epoch 58/100\n",
      "1020/1020 - 1s - loss: 0.0316 - accuracy: 0.9861 - val_loss: 0.0649 - val_accuracy: 0.9733\n",
      "Epoch 59/100\n",
      "1020/1020 - 1s - loss: 0.0316 - accuracy: 0.9854 - val_loss: 0.0654 - val_accuracy: 0.9740\n",
      "Epoch 60/100\n",
      "1020/1020 - 1s - loss: 0.0312 - accuracy: 0.9861 - val_loss: 0.0655 - val_accuracy: 0.9734\n",
      "Epoch 61/100\n",
      "1020/1020 - 1s - loss: 0.0309 - accuracy: 0.9864 - val_loss: 0.0656 - val_accuracy: 0.9737\n",
      "Epoch 62/100\n",
      "1020/1020 - 1s - loss: 0.0305 - accuracy: 0.9864 - val_loss: 0.0640 - val_accuracy: 0.9742\n",
      "Epoch 63/100\n",
      "1020/1020 - 1s - loss: 0.0303 - accuracy: 0.9870 - val_loss: 0.0662 - val_accuracy: 0.9748\n",
      "Epoch 64/100\n",
      "1020/1020 - 1s - loss: 0.0302 - accuracy: 0.9869 - val_loss: 0.0664 - val_accuracy: 0.9739\n",
      "Epoch 65/100\n",
      "1020/1020 - 1s - loss: 0.0306 - accuracy: 0.9865 - val_loss: 0.0674 - val_accuracy: 0.9705\n",
      "Epoch 66/100\n",
      "1020/1020 - 1s - loss: 0.0301 - accuracy: 0.9867 - val_loss: 0.0684 - val_accuracy: 0.9721\n",
      "Epoch 67/100\n",
      "1020/1020 - 1s - loss: 0.0296 - accuracy: 0.9870 - val_loss: 0.0670 - val_accuracy: 0.9744\n",
      "Epoch 68/100\n",
      "1020/1020 - 1s - loss: 0.0297 - accuracy: 0.9873 - val_loss: 0.0687 - val_accuracy: 0.9739\n",
      "Epoch 69/100\n",
      "1020/1020 - 1s - loss: 0.0341 - accuracy: 0.9874 - val_loss: 0.0700 - val_accuracy: 0.9698\n",
      "Epoch 70/100\n",
      "1020/1020 - 1s - loss: 0.0285 - accuracy: 0.9874 - val_loss: 0.0711 - val_accuracy: 0.9754\n",
      "Epoch 71/100\n",
      "1020/1020 - 1s - loss: 0.0286 - accuracy: 0.9874 - val_loss: 0.0691 - val_accuracy: 0.9726\n",
      "Epoch 72/100\n",
      "1020/1020 - 1s - loss: 0.0287 - accuracy: 0.9874 - val_loss: 0.0691 - val_accuracy: 0.9743\n",
      "Epoch 73/100\n",
      "1020/1020 - 1s - loss: 0.0283 - accuracy: 0.9879 - val_loss: 0.0701 - val_accuracy: 0.9762\n",
      "Epoch 74/100\n",
      "1020/1020 - 1s - loss: 0.0280 - accuracy: 0.9880 - val_loss: 0.0717 - val_accuracy: 0.9700\n",
      "Epoch 75/100\n",
      "1020/1020 - 1s - loss: 0.0286 - accuracy: 0.9872 - val_loss: 0.0710 - val_accuracy: 0.9752\n",
      "Epoch 76/100\n",
      "1020/1020 - 1s - loss: 0.0273 - accuracy: 0.9881 - val_loss: 0.0717 - val_accuracy: 0.9733\n",
      "Epoch 77/100\n",
      "1020/1020 - 1s - loss: 0.0277 - accuracy: 0.9882 - val_loss: 0.0719 - val_accuracy: 0.9752\n",
      "Epoch 78/100\n",
      "1020/1020 - 1s - loss: 0.0277 - accuracy: 0.9875 - val_loss: 0.0716 - val_accuracy: 0.9723\n",
      "Epoch 79/100\n",
      "1020/1020 - 1s - loss: 0.0274 - accuracy: 0.9882 - val_loss: 0.0740 - val_accuracy: 0.9743\n"
     ]
    },
    {
     "name": "stdout",
     "output_type": "stream",
     "text": [
      "Epoch 80/100\n",
      "1020/1020 - 1s - loss: 0.0272 - accuracy: 0.9887 - val_loss: 0.0711 - val_accuracy: 0.9729\n",
      "Epoch 81/100\n",
      "1020/1020 - 1s - loss: 0.0274 - accuracy: 0.9879 - val_loss: 0.0720 - val_accuracy: 0.9747\n",
      "Epoch 82/100\n",
      "1020/1020 - 1s - loss: 0.0266 - accuracy: 0.9885 - val_loss: 0.0764 - val_accuracy: 0.9732\n",
      "Epoch 83/100\n",
      "1020/1020 - 1s - loss: 0.0264 - accuracy: 0.9887 - val_loss: 0.0714 - val_accuracy: 0.9748\n",
      "Epoch 84/100\n",
      "1020/1020 - 1s - loss: 0.0268 - accuracy: 0.9887 - val_loss: 0.0772 - val_accuracy: 0.9741\n",
      "Epoch 85/100\n",
      "1020/1020 - 1s - loss: 0.0261 - accuracy: 0.9884 - val_loss: 0.0755 - val_accuracy: 0.9722\n",
      "Epoch 86/100\n",
      "1020/1020 - 1s - loss: 0.0259 - accuracy: 0.9888 - val_loss: 0.0777 - val_accuracy: 0.9720\n",
      "Epoch 87/100\n",
      "1020/1020 - 1s - loss: 0.0253 - accuracy: 0.9888 - val_loss: 0.0780 - val_accuracy: 0.9729\n",
      "Epoch 88/100\n",
      "1020/1020 - 1s - loss: 0.0256 - accuracy: 0.9888 - val_loss: 0.0780 - val_accuracy: 0.9754\n",
      "Epoch 89/100\n",
      "1020/1020 - 1s - loss: 0.0255 - accuracy: 0.9892 - val_loss: 0.0825 - val_accuracy: 0.9740\n",
      "Epoch 90/100\n",
      "1020/1020 - 1s - loss: 0.0256 - accuracy: 0.9893 - val_loss: 0.0770 - val_accuracy: 0.9735\n",
      "Epoch 91/100\n",
      "1020/1020 - 1s - loss: 0.0257 - accuracy: 0.9895 - val_loss: 0.0821 - val_accuracy: 0.9699\n",
      "Epoch 92/100\n",
      "1020/1020 - 1s - loss: 0.0249 - accuracy: 0.9891 - val_loss: 0.0800 - val_accuracy: 0.9740\n",
      "Epoch 93/100\n",
      "1020/1020 - 1s - loss: 0.0246 - accuracy: 0.9893 - val_loss: 0.0819 - val_accuracy: 0.9743\n",
      "Epoch 94/100\n",
      "1020/1020 - 1s - loss: 0.0249 - accuracy: 0.9893 - val_loss: 0.0817 - val_accuracy: 0.9703\n",
      "Epoch 95/100\n",
      "1020/1020 - 1s - loss: 0.0243 - accuracy: 0.9898 - val_loss: 0.0809 - val_accuracy: 0.9734\n",
      "Epoch 96/100\n",
      "1020/1020 - 1s - loss: 0.0243 - accuracy: 0.9896 - val_loss: 0.0841 - val_accuracy: 0.9735\n",
      "Epoch 97/100\n",
      "1020/1020 - 1s - loss: 0.0243 - accuracy: 0.9900 - val_loss: 0.0859 - val_accuracy: 0.9743\n",
      "Epoch 98/100\n",
      "1020/1020 - 1s - loss: 0.0236 - accuracy: 0.9901 - val_loss: 0.0838 - val_accuracy: 0.9739\n",
      "Epoch 99/100\n",
      "1020/1020 - 1s - loss: 0.0239 - accuracy: 0.9902 - val_loss: 0.0834 - val_accuracy: 0.9737\n",
      "Epoch 100/100\n",
      "1020/1020 - 1s - loss: 0.0245 - accuracy: 0.9896 - val_loss: 0.0868 - val_accuracy: 0.9754\n"
     ]
    }
   ],
   "source": [
    "history = model.fit(X_train_scaled, \n",
    "                    y_train_categorical, \n",
    "                    epochs=100,\n",
    "                    shuffle=True,\n",
    "                    verbose=2,                    \n",
    "                    validation_data=(X_test_scaled, y_test_categorical)\n",
    "                   )"
   ]
  },
  {
   "cell_type": "code",
   "execution_count": null,
   "id": "4350b20c",
   "metadata": {},
   "outputs": [],
   "source": []
  },
  {
   "cell_type": "markdown",
   "id": "b90e524b",
   "metadata": {},
   "source": [
    "### Create a Deep Learning Model with 2 Hiden Layers"
   ]
  },
  {
   "cell_type": "code",
   "execution_count": 14,
   "id": "79357349",
   "metadata": {},
   "outputs": [],
   "source": [
    "# Create model and add two hiden layers\n",
    "deep_model = Sequential()\n",
    "deep_model.add(Dense(units=100, activation='relu', input_dim=X_train_scaled.shape[1]))\n",
    "deep_model.add(Dense(units=100, activation='relu'))\n",
    "deep_model.add(Dense(units=2, activation='softmax'))"
   ]
  },
  {
   "cell_type": "code",
   "execution_count": 15,
   "id": "021b692d",
   "metadata": {},
   "outputs": [],
   "source": [
    "# Compile and fit the model\n",
    "deep_model.compile(optimizer='adam',\n",
    "              loss='categorical_crossentropy',\n",
    "              metrics=['accuracy'])"
   ]
  },
  {
   "cell_type": "code",
   "execution_count": 16,
   "id": "5f1db49d",
   "metadata": {},
   "outputs": [
    {
     "name": "stdout",
     "output_type": "stream",
     "text": [
      "Model: \"sequential_1\"\n",
      "_________________________________________________________________\n",
      "Layer (type)                 Output Shape              Param #   \n",
      "=================================================================\n",
      "dense_2 (Dense)              (None, 100)               3300      \n",
      "_________________________________________________________________\n",
      "dense_3 (Dense)              (None, 100)               10100     \n",
      "_________________________________________________________________\n",
      "dense_4 (Dense)              (None, 2)                 202       \n",
      "=================================================================\n",
      "Total params: 13,602\n",
      "Trainable params: 13,602\n",
      "Non-trainable params: 0\n",
      "_________________________________________________________________\n"
     ]
    }
   ],
   "source": [
    "deep_model.summary()"
   ]
  },
  {
   "cell_type": "code",
   "execution_count": 17,
   "id": "c637ffd5",
   "metadata": {},
   "outputs": [
    {
     "name": "stdout",
     "output_type": "stream",
     "text": [
      "Epoch 1/100\n",
      "1020/1020 - 1s - loss: 0.0763 - accuracy: 0.9769 - val_loss: 0.0620 - val_accuracy: 0.9785\n",
      "Epoch 2/100\n",
      "1020/1020 - 1s - loss: 0.0517 - accuracy: 0.9793 - val_loss: 0.0573 - val_accuracy: 0.9762\n",
      "Epoch 3/100\n",
      "1020/1020 - 1s - loss: 0.0510 - accuracy: 0.9796 - val_loss: 0.0548 - val_accuracy: 0.9781\n",
      "Epoch 4/100\n",
      "1020/1020 - 1s - loss: 0.0478 - accuracy: 0.9802 - val_loss: 0.0551 - val_accuracy: 0.9767\n",
      "Epoch 5/100\n",
      "1020/1020 - 1s - loss: 0.0463 - accuracy: 0.9807 - val_loss: 0.0536 - val_accuracy: 0.9779\n",
      "Epoch 6/100\n",
      "1020/1020 - 1s - loss: 0.0455 - accuracy: 0.9810 - val_loss: 0.0535 - val_accuracy: 0.9773\n",
      "Epoch 7/100\n",
      "1020/1020 - 1s - loss: 0.0447 - accuracy: 0.9810 - val_loss: 0.0529 - val_accuracy: 0.9782\n",
      "Epoch 8/100\n",
      "1020/1020 - 1s - loss: 0.0436 - accuracy: 0.9815 - val_loss: 0.0521 - val_accuracy: 0.9771\n",
      "Epoch 9/100\n",
      "1020/1020 - 1s - loss: 0.0441 - accuracy: 0.9810 - val_loss: 0.0534 - val_accuracy: 0.9784\n",
      "Epoch 10/100\n",
      "1020/1020 - 1s - loss: 0.0416 - accuracy: 0.9814 - val_loss: 0.0522 - val_accuracy: 0.9779\n",
      "Epoch 11/100\n",
      "1020/1020 - 1s - loss: 0.0405 - accuracy: 0.9820 - val_loss: 0.0523 - val_accuracy: 0.9778\n",
      "Epoch 12/100\n",
      "1020/1020 - 1s - loss: 0.0396 - accuracy: 0.9819 - val_loss: 0.0515 - val_accuracy: 0.9760\n",
      "Epoch 13/100\n",
      "1020/1020 - 1s - loss: 0.0382 - accuracy: 0.9829 - val_loss: 0.0511 - val_accuracy: 0.9786\n",
      "Epoch 14/100\n",
      "1020/1020 - 1s - loss: 0.0370 - accuracy: 0.9832 - val_loss: 0.0572 - val_accuracy: 0.9751\n",
      "Epoch 15/100\n",
      "1020/1020 - 1s - loss: 0.0371 - accuracy: 0.9831 - val_loss: 0.0537 - val_accuracy: 0.9768\n",
      "Epoch 16/100\n",
      "1020/1020 - 1s - loss: 0.0356 - accuracy: 0.9835 - val_loss: 0.0563 - val_accuracy: 0.9772\n",
      "Epoch 17/100\n",
      "1020/1020 - 1s - loss: 0.0359 - accuracy: 0.9844 - val_loss: 0.0577 - val_accuracy: 0.9771\n",
      "Epoch 18/100\n",
      "1020/1020 - 1s - loss: 0.0343 - accuracy: 0.9843 - val_loss: 0.0568 - val_accuracy: 0.9775\n",
      "Epoch 19/100\n",
      "1020/1020 - 1s - loss: 0.0331 - accuracy: 0.9850 - val_loss: 0.0616 - val_accuracy: 0.9766\n",
      "Epoch 20/100\n",
      "1020/1020 - 1s - loss: 0.0318 - accuracy: 0.9856 - val_loss: 0.0609 - val_accuracy: 0.9750\n",
      "Epoch 21/100\n",
      "1020/1020 - 1s - loss: 0.0316 - accuracy: 0.9857 - val_loss: 0.0629 - val_accuracy: 0.9764\n",
      "Epoch 22/100\n",
      "1020/1020 - 1s - loss: 0.0307 - accuracy: 0.9861 - val_loss: 0.0656 - val_accuracy: 0.9740\n",
      "Epoch 23/100\n",
      "1020/1020 - 1s - loss: 0.0293 - accuracy: 0.9869 - val_loss: 0.0700 - val_accuracy: 0.9745\n",
      "Epoch 24/100\n",
      "1020/1020 - 1s - loss: 0.0285 - accuracy: 0.9868 - val_loss: 0.0649 - val_accuracy: 0.9745\n",
      "Epoch 25/100\n",
      "1020/1020 - 1s - loss: 0.0287 - accuracy: 0.9873 - val_loss: 0.0725 - val_accuracy: 0.9717\n",
      "Epoch 26/100\n",
      "1020/1020 - 1s - loss: 0.0275 - accuracy: 0.9880 - val_loss: 0.0702 - val_accuracy: 0.9750\n",
      "Epoch 27/100\n",
      "1020/1020 - 1s - loss: 0.0260 - accuracy: 0.9884 - val_loss: 0.0764 - val_accuracy: 0.9743\n",
      "Epoch 28/100\n",
      "1020/1020 - 1s - loss: 0.0258 - accuracy: 0.9888 - val_loss: 0.0808 - val_accuracy: 0.9754\n",
      "Epoch 29/100\n",
      "1020/1020 - 1s - loss: 0.0244 - accuracy: 0.9891 - val_loss: 0.0879 - val_accuracy: 0.9743\n",
      "Epoch 30/100\n",
      "1020/1020 - 1s - loss: 0.0236 - accuracy: 0.9891 - val_loss: 0.0875 - val_accuracy: 0.9748\n",
      "Epoch 31/100\n",
      "1020/1020 - 1s - loss: 0.0227 - accuracy: 0.9899 - val_loss: 0.0916 - val_accuracy: 0.9739\n",
      "Epoch 32/100\n",
      "1020/1020 - 1s - loss: 0.0273 - accuracy: 0.9899 - val_loss: 0.0875 - val_accuracy: 0.9735\n",
      "Epoch 33/100\n",
      "1020/1020 - 1s - loss: 0.0213 - accuracy: 0.9903 - val_loss: 0.0893 - val_accuracy: 0.9721\n",
      "Epoch 34/100\n",
      "1020/1020 - 1s - loss: 0.0201 - accuracy: 0.9910 - val_loss: 0.0971 - val_accuracy: 0.9708\n",
      "Epoch 35/100\n",
      "1020/1020 - 1s - loss: 0.0193 - accuracy: 0.9915 - val_loss: 0.0949 - val_accuracy: 0.9720\n",
      "Epoch 36/100\n",
      "1020/1020 - 1s - loss: 0.0190 - accuracy: 0.9923 - val_loss: 0.0948 - val_accuracy: 0.9721\n",
      "Epoch 37/100\n",
      "1020/1020 - 1s - loss: 0.0195 - accuracy: 0.9918 - val_loss: 0.0978 - val_accuracy: 0.9722\n",
      "Epoch 38/100\n",
      "1020/1020 - 1s - loss: 0.0175 - accuracy: 0.9928 - val_loss: 0.0979 - val_accuracy: 0.9711\n",
      "Epoch 39/100\n",
      "1020/1020 - 1s - loss: 0.0191 - accuracy: 0.9919 - val_loss: 0.1119 - val_accuracy: 0.9698\n",
      "Epoch 40/100\n",
      "1020/1020 - 1s - loss: 0.0170 - accuracy: 0.9927 - val_loss: 0.1159 - val_accuracy: 0.9721\n",
      "Epoch 41/100\n",
      "1020/1020 - 1s - loss: 0.0164 - accuracy: 0.9930 - val_loss: 0.1161 - val_accuracy: 0.9730\n",
      "Epoch 42/100\n",
      "1020/1020 - 1s - loss: 0.0165 - accuracy: 0.9926 - val_loss: 0.1101 - val_accuracy: 0.9720\n",
      "Epoch 43/100\n",
      "1020/1020 - 1s - loss: 0.0156 - accuracy: 0.9934 - val_loss: 0.1219 - val_accuracy: 0.9743\n",
      "Epoch 44/100\n",
      "1020/1020 - 1s - loss: 0.0145 - accuracy: 0.9940 - val_loss: 0.1347 - val_accuracy: 0.9739\n",
      "Epoch 45/100\n",
      "1020/1020 - 1s - loss: 0.0155 - accuracy: 0.9932 - val_loss: 0.1295 - val_accuracy: 0.9729\n",
      "Epoch 46/100\n",
      "1020/1020 - 1s - loss: 0.0161 - accuracy: 0.9937 - val_loss: 0.1228 - val_accuracy: 0.9734\n",
      "Epoch 47/100\n",
      "1020/1020 - 1s - loss: 0.0136 - accuracy: 0.9942 - val_loss: 0.1205 - val_accuracy: 0.9735\n",
      "Epoch 48/100\n",
      "1020/1020 - 1s - loss: 0.0141 - accuracy: 0.9939 - val_loss: 0.1232 - val_accuracy: 0.9717\n",
      "Epoch 49/100\n",
      "1020/1020 - 1s - loss: 0.0120 - accuracy: 0.9948 - val_loss: 0.1436 - val_accuracy: 0.9735\n",
      "Epoch 50/100\n",
      "1020/1020 - 1s - loss: 0.0133 - accuracy: 0.9944 - val_loss: 0.1395 - val_accuracy: 0.9752\n",
      "Epoch 51/100\n",
      "1020/1020 - 1s - loss: 0.0129 - accuracy: 0.9949 - val_loss: 0.1427 - val_accuracy: 0.9743\n",
      "Epoch 52/100\n",
      "1020/1020 - 1s - loss: 0.0136 - accuracy: 0.9945 - val_loss: 0.1508 - val_accuracy: 0.9662\n",
      "Epoch 53/100\n",
      "1020/1020 - 1s - loss: 0.0123 - accuracy: 0.9947 - val_loss: 0.1664 - val_accuracy: 0.9744\n",
      "Epoch 54/100\n",
      "1020/1020 - 1s - loss: 0.0105 - accuracy: 0.9956 - val_loss: 0.1565 - val_accuracy: 0.9725\n",
      "Epoch 55/100\n",
      "1020/1020 - 1s - loss: 0.0107 - accuracy: 0.9956 - val_loss: 0.1572 - val_accuracy: 0.9715\n",
      "Epoch 56/100\n",
      "1020/1020 - 1s - loss: 0.0116 - accuracy: 0.9951 - val_loss: 0.1622 - val_accuracy: 0.9716\n",
      "Epoch 57/100\n",
      "1020/1020 - 1s - loss: 0.0107 - accuracy: 0.9956 - val_loss: 0.1637 - val_accuracy: 0.9712\n",
      "Epoch 58/100\n",
      "1020/1020 - 1s - loss: 0.0109 - accuracy: 0.9957 - val_loss: 0.1695 - val_accuracy: 0.9702\n",
      "Epoch 59/100\n",
      "1020/1020 - 1s - loss: 0.0111 - accuracy: 0.9958 - val_loss: 0.1709 - val_accuracy: 0.9686\n",
      "Epoch 60/100\n",
      "1020/1020 - 1s - loss: 0.0108 - accuracy: 0.9958 - val_loss: 0.1731 - val_accuracy: 0.9698\n",
      "Epoch 61/100\n",
      "1020/1020 - 1s - loss: 0.0094 - accuracy: 0.9962 - val_loss: 0.1796 - val_accuracy: 0.9703\n",
      "Epoch 62/100\n",
      "1020/1020 - 1s - loss: 0.0092 - accuracy: 0.9960 - val_loss: 0.1828 - val_accuracy: 0.9727\n",
      "Epoch 63/100\n",
      "1020/1020 - 1s - loss: 0.0104 - accuracy: 0.9960 - val_loss: 0.1885 - val_accuracy: 0.9730\n",
      "Epoch 64/100\n",
      "1020/1020 - 1s - loss: 0.0083 - accuracy: 0.9965 - val_loss: 0.1951 - val_accuracy: 0.9718\n",
      "Epoch 65/100\n",
      "1020/1020 - 1s - loss: 0.0085 - accuracy: 0.9963 - val_loss: 0.1922 - val_accuracy: 0.9711\n",
      "Epoch 66/100\n",
      "1020/1020 - 1s - loss: 0.0097 - accuracy: 0.9959 - val_loss: 0.1855 - val_accuracy: 0.9702\n",
      "Epoch 67/100\n",
      "1020/1020 - 1s - loss: 0.0100 - accuracy: 0.9961 - val_loss: 0.1900 - val_accuracy: 0.9729\n",
      "Epoch 68/100\n",
      "1020/1020 - 1s - loss: 0.0083 - accuracy: 0.9972 - val_loss: 0.1869 - val_accuracy: 0.9708\n",
      "Epoch 69/100\n",
      "1020/1020 - 1s - loss: 0.0088 - accuracy: 0.9966 - val_loss: 0.1938 - val_accuracy: 0.9720\n",
      "Epoch 70/100\n",
      "1020/1020 - 1s - loss: 0.0076 - accuracy: 0.9971 - val_loss: 0.2119 - val_accuracy: 0.9740\n",
      "Epoch 71/100\n",
      "1020/1020 - 1s - loss: 0.0074 - accuracy: 0.9970 - val_loss: 0.2096 - val_accuracy: 0.9721\n",
      "Epoch 72/100\n",
      "1020/1020 - 1s - loss: 0.0091 - accuracy: 0.9962 - val_loss: 0.2011 - val_accuracy: 0.9719\n",
      "Epoch 73/100\n",
      "1020/1020 - 1s - loss: 0.0085 - accuracy: 0.9971 - val_loss: 0.2003 - val_accuracy: 0.9723\n",
      "Epoch 74/100\n",
      "1020/1020 - 1s - loss: 0.0069 - accuracy: 0.9977 - val_loss: 0.2082 - val_accuracy: 0.9718\n",
      "Epoch 75/100\n",
      "1020/1020 - 1s - loss: 0.0073 - accuracy: 0.9971 - val_loss: 0.2013 - val_accuracy: 0.9729\n",
      "Epoch 76/100\n",
      "1020/1020 - 1s - loss: 0.0274 - accuracy: 0.9951 - val_loss: 0.2077 - val_accuracy: 0.9725\n",
      "Epoch 77/100\n",
      "1020/1020 - 1s - loss: 0.0081 - accuracy: 0.9971 - val_loss: 0.2157 - val_accuracy: 0.9714\n",
      "Epoch 78/100\n",
      "1020/1020 - 1s - loss: 0.0061 - accuracy: 0.9975 - val_loss: 0.2155 - val_accuracy: 0.9728\n",
      "Epoch 79/100\n",
      "1020/1020 - 1s - loss: 0.0062 - accuracy: 0.9975 - val_loss: 0.2248 - val_accuracy: 0.9709\n"
     ]
    },
    {
     "name": "stdout",
     "output_type": "stream",
     "text": [
      "Epoch 80/100\n",
      "1020/1020 - 1s - loss: 0.0076 - accuracy: 0.9972 - val_loss: 0.2291 - val_accuracy: 0.9715\n",
      "Epoch 81/100\n",
      "1020/1020 - 1s - loss: 0.0066 - accuracy: 0.9973 - val_loss: 0.2315 - val_accuracy: 0.9698\n",
      "Epoch 82/100\n",
      "1020/1020 - 1s - loss: 0.0055 - accuracy: 0.9977 - val_loss: 0.2384 - val_accuracy: 0.9732\n",
      "Epoch 83/100\n",
      "1020/1020 - 1s - loss: 0.0091 - accuracy: 0.9965 - val_loss: 0.2211 - val_accuracy: 0.9692\n",
      "Epoch 84/100\n",
      "1020/1020 - 1s - loss: 0.0072 - accuracy: 0.9973 - val_loss: 0.2370 - val_accuracy: 0.9716\n",
      "Epoch 85/100\n",
      "1020/1020 - 1s - loss: 0.0063 - accuracy: 0.9979 - val_loss: 0.2425 - val_accuracy: 0.9702\n",
      "Epoch 86/100\n",
      "1020/1020 - 1s - loss: 0.0059 - accuracy: 0.9980 - val_loss: 0.2421 - val_accuracy: 0.9697\n",
      "Epoch 87/100\n",
      "1020/1020 - 1s - loss: 0.0078 - accuracy: 0.9971 - val_loss: 0.2274 - val_accuracy: 0.9713\n",
      "Epoch 88/100\n",
      "1020/1020 - 1s - loss: 0.0082 - accuracy: 0.9974 - val_loss: 0.2377 - val_accuracy: 0.9722\n",
      "Epoch 89/100\n",
      "1020/1020 - 1s - loss: 0.0052 - accuracy: 0.9979 - val_loss: 0.2409 - val_accuracy: 0.9733\n",
      "Epoch 90/100\n",
      "1020/1020 - 1s - loss: 0.0056 - accuracy: 0.9975 - val_loss: 0.2545 - val_accuracy: 0.9735\n",
      "Epoch 91/100\n",
      "1020/1020 - 1s - loss: 0.0069 - accuracy: 0.9973 - val_loss: 0.2646 - val_accuracy: 0.9708\n",
      "Epoch 92/100\n",
      "1020/1020 - 1s - loss: 0.0067 - accuracy: 0.9975 - val_loss: 0.2362 - val_accuracy: 0.9720\n",
      "Epoch 93/100\n",
      "1020/1020 - 1s - loss: 0.0074 - accuracy: 0.9969 - val_loss: 0.2379 - val_accuracy: 0.9712\n",
      "Epoch 94/100\n",
      "1020/1020 - 1s - loss: 0.0063 - accuracy: 0.9978 - val_loss: 0.2396 - val_accuracy: 0.9733\n",
      "Epoch 95/100\n",
      "1020/1020 - 1s - loss: 0.0049 - accuracy: 0.9982 - val_loss: 0.2551 - val_accuracy: 0.9731\n",
      "Epoch 96/100\n",
      "1020/1020 - 1s - loss: 0.0058 - accuracy: 0.9977 - val_loss: 0.2863 - val_accuracy: 0.9708\n",
      "Epoch 97/100\n",
      "1020/1020 - 1s - loss: 0.0075 - accuracy: 0.9971 - val_loss: 0.2932 - val_accuracy: 0.9698\n",
      "Epoch 98/100\n",
      "1020/1020 - 1s - loss: 0.0088 - accuracy: 0.9972 - val_loss: 0.2454 - val_accuracy: 0.9709\n",
      "Epoch 99/100\n",
      "1020/1020 - 1s - loss: 0.0044 - accuracy: 0.9983 - val_loss: 0.2607 - val_accuracy: 0.9739\n",
      "Epoch 100/100\n",
      "1020/1020 - 1s - loss: 0.0043 - accuracy: 0.9983 - val_loss: 0.2608 - val_accuracy: 0.9706\n"
     ]
    }
   ],
   "source": [
    "deep_history = deep_model.fit(X_train_scaled, \n",
    "                    y_train_categorical, \n",
    "                    epochs=100,\n",
    "                    shuffle=True,\n",
    "                    verbose=2,                    \n",
    "                    validation_data=(X_test_scaled, y_test_categorical)\n",
    "                   )"
   ]
  },
  {
   "cell_type": "markdown",
   "id": "c1b0f896",
   "metadata": {},
   "source": [
    "### Quantify the Trained Model"
   ]
  },
  {
   "cell_type": "code",
   "execution_count": 18,
   "id": "0bdc54fc",
   "metadata": {},
   "outputs": [
    {
     "name": "stdout",
     "output_type": "stream",
     "text": [
      "340/340 - 0s - loss: 0.0868 - accuracy: 0.9754\n",
      "Normal Neural Network - Loss: 0.08680441975593567, Accuracy: 0.9753608703613281\n"
     ]
    }
   ],
   "source": [
    "model_loss, model_accuracy = model.evaluate(\n",
    "    X_test_scaled, y_test_categorical, verbose=2)\n",
    "print(\n",
    "    f\"Normal Neural Network - Loss: {model_loss}, Accuracy: {model_accuracy}\")"
   ]
  },
  {
   "cell_type": "code",
   "execution_count": 19,
   "id": "25a7d2c5",
   "metadata": {},
   "outputs": [
    {
     "name": "stdout",
     "output_type": "stream",
     "text": [
      "340/340 - 0s - loss: 0.2608 - accuracy: 0.9706\n",
      "Deep Learning Neural Network - Loss: 0.26076966524124146, Accuracy: 0.9705801010131836\n"
     ]
    }
   ],
   "source": [
    "deep_model_loss, deep_model_accuracy = deep_model.evaluate(\n",
    "    X_test_scaled, y_test_categorical, verbose=2)\n",
    "print(\n",
    "    f\"Deep Learning Neural Network - Loss: {deep_model_loss}, Accuracy: {deep_model_accuracy}\")"
   ]
  },
  {
   "cell_type": "code",
   "execution_count": 49,
   "id": "5d368823",
   "metadata": {},
   "outputs": [
    {
     "data": {
      "image/png": "[encoded data removed]",
      "text/plain": [
       "<Figure size 720x432 with 1 Axes>"
      ]
     },
     "metadata": {
      "needs_background": "light"
     },
     "output_type": "display_data"
    }
   ],
   "source": [
    "# plot loss for 1 hiden layer\n",
    "\n",
    "loss_train = history.history['loss']\n",
    "loss_test = history.history['val_loss']\n",
    "epochs = range(1,101)\n",
    "plt.figure(figsize=(10,6))\n",
    "plt.plot(epochs, loss_train, 'r--', label='Training loss')\n",
    "plt.plot(epochs, loss_test, 'b--', label='Testing loss')\n",
    "plt.title('Loss (Neural Network 1 hidden layer)')\n",
    "plt.xlabel('Epochs')\n",
    "plt.ylabel('Loss')\n",
    "plt.ylim(0,0.3)\n",
    "plt.legend()\n",
    "plt.tight_layout()\n",
    "plt.savefig('static/images/neural_network_loss.jpg', dpi=300)\n",
    "plt.show()"
   ]
  },
  {
   "cell_type": "code",
   "execution_count": 50,
   "id": "3a1c1ea9",
   "metadata": {},
   "outputs": [
    {
     "data": {
      "image/png": "[encoded data removed]",
      "text/plain": [
       "<Figure size 720x432 with 1 Axes>"
      ]
     },
     "metadata": {
      "needs_background": "light"
     },
     "output_type": "display_data"
    }
   ],
   "source": [
    "# plot loss with 2 hiden layers\n",
    "deep_loss_train = deep_history.history['loss']\n",
    "deep_loss_test = deep_history.history['val_loss']\n",
    "epochs = range(1,101)\n",
    "plt.figure(figsize=(10,6))\n",
    "plt.plot(epochs, deep_loss_train, 'r--', label='Training loss')\n",
    "plt.plot(epochs, deep_loss_test, 'b--', label='Testing loss')\n",
    "plt.title('Loss (Deep Learning 2 hidden layers)')\n",
    "plt.xlabel('Epochs')\n",
    "plt.ylabel('Loss')\n",
    "plt.ylim(0,0.3)\n",
    "plt.legend()\n",
    "plt.tight_layout()\n",
    "plt.savefig('static/images/deep_learning_loss.jpg', dpi=300)\n",
    "plt.show()"
   ]
  },
  {
   "cell_type": "code",
   "execution_count": 41,
   "id": "df5ae80c",
   "metadata": {},
   "outputs": [
    {
     "data": {
      "image/png": "[encoded data removed]",
      "text/plain": [
       "<Figure size 720x432 with 1 Axes>"
      ]
     },
     "metadata": {
      "needs_background": "light"
     },
     "output_type": "display_data"
    }
   ],
   "source": [
    "# plot accuracy with 1 hiden layer\n",
    "accuracy_train = history.history['accuracy']\n",
    "accuracy_test = history.history['val_accuracy']\n",
    "epochs = range(1,101)\n",
    "plt.figure(figsize=(10,6))\n",
    "plt.plot(epochs, accuracy_train, 'r', label='Training accuracy')\n",
    "plt.plot(epochs, accuracy_test, 'b', label='Testing accuracy')\n",
    "plt.title('Accuracy  (Neural Network 1 hidden layer)')\n",
    "plt.xlabel('Epochs')\n",
    "plt.ylabel('Accuracy')\n",
    "plt.ylim(0.96,1)\n",
    "plt.legend()\n",
    "plt.tight_layout()\n",
    "plt.savefig('static/images/neural_network_accuracy.jpg', dpi=300)\n",
    "plt.show()"
   ]
  },
  {
   "cell_type": "code",
   "execution_count": 42,
   "id": "9a20b6a2",
   "metadata": {},
   "outputs": [
    {
     "data": {
      "image/png": "[encoded data removed]",
      "text/plain": [
       "<Figure size 720x432 with 1 Axes>"
      ]
     },
     "metadata": {
      "needs_background": "light"
     },
     "output_type": "display_data"
    }
   ],
   "source": [
    "# plot accuracy with 2 hiden layers\n",
    "deep_accuracy_train = deep_history.history['accuracy']\n",
    "deep_accuracy_test = deep_history.history['val_accuracy']\n",
    "epochs = range(1,101)\n",
    "plt.figure(figsize=(10,6))\n",
    "plt.plot(epochs, deep_accuracy_train, 'r', label='Training accuracy')\n",
    "plt.plot(epochs, deep_accuracy_test, 'b', label='Testing accuracy')\n",
    "plt.title('Accuracy (Deep Learning 2 hidden layers)')\n",
    "plt.xlabel('Epochs')\n",
    "plt.ylabel('Accuracy')\n",
    "plt.ylim(0.96,1)\n",
    "plt.legend()\n",
    "plt.tight_layout()\n",
    "plt.savefig('static/images/deep_learning_accuracy.jpg', dpi=300)\n",
    "plt.show()"
   ]
  },
  {
   "cell_type": "code",
   "execution_count": null,
   "id": "236c0871",
   "metadata": {},
   "outputs": [],
   "source": []
  },
  {
   "cell_type": "markdown",
   "id": "345014fe",
   "metadata": {},
   "source": [
    "### Classification report"
   ]
  },
  {
   "cell_type": "code",
   "execution_count": 24,
   "id": "350e61b0",
   "metadata": {},
   "outputs": [],
   "source": [
    "from numpy import argmax"
   ]
  },
  {
   "cell_type": "code",
   "execution_count": 25,
   "id": "0ce94703",
   "metadata": {},
   "outputs": [
    {
     "name": "stdout",
     "output_type": "stream",
     "text": [
      "              precision    recall  f1-score   support\n",
      "\n",
      "  no-default       0.98      0.99      0.99      9960\n",
      "     default       0.90      0.79      0.84       917\n",
      "\n",
      "    accuracy                           0.98     10877\n",
      "   macro avg       0.94      0.89      0.92     10877\n",
      "weighted avg       0.97      0.98      0.97     10877\n",
      "\n"
     ]
    }
   ],
   "source": [
    " # Calculate classification report\n",
    "from sklearn.metrics import classification_report\n",
    "model_predictions = model.predict(X_test_scaled)\n",
    "print(classification_report(y_test, argmax(model_predictions, axis=1),\n",
    "                            target_names=target_names))"
   ]
  },
  {
   "cell_type": "code",
   "execution_count": 53,
   "id": "f7170451",
   "metadata": {},
   "outputs": [
    {
     "data": {
      "image/png": "[encoded data removed]",
      "text/plain": [
       "<Figure size 432x288 with 2 Axes>"
      ]
     },
     "metadata": {
      "needs_background": "light"
     },
     "output_type": "display_data"
    }
   ],
   "source": [
    "import seaborn as sns\n",
    "from sklearn.metrics import confusion_matrix\n",
    "\n",
    "# Confusion Matrix 1 layer\n",
    "sns.heatmap(confusion_matrix(y_test, argmax(model_predictions, axis=1)), cmap=\"Greens\", annot = True, fmt=\"d\")\n",
    "plt.savefig('static/images/neural_network_confusion.jpg', dpi=300)"
   ]
  },
  {
   "cell_type": "code",
   "execution_count": 27,
   "id": "06a996db",
   "metadata": {},
   "outputs": [
    {
     "name": "stdout",
     "output_type": "stream",
     "text": [
      "              precision    recall  f1-score   support\n",
      "\n",
      "  no-default       0.98      0.98      0.98      9960\n",
      "     default       0.82      0.83      0.83       917\n",
      "\n",
      "    accuracy                           0.97     10877\n",
      "   macro avg       0.90      0.91      0.91     10877\n",
      "weighted avg       0.97      0.97      0.97     10877\n",
      "\n"
     ]
    }
   ],
   "source": [
    "# deep learning model\n",
    "deep_model_predictions = deep_model.predict(X_test_scaled)\n",
    "print(classification_report(y_test, argmax(deep_model_predictions, axis=1),\n",
    "                            target_names=target_names))"
   ]
  },
  {
   "cell_type": "code",
   "execution_count": 55,
   "id": "be2cd237",
   "metadata": {},
   "outputs": [
    {
     "data": {
      "image/png": "[encoded data removed]",
      "text/plain": [
       "<Figure size 432x288 with 2 Axes>"
      ]
     },
     "metadata": {
      "needs_background": "light"
     },
     "output_type": "display_data"
    }
   ],
   "source": [
    "# Confusion Matrix deep learning\n",
    "sns.heatmap(confusion_matrix(y_test, argmax(deep_model_predictions, axis=1)), cmap=\"Blues\", annot = True, fmt=\"d\")\n",
    "plt.savefig('static/images/deep_learning_confusion.jpg', dpi=300)"
   ]
  },
  {
   "cell_type": "code",
   "execution_count": 29,
   "id": "65cd1869",
   "metadata": {},
   "outputs": [],
   "source": [
    "# Save the model\n",
    "model.save(\"saved_models/neural_network_trained.h5\")"
   ]
  },
  {
   "cell_type": "code",
   "execution_count": 30,
   "id": "28307ed0",
   "metadata": {},
   "outputs": [],
   "source": [
    "# Save the deep learning model\n",
    "deep_model.save(\"saved_models/neural_network_deep_trained.h5\")"
   ]
  },
  {
   "cell_type": "code",
   "execution_count": 31,
   "id": "826866a7",
   "metadata": {},
   "outputs": [],
   "source": [
    "# Load the model\n",
    "from tensorflow.keras.models import load_model\n",
    "model_trained = load_model(\"saved_models/neural_network_trained.h5\")\n",
    "deep_trained = load_model(\"saved_models/neural_network_deep_trained.h5\")"
   ]
  },
  {
   "cell_type": "code",
   "execution_count": 32,
   "id": "163a6735",
   "metadata": {},
   "outputs": [
    {
     "name": "stdout",
     "output_type": "stream",
     "text": [
      "340/340 - 0s - loss: 0.0868 - accuracy: 0.9754\n",
      "Normal Neural Network - Loss: 0.08680441975593567, Accuracy: 0.9753608703613281\n"
     ]
    }
   ],
   "source": [
    "model_loss, model_accuracy = model_trained.evaluate(\n",
    "    X_test_scaled, y_test_categorical, verbose=2)\n",
    "print(\n",
    "    f\"Normal Neural Network - Loss: {model_loss}, Accuracy: {model_accuracy}\")"
   ]
  },
  {
   "cell_type": "code",
   "execution_count": 33,
   "id": "6aece30e",
   "metadata": {},
   "outputs": [
    {
     "name": "stdout",
     "output_type": "stream",
     "text": [
      "340/340 - 0s - loss: 0.2608 - accuracy: 0.9706\n",
      "Deep Learning Neural Network - Loss: 0.26076966524124146, Accuracy: 0.9705801010131836\n"
     ]
    }
   ],
   "source": [
    "deep_model_loss, deep_model_accuracy = deep_trained.evaluate(\n",
    "    X_test_scaled, y_test_categorical, verbose=2)\n",
    "print(\n",
    "    f\"Deep Learning Neural Network - Loss: {deep_model_loss}, Accuracy: {deep_model_accuracy}\")"
   ]
  }
 ],
 "metadata": {
  "kernelspec": {
   "display_name": "Python 3",
   "language": "python",
   "name": "python3"
  },
  "language_info": {
   "codemirror_mode": {
    "name": "ipython",
    "version": 3
   },
   "file_extension": ".py",
   "mimetype": "text/x-python",
   "name": "python",
   "nbconvert_exporter": "python",
   "pygments_lexer": "ipython3",
   "version": "3.8.8"
  }
 },
 "nbformat": 4,
 "nbformat_minor": 5
}
