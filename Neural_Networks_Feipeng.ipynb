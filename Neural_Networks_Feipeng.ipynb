{
 "cells": [
  {
   "cell_type": "code",
   "execution_count": 1,
   "id": "67595110",
   "metadata": {},
   "outputs": [],
   "source": [
    "import pandas as pd\n",
    "import numpy as np\n",
    "import matplotlib.pyplot as plt"
   ]
  },
  {
   "cell_type": "code",
   "execution_count": 2,
   "id": "f92db038",
   "metadata": {},
   "outputs": [
    {
     "data": {
      "text/html": [
       "<div>\n",
       "<style scoped>\n",
       "    .dataframe tbody tr th:only-of-type {\n",
       "        vertical-align: middle;\n",
       "    }\n",
       "\n",
       "    .dataframe tbody tr th {\n",
       "        vertical-align: top;\n",
       "    }\n",
       "\n",
       "    .dataframe thead th {\n",
       "        text-align: right;\n",
       "    }\n",
       "</style>\n",
       "<table border=\"1\" class=\"dataframe\">\n",
       "  <thead>\n",
       "    <tr style=\"text-align: right;\">\n",
       "      <th></th>\n",
       "      <th>age</th>\n",
       "      <th>no_of_children</th>\n",
       "      <th>net_yearly_income</th>\n",
       "      <th>total_family_members</th>\n",
       "      <th>migrant_worker</th>\n",
       "      <th>yearly_debt_payments</th>\n",
       "      <th>credit_limit</th>\n",
       "      <th>credit_limit_used(%)</th>\n",
       "      <th>credit_score</th>\n",
       "      <th>prev_defaults</th>\n",
       "      <th>...</th>\n",
       "      <th>occupation_type_Low-skill Laborers</th>\n",
       "      <th>occupation_type_Managers</th>\n",
       "      <th>occupation_type_Medicine staff</th>\n",
       "      <th>occupation_type_Private service staff</th>\n",
       "      <th>occupation_type_Realty agents</th>\n",
       "      <th>occupation_type_Sales staff</th>\n",
       "      <th>occupation_type_Secretaries</th>\n",
       "      <th>occupation_type_Security staff</th>\n",
       "      <th>occupation_type_Unknown</th>\n",
       "      <th>occupation_type_Waiters/barmen staff</th>\n",
       "    </tr>\n",
       "  </thead>\n",
       "  <tbody>\n",
       "    <tr>\n",
       "      <th>0</th>\n",
       "      <td>46</td>\n",
       "      <td>0.0</td>\n",
       "      <td>107934.04</td>\n",
       "      <td>1.0</td>\n",
       "      <td>1.0</td>\n",
       "      <td>33070.28</td>\n",
       "      <td>18690.93</td>\n",
       "      <td>73</td>\n",
       "      <td>544.0</td>\n",
       "      <td>2</td>\n",
       "      <td>...</td>\n",
       "      <td>0</td>\n",
       "      <td>0</td>\n",
       "      <td>0</td>\n",
       "      <td>0</td>\n",
       "      <td>0</td>\n",
       "      <td>0</td>\n",
       "      <td>0</td>\n",
       "      <td>0</td>\n",
       "      <td>1</td>\n",
       "      <td>0</td>\n",
       "    </tr>\n",
       "    <tr>\n",
       "      <th>1</th>\n",
       "      <td>29</td>\n",
       "      <td>0.0</td>\n",
       "      <td>109862.62</td>\n",
       "      <td>2.0</td>\n",
       "      <td>0.0</td>\n",
       "      <td>15329.53</td>\n",
       "      <td>37745.19</td>\n",
       "      <td>52</td>\n",
       "      <td>857.0</td>\n",
       "      <td>0</td>\n",
       "      <td>...</td>\n",
       "      <td>0</td>\n",
       "      <td>0</td>\n",
       "      <td>0</td>\n",
       "      <td>0</td>\n",
       "      <td>0</td>\n",
       "      <td>0</td>\n",
       "      <td>0</td>\n",
       "      <td>0</td>\n",
       "      <td>0</td>\n",
       "      <td>0</td>\n",
       "    </tr>\n",
       "    <tr>\n",
       "      <th>2</th>\n",
       "      <td>37</td>\n",
       "      <td>0.0</td>\n",
       "      <td>230153.17</td>\n",
       "      <td>2.0</td>\n",
       "      <td>0.0</td>\n",
       "      <td>48416.60</td>\n",
       "      <td>41598.36</td>\n",
       "      <td>43</td>\n",
       "      <td>650.0</td>\n",
       "      <td>0</td>\n",
       "      <td>...</td>\n",
       "      <td>0</td>\n",
       "      <td>0</td>\n",
       "      <td>0</td>\n",
       "      <td>0</td>\n",
       "      <td>0</td>\n",
       "      <td>0</td>\n",
       "      <td>0</td>\n",
       "      <td>0</td>\n",
       "      <td>0</td>\n",
       "      <td>0</td>\n",
       "    </tr>\n",
       "    <tr>\n",
       "      <th>3</th>\n",
       "      <td>39</td>\n",
       "      <td>0.0</td>\n",
       "      <td>122325.82</td>\n",
       "      <td>2.0</td>\n",
       "      <td>0.0</td>\n",
       "      <td>22574.36</td>\n",
       "      <td>32627.76</td>\n",
       "      <td>20</td>\n",
       "      <td>754.0</td>\n",
       "      <td>0</td>\n",
       "      <td>...</td>\n",
       "      <td>0</td>\n",
       "      <td>0</td>\n",
       "      <td>0</td>\n",
       "      <td>0</td>\n",
       "      <td>0</td>\n",
       "      <td>0</td>\n",
       "      <td>0</td>\n",
       "      <td>0</td>\n",
       "      <td>0</td>\n",
       "      <td>0</td>\n",
       "    </tr>\n",
       "    <tr>\n",
       "      <th>4</th>\n",
       "      <td>46</td>\n",
       "      <td>0.0</td>\n",
       "      <td>387286.00</td>\n",
       "      <td>1.0</td>\n",
       "      <td>0.0</td>\n",
       "      <td>38282.95</td>\n",
       "      <td>52950.64</td>\n",
       "      <td>75</td>\n",
       "      <td>927.0</td>\n",
       "      <td>0</td>\n",
       "      <td>...</td>\n",
       "      <td>0</td>\n",
       "      <td>0</td>\n",
       "      <td>0</td>\n",
       "      <td>0</td>\n",
       "      <td>0</td>\n",
       "      <td>0</td>\n",
       "      <td>0</td>\n",
       "      <td>0</td>\n",
       "      <td>0</td>\n",
       "      <td>0</td>\n",
       "    </tr>\n",
       "  </tbody>\n",
       "</table>\n",
       "<p>5 rows × 33 columns</p>\n",
       "</div>"
      ],
      "text/plain": [
       "   age  no_of_children  net_yearly_income  total_family_members  \\\n",
       "0   46             0.0          107934.04                   1.0   \n",
       "1   29             0.0          109862.62                   2.0   \n",
       "2   37             0.0          230153.17                   2.0   \n",
       "3   39             0.0          122325.82                   2.0   \n",
       "4   46             0.0          387286.00                   1.0   \n",
       "\n",
       "   migrant_worker  yearly_debt_payments  credit_limit  credit_limit_used(%)  \\\n",
       "0             1.0              33070.28      18690.93                    73   \n",
       "1             0.0              15329.53      37745.19                    52   \n",
       "2             0.0              48416.60      41598.36                    43   \n",
       "3             0.0              22574.36      32627.76                    20   \n",
       "4             0.0              38282.95      52950.64                    75   \n",
       "\n",
       "   credit_score  prev_defaults  ...  occupation_type_Low-skill Laborers  \\\n",
       "0         544.0              2  ...                                   0   \n",
       "1         857.0              0  ...                                   0   \n",
       "2         650.0              0  ...                                   0   \n",
       "3         754.0              0  ...                                   0   \n",
       "4         927.0              0  ...                                   0   \n",
       "\n",
       "   occupation_type_Managers  occupation_type_Medicine staff  \\\n",
       "0                         0                               0   \n",
       "1                         0                               0   \n",
       "2                         0                               0   \n",
       "3                         0                               0   \n",
       "4                         0                               0   \n",
       "\n",
       "   occupation_type_Private service staff  occupation_type_Realty agents  \\\n",
       "0                                      0                              0   \n",
       "1                                      0                              0   \n",
       "2                                      0                              0   \n",
       "3                                      0                              0   \n",
       "4                                      0                              0   \n",
       "\n",
       "   occupation_type_Sales staff  occupation_type_Secretaries  \\\n",
       "0                            0                            0   \n",
       "1                            0                            0   \n",
       "2                            0                            0   \n",
       "3                            0                            0   \n",
       "4                            0                            0   \n",
       "\n",
       "   occupation_type_Security staff  occupation_type_Unknown  \\\n",
       "0                               0                        1   \n",
       "1                               0                        0   \n",
       "2                               0                        0   \n",
       "3                               0                        0   \n",
       "4                               0                        0   \n",
       "\n",
       "   occupation_type_Waiters/barmen staff  \n",
       "0                                     0  \n",
       "1                                     0  \n",
       "2                                     0  \n",
       "3                                     0  \n",
       "4                                     0  \n",
       "\n",
       "[5 rows x 33 columns]"
      ]
     },
     "execution_count": 2,
     "metadata": {},
     "output_type": "execute_result"
    }
   ],
   "source": [
    "# Read dataset files\n",
    "df = pd.read_csv('dataset/train_data_cleaned.csv')\n",
    "df.head()"
   ]
  },
  {
   "cell_type": "code",
   "execution_count": 3,
   "id": "788794bc",
   "metadata": {},
   "outputs": [
    {
     "name": "stdout",
     "output_type": "stream",
     "text": [
      "(43508, 32) (43508,)\n"
     ]
    }
   ],
   "source": [
    "# Split features and labels\n",
    "X = df.drop('credit_card_default', axis=1)\n",
    "y = df['credit_card_default']\n",
    "target_names = [\"no-default\", \"default\"]\n",
    "\n",
    "print(X.shape, y.shape)"
   ]
  },
  {
   "cell_type": "code",
   "execution_count": 4,
   "id": "527e81f5",
   "metadata": {},
   "outputs": [],
   "source": [
    "# Use train_test_split to create training and testing data\n",
    "from sklearn.model_selection import train_test_split\n",
    "X_train, X_test, y_train, y_test = train_test_split(X, y, random_state=1)"
   ]
  },
  {
   "cell_type": "code",
   "execution_count": 5,
   "id": "9ee4a22f",
   "metadata": {},
   "outputs": [],
   "source": [
    "from sklearn.preprocessing import StandardScaler\n",
    "# Create a StandardScater model and fit it to the training data\n",
    "X_scaler = StandardScaler().fit(X_train)"
   ]
  },
  {
   "cell_type": "code",
   "execution_count": 6,
   "id": "d9c7d06c",
   "metadata": {},
   "outputs": [],
   "source": [
    "# Transform the training and testing data using the X_scaler\n",
    "X_train_scaled = X_scaler.transform(X_train)\n",
    "X_test_scaled = X_scaler.transform(X_test)"
   ]
  },
  {
   "cell_type": "code",
   "execution_count": 7,
   "id": "cced5501",
   "metadata": {},
   "outputs": [
    {
     "data": {
      "text/plain": [
       "array([[1., 0.],\n",
       "       [1., 0.],\n",
       "       [1., 0.],\n",
       "       ...,\n",
       "       [1., 0.],\n",
       "       [1., 0.],\n",
       "       [1., 0.]], dtype=float32)"
      ]
     },
     "execution_count": 7,
     "metadata": {},
     "output_type": "execute_result"
    }
   ],
   "source": [
    "from tensorflow.keras.utils import to_categorical\n",
    "\n",
    "# One-hot encoding\n",
    "y_train_categorical = to_categorical(y_train)\n",
    "y_test_categorical = to_categorical(y_test)\n",
    "y_train_categorical"
   ]
  },
  {
   "cell_type": "code",
   "execution_count": 8,
   "id": "782ccf5e",
   "metadata": {},
   "outputs": [
    {
     "data": {
      "text/plain": [
       "(32631, 32)"
      ]
     },
     "execution_count": 8,
     "metadata": {},
     "output_type": "execute_result"
    }
   ],
   "source": [
    "X_train_scaled.shape"
   ]
  },
  {
   "cell_type": "markdown",
   "id": "1b9127a1",
   "metadata": {},
   "source": [
    "### Create a Neural Network Model with 1 Hiden Layer"
   ]
  },
  {
   "cell_type": "code",
   "execution_count": 9,
   "id": "4067f7ae",
   "metadata": {},
   "outputs": [],
   "source": [
    "from tensorflow.keras.models import Sequential\n",
    "from tensorflow.keras.layers import Dense"
   ]
  },
  {
   "cell_type": "code",
   "execution_count": 10,
   "id": "703c87d7",
   "metadata": {},
   "outputs": [],
   "source": [
    "# Create model and add 1 hiden layers\n",
    "model = Sequential()\n",
    "model.add(Dense(units=100, activation='relu', input_dim=X_train_scaled.shape[1]))\n",
    "model.add(Dense(units=2, activation='softmax'))"
   ]
  },
  {
   "cell_type": "code",
   "execution_count": 11,
   "id": "0b440147",
   "metadata": {},
   "outputs": [],
   "source": [
    "# Compile and fit the model\n",
    "model.compile(optimizer='adam',\n",
    "              loss='categorical_crossentropy',\n",
    "              metrics=['accuracy'])"
   ]
  },
  {
   "cell_type": "code",
   "execution_count": 12,
   "id": "562a3905",
   "metadata": {},
   "outputs": [
    {
     "name": "stdout",
     "output_type": "stream",
     "text": [
      "Model: \"sequential\"\n",
      "_________________________________________________________________\n",
      "Layer (type)                 Output Shape              Param #   \n",
      "=================================================================\n",
      "dense (Dense)                (None, 100)               3300      \n",
      "_________________________________________________________________\n",
      "dense_1 (Dense)              (None, 2)                 202       \n",
      "=================================================================\n",
      "Total params: 3,502\n",
      "Trainable params: 3,502\n",
      "Non-trainable params: 0\n",
      "_________________________________________________________________\n"
     ]
    }
   ],
   "source": [
    "model.summary()"
   ]
  },
  {
   "cell_type": "code",
   "execution_count": 13,
   "id": "9de21402",
   "metadata": {},
   "outputs": [
    {
     "name": "stdout",
     "output_type": "stream",
     "text": [
      "Epoch 1/100\n",
      "1020/1020 - 2s - loss: 0.0950 - accuracy: 0.9680 - val_loss: 0.0556 - val_accuracy: 0.9788\n",
      "Epoch 2/100\n",
      "1020/1020 - 1s - loss: 0.0519 - accuracy: 0.9798 - val_loss: 0.0554 - val_accuracy: 0.9790\n",
      "Epoch 3/100\n",
      "1020/1020 - 1s - loss: 0.0494 - accuracy: 0.9795 - val_loss: 0.0557 - val_accuracy: 0.9757\n",
      "Epoch 4/100\n",
      "1020/1020 - 1s - loss: 0.0480 - accuracy: 0.9801 - val_loss: 0.0538 - val_accuracy: 0.9780\n",
      "Epoch 5/100\n",
      "1020/1020 - 1s - loss: 0.0476 - accuracy: 0.9805 - val_loss: 0.0538 - val_accuracy: 0.9773\n",
      "Epoch 6/100\n",
      "1020/1020 - 1s - loss: 0.0479 - accuracy: 0.9807 - val_loss: 0.0543 - val_accuracy: 0.9790\n",
      "Epoch 7/100\n",
      "1020/1020 - 1s - loss: 0.0466 - accuracy: 0.9808 - val_loss: 0.0550 - val_accuracy: 0.9768\n",
      "Epoch 8/100\n",
      "1020/1020 - 1s - loss: 0.0462 - accuracy: 0.9808 - val_loss: 0.0534 - val_accuracy: 0.9787\n",
      "Epoch 9/100\n",
      "1020/1020 - 1s - loss: 0.0451 - accuracy: 0.9807 - val_loss: 0.0543 - val_accuracy: 0.9778\n",
      "Epoch 10/100\n",
      "1020/1020 - 1s - loss: 0.0449 - accuracy: 0.9810 - val_loss: 0.0547 - val_accuracy: 0.9762\n",
      "Epoch 11/100\n",
      "1020/1020 - 1s - loss: 0.0447 - accuracy: 0.9810 - val_loss: 0.0566 - val_accuracy: 0.9746\n",
      "Epoch 12/100\n",
      "1020/1020 - 1s - loss: 0.0441 - accuracy: 0.9807 - val_loss: 0.0526 - val_accuracy: 0.9785\n",
      "Epoch 13/100\n",
      "1020/1020 - 1s - loss: 0.0433 - accuracy: 0.9810 - val_loss: 0.0529 - val_accuracy: 0.9779\n",
      "Epoch 14/100\n",
      "1020/1020 - 1s - loss: 0.0430 - accuracy: 0.9809 - val_loss: 0.0537 - val_accuracy: 0.9786\n",
      "Epoch 15/100\n",
      "1020/1020 - 1s - loss: 0.0422 - accuracy: 0.9813 - val_loss: 0.0537 - val_accuracy: 0.9765\n",
      "Epoch 16/100\n",
      "1020/1020 - 1s - loss: 0.0420 - accuracy: 0.9815 - val_loss: 0.0537 - val_accuracy: 0.9764\n",
      "Epoch 17/100\n",
      "1020/1020 - 1s - loss: 0.0416 - accuracy: 0.9817 - val_loss: 0.0528 - val_accuracy: 0.9762\n",
      "Epoch 18/100\n",
      "1020/1020 - 1s - loss: 0.0415 - accuracy: 0.9817 - val_loss: 0.0529 - val_accuracy: 0.9778\n",
      "Epoch 19/100\n",
      "1020/1020 - 1s - loss: 0.0407 - accuracy: 0.9822 - val_loss: 0.0536 - val_accuracy: 0.9768\n",
      "Epoch 20/100\n",
      "1020/1020 - 1s - loss: 0.0404 - accuracy: 0.9819 - val_loss: 0.0529 - val_accuracy: 0.9779\n",
      "Epoch 21/100\n",
      "1020/1020 - 1s - loss: 0.0402 - accuracy: 0.9819 - val_loss: 0.0547 - val_accuracy: 0.9776\n",
      "Epoch 22/100\n",
      "1020/1020 - 1s - loss: 0.0398 - accuracy: 0.9824 - val_loss: 0.0537 - val_accuracy: 0.9754\n",
      "Epoch 23/100\n",
      "1020/1020 - 1s - loss: 0.0393 - accuracy: 0.9823 - val_loss: 0.0553 - val_accuracy: 0.9774\n",
      "Epoch 24/100\n",
      "1020/1020 - 1s - loss: 0.0387 - accuracy: 0.9830 - val_loss: 0.0542 - val_accuracy: 0.9755\n",
      "Epoch 25/100\n",
      "1020/1020 - 1s - loss: 0.0387 - accuracy: 0.9828 - val_loss: 0.0555 - val_accuracy: 0.9772\n",
      "Epoch 26/100\n",
      "1020/1020 - 1s - loss: 0.0384 - accuracy: 0.9826 - val_loss: 0.0569 - val_accuracy: 0.9759\n",
      "Epoch 27/100\n",
      "1020/1020 - 1s - loss: 0.0382 - accuracy: 0.9825 - val_loss: 0.0572 - val_accuracy: 0.9765\n",
      "Epoch 28/100\n",
      "1020/1020 - 1s - loss: 0.0379 - accuracy: 0.9831 - val_loss: 0.0565 - val_accuracy: 0.9762\n",
      "Epoch 29/100\n",
      "1020/1020 - 1s - loss: 0.0378 - accuracy: 0.9828 - val_loss: 0.0562 - val_accuracy: 0.9756\n",
      "Epoch 30/100\n",
      "1020/1020 - 1s - loss: 0.0383 - accuracy: 0.9836 - val_loss: 0.0552 - val_accuracy: 0.9778\n",
      "Epoch 31/100\n",
      "1020/1020 - 1s - loss: 0.0374 - accuracy: 0.9834 - val_loss: 0.0567 - val_accuracy: 0.9748\n",
      "Epoch 32/100\n",
      "1020/1020 - 1s - loss: 0.0368 - accuracy: 0.9836 - val_loss: 0.0576 - val_accuracy: 0.9764\n",
      "Epoch 33/100\n",
      "1020/1020 - 1s - loss: 0.0371 - accuracy: 0.9835 - val_loss: 0.0585 - val_accuracy: 0.9778\n",
      "Epoch 34/100\n",
      "1020/1020 - 1s - loss: 0.0362 - accuracy: 0.9836 - val_loss: 0.0587 - val_accuracy: 0.9732\n",
      "Epoch 35/100\n",
      "1020/1020 - 1s - loss: 0.0362 - accuracy: 0.9839 - val_loss: 0.0576 - val_accuracy: 0.9763\n",
      "Epoch 36/100\n",
      "1020/1020 - 1s - loss: 0.0362 - accuracy: 0.9835 - val_loss: 0.0587 - val_accuracy: 0.9755\n",
      "Epoch 37/100\n",
      "1020/1020 - 1s - loss: 0.0358 - accuracy: 0.9839 - val_loss: 0.0570 - val_accuracy: 0.9743\n",
      "Epoch 38/100\n",
      "1020/1020 - 1s - loss: 0.0355 - accuracy: 0.9845 - val_loss: 0.0572 - val_accuracy: 0.9750\n",
      "Epoch 39/100\n",
      "1020/1020 - 1s - loss: 0.0351 - accuracy: 0.9845 - val_loss: 0.0597 - val_accuracy: 0.9753\n",
      "Epoch 40/100\n",
      "1020/1020 - 1s - loss: 0.0351 - accuracy: 0.9846 - val_loss: 0.0601 - val_accuracy: 0.9771\n",
      "Epoch 41/100\n",
      "1020/1020 - 1s - loss: 0.0353 - accuracy: 0.9838 - val_loss: 0.0587 - val_accuracy: 0.9775\n",
      "Epoch 42/100\n",
      "1020/1020 - 1s - loss: 0.0348 - accuracy: 0.9847 - val_loss: 0.0610 - val_accuracy: 0.9746\n",
      "Epoch 43/100\n",
      "1020/1020 - 1s - loss: 0.0340 - accuracy: 0.9849 - val_loss: 0.0637 - val_accuracy: 0.9709\n",
      "Epoch 44/100\n",
      "1020/1020 - 1s - loss: 0.0348 - accuracy: 0.9847 - val_loss: 0.0606 - val_accuracy: 0.9738\n",
      "Epoch 45/100\n",
      "1020/1020 - 1s - loss: 0.0342 - accuracy: 0.9847 - val_loss: 0.0594 - val_accuracy: 0.9736\n",
      "Epoch 46/100\n",
      "1020/1020 - 1s - loss: 0.0340 - accuracy: 0.9848 - val_loss: 0.0613 - val_accuracy: 0.9756\n",
      "Epoch 47/100\n",
      "1020/1020 - 1s - loss: 0.0358 - accuracy: 0.9852 - val_loss: 0.0617 - val_accuracy: 0.9743\n",
      "Epoch 48/100\n",
      "1020/1020 - 1s - loss: 0.0337 - accuracy: 0.9849 - val_loss: 0.0602 - val_accuracy: 0.9736\n",
      "Epoch 49/100\n",
      "1020/1020 - 1s - loss: 0.0329 - accuracy: 0.9850 - val_loss: 0.0639 - val_accuracy: 0.9752\n",
      "Epoch 50/100\n",
      "1020/1020 - 1s - loss: 0.0330 - accuracy: 0.9846 - val_loss: 0.0626 - val_accuracy: 0.9736\n",
      "Epoch 51/100\n",
      "1020/1020 - 1s - loss: 0.0329 - accuracy: 0.9856 - val_loss: 0.0632 - val_accuracy: 0.9747\n",
      "Epoch 52/100\n",
      "1020/1020 - 1s - loss: 0.0328 - accuracy: 0.9858 - val_loss: 0.0629 - val_accuracy: 0.9743\n",
      "Epoch 53/100\n",
      "1020/1020 - 1s - loss: 0.0324 - accuracy: 0.9855 - val_loss: 0.0635 - val_accuracy: 0.9739\n",
      "Epoch 54/100\n",
      "1020/1020 - 1s - loss: 0.0324 - accuracy: 0.9851 - val_loss: 0.0633 - val_accuracy: 0.9754\n",
      "Epoch 55/100\n",
      "1020/1020 - 1s - loss: 0.0326 - accuracy: 0.9854 - val_loss: 0.0656 - val_accuracy: 0.9765\n",
      "Epoch 56/100\n",
      "1020/1020 - 1s - loss: 0.0318 - accuracy: 0.9861 - val_loss: 0.0643 - val_accuracy: 0.9753\n",
      "Epoch 57/100\n",
      "1020/1020 - 1s - loss: 0.0317 - accuracy: 0.9859 - val_loss: 0.0657 - val_accuracy: 0.9755\n",
      "Epoch 58/100\n",
      "1020/1020 - 1s - loss: 0.0317 - accuracy: 0.9867 - val_loss: 0.0655 - val_accuracy: 0.9735\n",
      "Epoch 59/100\n",
      "1020/1020 - 1s - loss: 0.0316 - accuracy: 0.9861 - val_loss: 0.0665 - val_accuracy: 0.9746\n",
      "Epoch 60/100\n",
      "1020/1020 - 1s - loss: 0.0308 - accuracy: 0.9863 - val_loss: 0.0676 - val_accuracy: 0.9746\n",
      "Epoch 61/100\n",
      "1020/1020 - 1s - loss: 0.0312 - accuracy: 0.9861 - val_loss: 0.0688 - val_accuracy: 0.9754\n",
      "Epoch 62/100\n",
      "1020/1020 - 1s - loss: 0.0304 - accuracy: 0.9866 - val_loss: 0.0691 - val_accuracy: 0.9732\n",
      "Epoch 63/100\n",
      "1020/1020 - 1s - loss: 0.0307 - accuracy: 0.9865 - val_loss: 0.0682 - val_accuracy: 0.9736\n",
      "Epoch 64/100\n",
      "1020/1020 - 1s - loss: 0.0302 - accuracy: 0.9870 - val_loss: 0.0684 - val_accuracy: 0.9729\n",
      "Epoch 65/100\n",
      "1020/1020 - 1s - loss: 0.0304 - accuracy: 0.9868 - val_loss: 0.0695 - val_accuracy: 0.9757\n",
      "Epoch 66/100\n",
      "1020/1020 - 1s - loss: 0.0333 - accuracy: 0.9868 - val_loss: 0.0709 - val_accuracy: 0.9748\n",
      "Epoch 67/100\n",
      "1020/1020 - 1s - loss: 0.0297 - accuracy: 0.9869 - val_loss: 0.0709 - val_accuracy: 0.9727\n",
      "Epoch 68/100\n",
      "1020/1020 - 1s - loss: 0.0293 - accuracy: 0.9872 - val_loss: 0.0688 - val_accuracy: 0.9757\n",
      "Epoch 69/100\n",
      "1020/1020 - 1s - loss: 0.0294 - accuracy: 0.9873 - val_loss: 0.0726 - val_accuracy: 0.9757\n",
      "Epoch 70/100\n",
      "1020/1020 - 1s - loss: 0.0293 - accuracy: 0.9872 - val_loss: 0.0707 - val_accuracy: 0.9737\n",
      "Epoch 71/100\n",
      "1020/1020 - 1s - loss: 0.0290 - accuracy: 0.9871 - val_loss: 0.0703 - val_accuracy: 0.9733\n",
      "Epoch 72/100\n",
      "1020/1020 - 1s - loss: 0.0285 - accuracy: 0.9871 - val_loss: 0.0740 - val_accuracy: 0.9756\n",
      "Epoch 73/100\n",
      "1020/1020 - 1s - loss: 0.0291 - accuracy: 0.9867 - val_loss: 0.0698 - val_accuracy: 0.9742\n",
      "Epoch 74/100\n",
      "1020/1020 - 1s - loss: 0.0283 - accuracy: 0.9875 - val_loss: 0.0716 - val_accuracy: 0.9765\n",
      "Epoch 75/100\n",
      "1020/1020 - 1s - loss: 0.0282 - accuracy: 0.9877 - val_loss: 0.0748 - val_accuracy: 0.9726\n",
      "Epoch 76/100\n",
      "1020/1020 - 1s - loss: 0.0287 - accuracy: 0.9875 - val_loss: 0.0739 - val_accuracy: 0.9743\n",
      "Epoch 77/100\n",
      "1020/1020 - 1s - loss: 0.0280 - accuracy: 0.9876 - val_loss: 0.0733 - val_accuracy: 0.9738\n",
      "Epoch 78/100\n",
      "1020/1020 - 1s - loss: 0.0280 - accuracy: 0.9880 - val_loss: 0.0748 - val_accuracy: 0.9710\n",
      "Epoch 79/100\n",
      "1020/1020 - 1s - loss: 0.0279 - accuracy: 0.9878 - val_loss: 0.0755 - val_accuracy: 0.9730\n"
     ]
    },
    {
     "name": "stdout",
     "output_type": "stream",
     "text": [
      "Epoch 80/100\n",
      "1020/1020 - 1s - loss: 0.0271 - accuracy: 0.9884 - val_loss: 0.0753 - val_accuracy: 0.9727\n",
      "Epoch 81/100\n",
      "1020/1020 - 1s - loss: 0.0275 - accuracy: 0.9879 - val_loss: 0.0758 - val_accuracy: 0.9733\n",
      "Epoch 82/100\n",
      "1020/1020 - 1s - loss: 0.0274 - accuracy: 0.9878 - val_loss: 0.0747 - val_accuracy: 0.9729\n",
      "Epoch 83/100\n",
      "1020/1020 - 1s - loss: 0.0269 - accuracy: 0.9878 - val_loss: 0.0774 - val_accuracy: 0.9757\n",
      "Epoch 84/100\n",
      "1020/1020 - 1s - loss: 0.0272 - accuracy: 0.9884 - val_loss: 0.0793 - val_accuracy: 0.9736\n",
      "Epoch 85/100\n",
      "1020/1020 - 1s - loss: 0.0276 - accuracy: 0.9887 - val_loss: 0.0784 - val_accuracy: 0.9733\n",
      "Epoch 86/100\n",
      "1020/1020 - 1s - loss: 0.0262 - accuracy: 0.9887 - val_loss: 0.0796 - val_accuracy: 0.9751\n",
      "Epoch 87/100\n",
      "1020/1020 - 1s - loss: 0.0264 - accuracy: 0.9884 - val_loss: 0.0775 - val_accuracy: 0.9750\n",
      "Epoch 88/100\n",
      "1020/1020 - 1s - loss: 0.0260 - accuracy: 0.9888 - val_loss: 0.0777 - val_accuracy: 0.9745\n",
      "Epoch 89/100\n",
      "1020/1020 - 1s - loss: 0.0260 - accuracy: 0.9888 - val_loss: 0.0772 - val_accuracy: 0.9738\n",
      "Epoch 90/100\n",
      "1020/1020 - 1s - loss: 0.0257 - accuracy: 0.9887 - val_loss: 0.0802 - val_accuracy: 0.9740\n",
      "Epoch 91/100\n",
      "1020/1020 - 1s - loss: 0.0256 - accuracy: 0.9892 - val_loss: 0.0780 - val_accuracy: 0.9735\n",
      "Epoch 92/100\n",
      "1020/1020 - 1s - loss: 0.0254 - accuracy: 0.9885 - val_loss: 0.0827 - val_accuracy: 0.9721\n",
      "Epoch 93/100\n",
      "1020/1020 - 1s - loss: 0.0259 - accuracy: 0.9891 - val_loss: 0.0813 - val_accuracy: 0.9738\n",
      "Epoch 94/100\n",
      "1020/1020 - 1s - loss: 0.0253 - accuracy: 0.9889 - val_loss: 0.0782 - val_accuracy: 0.9736\n",
      "Epoch 95/100\n",
      "1020/1020 - 1s - loss: 0.0248 - accuracy: 0.9886 - val_loss: 0.0834 - val_accuracy: 0.9762\n",
      "Epoch 96/100\n",
      "1020/1020 - 1s - loss: 0.0249 - accuracy: 0.9891 - val_loss: 0.0838 - val_accuracy: 0.9738\n",
      "Epoch 97/100\n",
      "1020/1020 - 1s - loss: 0.0246 - accuracy: 0.9892 - val_loss: 0.0806 - val_accuracy: 0.9739\n",
      "Epoch 98/100\n",
      "1020/1020 - 1s - loss: 0.0247 - accuracy: 0.9893 - val_loss: 0.0840 - val_accuracy: 0.9727\n",
      "Epoch 99/100\n",
      "1020/1020 - 1s - loss: 0.0246 - accuracy: 0.9890 - val_loss: 0.0866 - val_accuracy: 0.9721\n",
      "Epoch 100/100\n",
      "1020/1020 - 1s - loss: 0.0246 - accuracy: 0.9889 - val_loss: 0.0820 - val_accuracy: 0.9735\n"
     ]
    }
   ],
   "source": [
    "history = model.fit(X_train_scaled, \n",
    "                    y_train_categorical, \n",
    "                    epochs=100,\n",
    "                    shuffle=True,\n",
    "                    verbose=2,                    \n",
    "                    validation_data=(X_test_scaled, y_test_categorical)\n",
    "                   )"
   ]
  },
  {
   "cell_type": "code",
   "execution_count": null,
   "id": "4350b20c",
   "metadata": {},
   "outputs": [],
   "source": []
  },
  {
   "cell_type": "markdown",
   "id": "b90e524b",
   "metadata": {},
   "source": [
    "### Create a Deep Learning Model with 2 Hiden Layers"
   ]
  },
  {
   "cell_type": "code",
   "execution_count": 14,
   "id": "79357349",
   "metadata": {},
   "outputs": [],
   "source": [
    "# Create model and add two hiden layers\n",
    "deep_model = Sequential()\n",
    "deep_model.add(Dense(units=100, activation='relu', input_dim=X_train_scaled.shape[1]))\n",
    "deep_model.add(Dense(units=100, activation='relu'))\n",
    "deep_model.add(Dense(units=2, activation='softmax'))"
   ]
  },
  {
   "cell_type": "code",
   "execution_count": 15,
   "id": "021b692d",
   "metadata": {},
   "outputs": [],
   "source": [
    "# Compile and fit the model\n",
    "deep_model.compile(optimizer='adam',\n",
    "              loss='categorical_crossentropy',\n",
    "              metrics=['accuracy'])"
   ]
  },
  {
   "cell_type": "code",
   "execution_count": 16,
   "id": "5f1db49d",
   "metadata": {},
   "outputs": [
    {
     "name": "stdout",
     "output_type": "stream",
     "text": [
      "Model: \"sequential_1\"\n",
      "_________________________________________________________________\n",
      "Layer (type)                 Output Shape              Param #   \n",
      "=================================================================\n",
      "dense_2 (Dense)              (None, 100)               3300      \n",
      "_________________________________________________________________\n",
      "dense_3 (Dense)              (None, 100)               10100     \n",
      "_________________________________________________________________\n",
      "dense_4 (Dense)              (None, 2)                 202       \n",
      "=================================================================\n",
      "Total params: 13,602\n",
      "Trainable params: 13,602\n",
      "Non-trainable params: 0\n",
      "_________________________________________________________________\n"
     ]
    }
   ],
   "source": [
    "deep_model.summary()"
   ]
  },
  {
   "cell_type": "code",
   "execution_count": 17,
   "id": "c637ffd5",
   "metadata": {},
   "outputs": [
    {
     "name": "stdout",
     "output_type": "stream",
     "text": [
      "Epoch 1/100\n",
      "1020/1020 - 1s - loss: 0.0783 - accuracy: 0.9752 - val_loss: 0.0564 - val_accuracy: 0.9779\n",
      "Epoch 2/100\n",
      "1020/1020 - 1s - loss: 0.0526 - accuracy: 0.9790 - val_loss: 0.0559 - val_accuracy: 0.9791\n",
      "Epoch 3/100\n",
      "1020/1020 - 1s - loss: 0.0488 - accuracy: 0.9795 - val_loss: 0.0600 - val_accuracy: 0.9789\n",
      "Epoch 4/100\n",
      "1020/1020 - 1s - loss: 0.0481 - accuracy: 0.9801 - val_loss: 0.0531 - val_accuracy: 0.9787\n",
      "Epoch 5/100\n",
      "1020/1020 - 1s - loss: 0.0459 - accuracy: 0.9800 - val_loss: 0.0569 - val_accuracy: 0.9763\n",
      "Epoch 6/100\n",
      "1020/1020 - 1s - loss: 0.0451 - accuracy: 0.9810 - val_loss: 0.0529 - val_accuracy: 0.9791\n",
      "Epoch 7/100\n",
      "1020/1020 - 1s - loss: 0.0437 - accuracy: 0.9811 - val_loss: 0.0544 - val_accuracy: 0.9791\n",
      "Epoch 8/100\n",
      "1020/1020 - 1s - loss: 0.0428 - accuracy: 0.9812 - val_loss: 0.0522 - val_accuracy: 0.9779\n",
      "Epoch 9/100\n",
      "1020/1020 - 1s - loss: 0.0415 - accuracy: 0.9820 - val_loss: 0.0548 - val_accuracy: 0.9761\n",
      "Epoch 10/100\n",
      "1020/1020 - 1s - loss: 0.0425 - accuracy: 0.9816 - val_loss: 0.0603 - val_accuracy: 0.9791\n",
      "Epoch 11/100\n",
      "1020/1020 - 1s - loss: 0.0396 - accuracy: 0.9818 - val_loss: 0.0555 - val_accuracy: 0.9769\n",
      "Epoch 12/100\n",
      "1020/1020 - 1s - loss: 0.0388 - accuracy: 0.9826 - val_loss: 0.0539 - val_accuracy: 0.9773\n",
      "Epoch 13/100\n",
      "1020/1020 - 1s - loss: 0.0373 - accuracy: 0.9831 - val_loss: 0.0539 - val_accuracy: 0.9760\n",
      "Epoch 14/100\n",
      "1020/1020 - 1s - loss: 0.0367 - accuracy: 0.9833 - val_loss: 0.0576 - val_accuracy: 0.9766\n",
      "Epoch 15/100\n",
      "1020/1020 - 1s - loss: 0.0357 - accuracy: 0.9841 - val_loss: 0.0562 - val_accuracy: 0.9766\n",
      "Epoch 16/100\n",
      "1020/1020 - 1s - loss: 0.0349 - accuracy: 0.9838 - val_loss: 0.0585 - val_accuracy: 0.9771\n",
      "Epoch 17/100\n",
      "1020/1020 - 1s - loss: 0.0336 - accuracy: 0.9848 - val_loss: 0.0583 - val_accuracy: 0.9754\n",
      "Epoch 18/100\n",
      "1020/1020 - 1s - loss: 0.0336 - accuracy: 0.9846 - val_loss: 0.0620 - val_accuracy: 0.9743\n",
      "Epoch 19/100\n",
      "1020/1020 - 1s - loss: 0.0323 - accuracy: 0.9857 - val_loss: 0.0630 - val_accuracy: 0.9754\n",
      "Epoch 20/100\n",
      "1020/1020 - 1s - loss: 0.0308 - accuracy: 0.9858 - val_loss: 0.0635 - val_accuracy: 0.9750\n",
      "Epoch 21/100\n",
      "1020/1020 - 1s - loss: 0.0305 - accuracy: 0.9862 - val_loss: 0.0674 - val_accuracy: 0.9745\n",
      "Epoch 22/100\n",
      "1020/1020 - 1s - loss: 0.0289 - accuracy: 0.9869 - val_loss: 0.0649 - val_accuracy: 0.9742\n",
      "Epoch 23/100\n",
      "1020/1020 - 1s - loss: 0.0284 - accuracy: 0.9872 - val_loss: 0.0714 - val_accuracy: 0.9757\n",
      "Epoch 24/100\n",
      "1020/1020 - 1s - loss: 0.0288 - accuracy: 0.9864 - val_loss: 0.0748 - val_accuracy: 0.9760\n",
      "Epoch 25/100\n",
      "1020/1020 - 1s - loss: 0.0272 - accuracy: 0.9878 - val_loss: 0.0748 - val_accuracy: 0.9745\n",
      "Epoch 26/100\n",
      "1020/1020 - 1s - loss: 0.0257 - accuracy: 0.9876 - val_loss: 0.0764 - val_accuracy: 0.9735\n",
      "Epoch 27/100\n",
      "1020/1020 - 1s - loss: 0.0245 - accuracy: 0.9891 - val_loss: 0.0821 - val_accuracy: 0.9747\n",
      "Epoch 28/100\n",
      "1020/1020 - 1s - loss: 0.0252 - accuracy: 0.9891 - val_loss: 0.0791 - val_accuracy: 0.9716\n",
      "Epoch 29/100\n",
      "1020/1020 - 1s - loss: 0.0235 - accuracy: 0.9895 - val_loss: 0.0970 - val_accuracy: 0.9741\n",
      "Epoch 30/100\n",
      "1020/1020 - 1s - loss: 0.0229 - accuracy: 0.9898 - val_loss: 0.0888 - val_accuracy: 0.9743\n",
      "Epoch 31/100\n",
      "1020/1020 - 1s - loss: 0.0351 - accuracy: 0.9895 - val_loss: 0.0885 - val_accuracy: 0.9726\n",
      "Epoch 32/100\n",
      "1020/1020 - 1s - loss: 0.0220 - accuracy: 0.9904 - val_loss: 0.0857 - val_accuracy: 0.9740\n",
      "Epoch 33/100\n",
      "1020/1020 - 1s - loss: 0.0208 - accuracy: 0.9910 - val_loss: 0.0955 - val_accuracy: 0.9738\n",
      "Epoch 34/100\n",
      "1020/1020 - 1s - loss: 0.0205 - accuracy: 0.9909 - val_loss: 0.0993 - val_accuracy: 0.9727\n",
      "Epoch 35/100\n",
      "1020/1020 - 1s - loss: 0.0199 - accuracy: 0.9911 - val_loss: 0.0960 - val_accuracy: 0.9727\n",
      "Epoch 36/100\n",
      "1020/1020 - 1s - loss: 0.0187 - accuracy: 0.9920 - val_loss: 0.1094 - val_accuracy: 0.9721\n",
      "Epoch 37/100\n",
      "1020/1020 - 1s - loss: 0.0184 - accuracy: 0.9920 - val_loss: 0.1148 - val_accuracy: 0.9743\n",
      "Epoch 38/100\n",
      "1020/1020 - 1s - loss: 0.0184 - accuracy: 0.9918 - val_loss: 0.1075 - val_accuracy: 0.9729\n",
      "Epoch 39/100\n",
      "1020/1020 - 1s - loss: 0.0186 - accuracy: 0.9919 - val_loss: 0.1073 - val_accuracy: 0.9738\n",
      "Epoch 40/100\n",
      "1020/1020 - 1s - loss: 0.0173 - accuracy: 0.9924 - val_loss: 0.1175 - val_accuracy: 0.9744\n",
      "Epoch 41/100\n",
      "1020/1020 - 1s - loss: 0.0163 - accuracy: 0.9933 - val_loss: 0.1231 - val_accuracy: 0.9731\n",
      "Epoch 42/100\n",
      "1020/1020 - 1s - loss: 0.0164 - accuracy: 0.9929 - val_loss: 0.1385 - val_accuracy: 0.9735\n",
      "Epoch 43/100\n",
      "1020/1020 - 1s - loss: 0.0167 - accuracy: 0.9929 - val_loss: 0.1273 - val_accuracy: 0.9721\n",
      "Epoch 44/100\n",
      "1020/1020 - 1s - loss: 0.0148 - accuracy: 0.9939 - val_loss: 0.1404 - val_accuracy: 0.9731\n",
      "Epoch 45/100\n",
      "1020/1020 - 1s - loss: 0.0158 - accuracy: 0.9937 - val_loss: 0.1427 - val_accuracy: 0.9713\n",
      "Epoch 46/100\n",
      "1020/1020 - 1s - loss: 0.0148 - accuracy: 0.9940 - val_loss: 0.1306 - val_accuracy: 0.9700\n",
      "Epoch 47/100\n",
      "1020/1020 - 1s - loss: 0.0139 - accuracy: 0.9944 - val_loss: 0.1386 - val_accuracy: 0.9703\n",
      "Epoch 48/100\n",
      "1020/1020 - 1s - loss: 0.0137 - accuracy: 0.9949 - val_loss: 0.1348 - val_accuracy: 0.9735\n",
      "Epoch 49/100\n",
      "1020/1020 - 1s - loss: 0.0133 - accuracy: 0.9946 - val_loss: 0.1466 - val_accuracy: 0.9727\n",
      "Epoch 50/100\n",
      "1020/1020 - 1s - loss: 0.0128 - accuracy: 0.9949 - val_loss: 0.1384 - val_accuracy: 0.9730\n",
      "Epoch 51/100\n",
      "1020/1020 - 1s - loss: 0.0150 - accuracy: 0.9937 - val_loss: 0.1408 - val_accuracy: 0.9702\n",
      "Epoch 52/100\n",
      "1020/1020 - 1s - loss: 0.0116 - accuracy: 0.9950 - val_loss: 0.1394 - val_accuracy: 0.9707\n",
      "Epoch 53/100\n",
      "1020/1020 - 1s - loss: 0.0125 - accuracy: 0.9951 - val_loss: 0.1473 - val_accuracy: 0.9724\n",
      "Epoch 54/100\n",
      "1020/1020 - 1s - loss: 0.0124 - accuracy: 0.9951 - val_loss: 0.1561 - val_accuracy: 0.9716\n",
      "Epoch 55/100\n",
      "1020/1020 - 1s - loss: 0.0111 - accuracy: 0.9956 - val_loss: 0.1543 - val_accuracy: 0.9710\n",
      "Epoch 56/100\n",
      "1020/1020 - 1s - loss: 0.0118 - accuracy: 0.9954 - val_loss: 0.1683 - val_accuracy: 0.9698\n",
      "Epoch 57/100\n",
      "1020/1020 - 1s - loss: 0.0119 - accuracy: 0.9953 - val_loss: 0.1622 - val_accuracy: 0.9703\n",
      "Epoch 58/100\n",
      "1020/1020 - 1s - loss: 0.0098 - accuracy: 0.9963 - val_loss: 0.1757 - val_accuracy: 0.9716\n",
      "Epoch 59/100\n",
      "1020/1020 - 1s - loss: 0.0103 - accuracy: 0.9960 - val_loss: 0.1808 - val_accuracy: 0.9739\n",
      "Epoch 60/100\n",
      "1020/1020 - 1s - loss: 0.0115 - accuracy: 0.9954 - val_loss: 0.1699 - val_accuracy: 0.9719\n",
      "Epoch 61/100\n",
      "1020/1020 - 1s - loss: 0.0091 - accuracy: 0.9963 - val_loss: 0.1714 - val_accuracy: 0.9709\n",
      "Epoch 62/100\n",
      "1020/1020 - 1s - loss: 0.0086 - accuracy: 0.9966 - val_loss: 0.1864 - val_accuracy: 0.9693\n",
      "Epoch 63/100\n",
      "1020/1020 - 2s - loss: 0.0104 - accuracy: 0.9960 - val_loss: 0.1967 - val_accuracy: 0.9721\n",
      "Epoch 64/100\n",
      "1020/1020 - 1s - loss: 0.0153 - accuracy: 0.9954 - val_loss: 0.1813 - val_accuracy: 0.9715\n",
      "Epoch 65/100\n",
      "1020/1020 - 1s - loss: 0.0094 - accuracy: 0.9964 - val_loss: 0.1847 - val_accuracy: 0.9710\n",
      "Epoch 66/100\n",
      "1020/1020 - 1s - loss: 0.0080 - accuracy: 0.9970 - val_loss: 0.1840 - val_accuracy: 0.9706\n",
      "Epoch 67/100\n",
      "1020/1020 - 1s - loss: 0.0088 - accuracy: 0.9966 - val_loss: 0.1848 - val_accuracy: 0.9702\n",
      "Epoch 68/100\n",
      "1020/1020 - 1s - loss: 0.0084 - accuracy: 0.9968 - val_loss: 0.1978 - val_accuracy: 0.9720\n",
      "Epoch 69/100\n",
      "1020/1020 - 1s - loss: 0.0107 - accuracy: 0.9960 - val_loss: 0.2206 - val_accuracy: 0.9732\n",
      "Epoch 70/100\n",
      "1020/1020 - 1s - loss: 0.0083 - accuracy: 0.9967 - val_loss: 0.2081 - val_accuracy: 0.9686\n",
      "Epoch 71/100\n",
      "1020/1020 - 1s - loss: 0.0081 - accuracy: 0.9969 - val_loss: 0.2139 - val_accuracy: 0.9708\n",
      "Epoch 72/100\n",
      "1020/1020 - 1s - loss: 0.0080 - accuracy: 0.9966 - val_loss: 0.2106 - val_accuracy: 0.9718\n",
      "Epoch 73/100\n",
      "1020/1020 - 1s - loss: 0.0092 - accuracy: 0.9966 - val_loss: 0.2155 - val_accuracy: 0.9712\n",
      "Epoch 74/100\n",
      "1020/1020 - 1s - loss: 0.0085 - accuracy: 0.9967 - val_loss: 0.2220 - val_accuracy: 0.9705\n",
      "Epoch 75/100\n",
      "1020/1020 - 1s - loss: 0.0069 - accuracy: 0.9974 - val_loss: 0.2182 - val_accuracy: 0.9687\n",
      "Epoch 76/100\n",
      "1020/1020 - 1s - loss: 0.0084 - accuracy: 0.9972 - val_loss: 0.2354 - val_accuracy: 0.9713\n",
      "Epoch 77/100\n",
      "1020/1020 - 1s - loss: 0.0081 - accuracy: 0.9968 - val_loss: 0.2195 - val_accuracy: 0.9722\n",
      "Epoch 78/100\n",
      "1020/1020 - 1s - loss: 0.0077 - accuracy: 0.9970 - val_loss: 0.2274 - val_accuracy: 0.9707\n",
      "Epoch 79/100\n",
      "1020/1020 - 1s - loss: 0.0083 - accuracy: 0.9969 - val_loss: 0.2400 - val_accuracy: 0.9709\n"
     ]
    },
    {
     "name": "stdout",
     "output_type": "stream",
     "text": [
      "Epoch 80/100\n",
      "1020/1020 - 1s - loss: 0.0058 - accuracy: 0.9978 - val_loss: 0.2566 - val_accuracy: 0.9720\n",
      "Epoch 81/100\n",
      "1020/1020 - 1s - loss: 0.0101 - accuracy: 0.9962 - val_loss: 0.2318 - val_accuracy: 0.9706\n",
      "Epoch 82/100\n",
      "1020/1020 - 1s - loss: 0.0074 - accuracy: 0.9971 - val_loss: 0.2298 - val_accuracy: 0.9722\n",
      "Epoch 83/100\n",
      "1020/1020 - 1s - loss: 0.0057 - accuracy: 0.9978 - val_loss: 0.2436 - val_accuracy: 0.9717\n",
      "Epoch 84/100\n",
      "1020/1020 - 1s - loss: 0.0070 - accuracy: 0.9976 - val_loss: 0.2439 - val_accuracy: 0.9712\n",
      "Epoch 85/100\n",
      "1020/1020 - 1s - loss: 0.0084 - accuracy: 0.9971 - val_loss: 0.2443 - val_accuracy: 0.9705\n",
      "Epoch 86/100\n",
      "1020/1020 - 1s - loss: 0.0081 - accuracy: 0.9971 - val_loss: 0.2437 - val_accuracy: 0.9704\n",
      "Epoch 87/100\n",
      "1020/1020 - 1s - loss: 0.0068 - accuracy: 0.9972 - val_loss: 0.2470 - val_accuracy: 0.9691\n",
      "Epoch 88/100\n",
      "1020/1020 - 1s - loss: 0.0087 - accuracy: 0.9968 - val_loss: 0.2512 - val_accuracy: 0.9716\n",
      "Epoch 89/100\n",
      "1020/1020 - 1s - loss: 0.0075 - accuracy: 0.9972 - val_loss: 0.2654 - val_accuracy: 0.9699\n",
      "Epoch 90/100\n",
      "1020/1020 - 1s - loss: 0.0059 - accuracy: 0.9976 - val_loss: 0.2525 - val_accuracy: 0.9713\n",
      "Epoch 91/100\n",
      "1020/1020 - 1s - loss: 0.0050 - accuracy: 0.9981 - val_loss: 0.2584 - val_accuracy: 0.9709\n",
      "Epoch 92/100\n",
      "1020/1020 - 1s - loss: 0.0070 - accuracy: 0.9974 - val_loss: 0.2575 - val_accuracy: 0.9710\n",
      "Epoch 93/100\n",
      "1020/1020 - 1s - loss: 0.0060 - accuracy: 0.9975 - val_loss: 0.2611 - val_accuracy: 0.9732\n",
      "Epoch 94/100\n",
      "1020/1020 - 1s - loss: 0.0087 - accuracy: 0.9965 - val_loss: 0.2617 - val_accuracy: 0.9721\n",
      "Epoch 95/100\n",
      "1020/1020 - 1s - loss: 0.0062 - accuracy: 0.9977 - val_loss: 0.2619 - val_accuracy: 0.9709\n",
      "Epoch 96/100\n",
      "1020/1020 - 2s - loss: 0.0057 - accuracy: 0.9979 - val_loss: 0.2606 - val_accuracy: 0.9697\n",
      "Epoch 97/100\n",
      "1020/1020 - 1s - loss: 0.0066 - accuracy: 0.9978 - val_loss: 0.3020 - val_accuracy: 0.9718\n",
      "Epoch 98/100\n",
      "1020/1020 - 1s - loss: 0.0062 - accuracy: 0.9977 - val_loss: 0.2779 - val_accuracy: 0.9719\n",
      "Epoch 99/100\n",
      "1020/1020 - 1s - loss: 0.0054 - accuracy: 0.9982 - val_loss: 0.2793 - val_accuracy: 0.9722\n",
      "Epoch 100/100\n",
      "1020/1020 - 1s - loss: 0.0056 - accuracy: 0.9980 - val_loss: 0.2937 - val_accuracy: 0.9732\n"
     ]
    }
   ],
   "source": [
    "deep_history = deep_model.fit(X_train_scaled, \n",
    "                    y_train_categorical, \n",
    "                    epochs=100,\n",
    "                    shuffle=True,\n",
    "                    verbose=2,                    \n",
    "                    validation_data=(X_test_scaled, y_test_categorical)\n",
    "                   )"
   ]
  },
  {
   "cell_type": "markdown",
   "id": "c1b0f896",
   "metadata": {},
   "source": [
    "### Quantify the Trained Model"
   ]
  },
  {
   "cell_type": "code",
   "execution_count": 18,
   "id": "0bdc54fc",
   "metadata": {},
   "outputs": [
    {
     "name": "stdout",
     "output_type": "stream",
     "text": [
      "340/340 - 0s - loss: 0.0820 - accuracy: 0.9735\n",
      "Normal Neural Network - Loss: 0.08198703080415726, Accuracy: 0.9735221266746521\n"
     ]
    }
   ],
   "source": [
    "model_loss, model_accuracy = model.evaluate(\n",
    "    X_test_scaled, y_test_categorical, verbose=2)\n",
    "print(\n",
    "    f\"Normal Neural Network - Loss: {model_loss}, Accuracy: {model_accuracy}\")"
   ]
  },
  {
   "cell_type": "code",
   "execution_count": 19,
   "id": "25a7d2c5",
   "metadata": {},
   "outputs": [
    {
     "name": "stdout",
     "output_type": "stream",
     "text": [
      "340/340 - 0s - loss: 0.2937 - accuracy: 0.9732\n",
      "Deep Learning Neural Network - Loss: 0.29365983605384827, Accuracy: 0.9731543660163879\n"
     ]
    }
   ],
   "source": [
    "deep_model_loss, deep_model_accuracy = deep_model.evaluate(\n",
    "    X_test_scaled, y_test_categorical, verbose=2)\n",
    "print(\n",
    "    f\"Deep Learning Neural Network - Loss: {deep_model_loss}, Accuracy: {deep_model_accuracy}\")"
   ]
  },
  {
   "cell_type": "code",
   "execution_count": 20,
   "id": "5d368823",
   "metadata": {},
   "outputs": [
    {
     "data": {
      "image/png": "[encoded data removed]",
      "text/plain": [
       "<Figure size 720x432 with 1 Axes>"
      ]
     },
     "metadata": {
      "needs_background": "light"
     },
     "output_type": "display_data"
    }
   ],
   "source": [
    "# plot loss for 1 hiden layer\n",
    "\n",
    "loss_train = history.history['loss']\n",
    "loss_test = history.history['val_loss']\n",
    "epochs = range(1,101)\n",
    "plt.figure(figsize=(10,6))\n",
    "plt.plot(epochs, loss_train, 'g', label='Training loss')\n",
    "plt.plot(epochs, loss_test, 'b', label='Testing loss')\n",
    "plt.title('Loss (1 hiden layer)')\n",
    "plt.xlabel('Epochs')\n",
    "plt.ylabel('Loss')\n",
    "plt.ylim(0,0.3)\n",
    "plt.legend()\n",
    "plt.show()"
   ]
  },
  {
   "cell_type": "code",
   "execution_count": 21,
   "id": "3a1c1ea9",
   "metadata": {},
   "outputs": [
    {
     "data": {
      "image/png": "[encoded data removed]",
      "text/plain": [
       "<Figure size 720x432 with 1 Axes>"
      ]
     },
     "metadata": {
      "needs_background": "light"
     },
     "output_type": "display_data"
    }
   ],
   "source": [
    "# plot loss with 2 hiden layers\n",
    "deep_loss_train = deep_history.history['loss']\n",
    "deep_loss_test = deep_history.history['val_loss']\n",
    "epochs = range(1,101)\n",
    "plt.figure(figsize=(10,6))\n",
    "plt.plot(epochs, deep_loss_train, 'g', label='Training loss')\n",
    "plt.plot(epochs, deep_loss_test, 'b', label='Testing loss')\n",
    "plt.title('Loss (Deep Learning with 2 hiden layers)')\n",
    "plt.xlabel('Epochs')\n",
    "plt.ylabel('Loss')\n",
    "plt.ylim(0,0.3)\n",
    "plt.legend()\n",
    "plt.show()"
   ]
  },
  {
   "cell_type": "code",
   "execution_count": 22,
   "id": "df5ae80c",
   "metadata": {},
   "outputs": [
    {
     "data": {
      "image/png": "[encoded data removed]",
      "text/plain": [
       "<Figure size 720x432 with 1 Axes>"
      ]
     },
     "metadata": {
      "needs_background": "light"
     },
     "output_type": "display_data"
    }
   ],
   "source": [
    "# plot accuracy with 1 hiden layer\n",
    "accuracy_train = history.history['accuracy']\n",
    "accuracy_test = history.history['val_accuracy']\n",
    "epochs = range(1,101)\n",
    "plt.figure(figsize=(10,6))\n",
    "plt.plot(epochs, accuracy_train, 'r', label='Training accuracy')\n",
    "plt.plot(epochs, accuracy_test, 'b', label='Testing accuracy')\n",
    "plt.title('Accuracy  (1 hiden layer)')\n",
    "plt.xlabel('Epochs')\n",
    "plt.ylabel('Accuracy')\n",
    "plt.ylim(0.96,1)\n",
    "plt.legend()\n",
    "plt.show()"
   ]
  },
  {
   "cell_type": "code",
   "execution_count": 23,
   "id": "9a20b6a2",
   "metadata": {},
   "outputs": [
    {
     "data": {
      "image/png": "[encoded data removed]",
      "text/plain": [
       "<Figure size 720x432 with 1 Axes>"
      ]
     },
     "metadata": {
      "needs_background": "light"
     },
     "output_type": "display_data"
    }
   ],
   "source": [
    "# plot accuracy with 2 hiden layers\n",
    "deep_accuracy_train = deep_history.history['accuracy']\n",
    "deep_accuracy_test = deep_history.history['val_accuracy']\n",
    "epochs = range(1,101)\n",
    "plt.figure(figsize=(10,6))\n",
    "plt.plot(epochs, deep_accuracy_train, 'r', label='Training accuracy')\n",
    "plt.plot(epochs, deep_accuracy_test, 'b', label='Testing accuracy')\n",
    "plt.title('Accuracy (Deep Learning with 2 hiden layers)')\n",
    "plt.xlabel('Epochs')\n",
    "plt.ylabel('Accuracy')\n",
    "plt.ylim(0.96,1)\n",
    "plt.legend()\n",
    "plt.show()"
   ]
  },
  {
   "cell_type": "code",
   "execution_count": null,
   "id": "236c0871",
   "metadata": {},
   "outputs": [],
   "source": []
  },
  {
   "cell_type": "markdown",
   "id": "345014fe",
   "metadata": {},
   "source": [
    "### Classification report"
   ]
  },
  {
   "cell_type": "code",
   "execution_count": 25,
   "id": "350e61b0",
   "metadata": {},
   "outputs": [],
   "source": [
    "from numpy import argmax"
   ]
  },
  {
   "cell_type": "code",
   "execution_count": 26,
   "id": "0ce94703",
   "metadata": {},
   "outputs": [
    {
     "name": "stdout",
     "output_type": "stream",
     "text": [
      "              precision    recall  f1-score   support\n",
      "\n",
      "  no-default       0.98      0.99      0.99      9960\n",
      "     default       0.86      0.81      0.84       917\n",
      "\n",
      "    accuracy                           0.97     10877\n",
      "   macro avg       0.92      0.90      0.91     10877\n",
      "weighted avg       0.97      0.97      0.97     10877\n",
      "\n"
     ]
    }
   ],
   "source": [
    " # Calculate classification report\n",
    "from sklearn.metrics import classification_report\n",
    "model_predictions = model.predict(X_test_scaled)\n",
    "print(classification_report(y_test, argmax(model_predictions, axis=1),\n",
    "                            target_names=target_names))"
   ]
  },
  {
   "cell_type": "code",
   "execution_count": 27,
   "id": "f7170451",
   "metadata": {},
   "outputs": [
    {
     "data": {
      "text/plain": [
       "<AxesSubplot:>"
      ]
     },
     "execution_count": 27,
     "metadata": {},
     "output_type": "execute_result"
    },
    {
     "data": {
      "image/png": "[encoded data removed]",
      "text/plain": [
       "<Figure size 432x288 with 2 Axes>"
      ]
     },
     "metadata": {
      "needs_background": "light"
     },
     "output_type": "display_data"
    }
   ],
   "source": [
    "import seaborn as sns\n",
    "from sklearn.metrics import confusion_matrix\n",
    "\n",
    "# Confusion Matrix 1 layer\n",
    "sns.heatmap(confusion_matrix(y_test, argmax(model_predictions, axis=1)), annot = True, fmt=\"d\")"
   ]
  },
  {
   "cell_type": "code",
   "execution_count": 28,
   "id": "06a996db",
   "metadata": {},
   "outputs": [
    {
     "name": "stdout",
     "output_type": "stream",
     "text": [
      "              precision    recall  f1-score   support\n",
      "\n",
      "  no-default       0.98      0.99      0.99      9960\n",
      "     default       0.86      0.81      0.84       917\n",
      "\n",
      "    accuracy                           0.97     10877\n",
      "   macro avg       0.92      0.90      0.91     10877\n",
      "weighted avg       0.97      0.97      0.97     10877\n",
      "\n"
     ]
    }
   ],
   "source": [
    "# deep learning model\n",
    "deep_model_predictions = deep_model.predict(X_test_scaled)\n",
    "print(classification_report(y_test, argmax(deep_model_predictions, axis=1),\n",
    "                            target_names=target_names))"
   ]
  },
  {
   "cell_type": "code",
   "execution_count": 29,
   "id": "be2cd237",
   "metadata": {},
   "outputs": [
    {
     "data": {
      "text/plain": [
       "<AxesSubplot:>"
      ]
     },
     "execution_count": 29,
     "metadata": {},
     "output_type": "execute_result"
    },
    {
     "data": {
      "image/png": "[encoded data removed]",
      "text/plain": [
       "<Figure size 432x288 with 2 Axes>"
      ]
     },
     "metadata": {
      "needs_background": "light"
     },
     "output_type": "display_data"
    }
   ],
   "source": [
    "# Confusion Matrix deep learning\n",
    "sns.heatmap(confusion_matrix(y_test, argmax(deep_model_predictions, axis=1)), annot = True, fmt=\"d\")"
   ]
  },
  {
   "cell_type": "code",
   "execution_count": 30,
   "id": "65cd1869",
   "metadata": {},
   "outputs": [],
   "source": [
    "# Save the model\n",
    "model.save(\"saved_models/neural_network_trained.h5\")"
   ]
  },
  {
   "cell_type": "code",
   "execution_count": 31,
   "id": "28307ed0",
   "metadata": {},
   "outputs": [],
   "source": [
    "# Save the deep learning model\n",
    "deep_model.save(\"saved_models/neural_network_deep_trained.h5\")"
   ]
  },
  {
   "cell_type": "code",
   "execution_count": 32,
   "id": "826866a7",
   "metadata": {},
   "outputs": [],
   "source": [
    "# Load the model\n",
    "from tensorflow.keras.models import load_model\n",
    "model_trained = load_model(\"saved_models/neural_network_trained.h5\")\n",
    "deep_trained = load_model(\"saved_models/neural_network_deep_trained.h5\")"
   ]
  },
  {
   "cell_type": "code",
   "execution_count": 33,
   "id": "163a6735",
   "metadata": {},
   "outputs": [
    {
     "name": "stdout",
     "output_type": "stream",
     "text": [
      "340/340 - 0s - loss: 0.0820 - accuracy: 0.9735\n",
      "Normal Neural Network - Loss: 0.08198703080415726, Accuracy: 0.9735221266746521\n"
     ]
    }
   ],
   "source": [
    "model_loss, model_accuracy = model_trained.evaluate(\n",
    "    X_test_scaled, y_test_categorical, verbose=2)\n",
    "print(\n",
    "    f\"Normal Neural Network - Loss: {model_loss}, Accuracy: {model_accuracy}\")"
   ]
  },
  {
   "cell_type": "code",
   "execution_count": 34,
   "id": "6aece30e",
   "metadata": {},
   "outputs": [
    {
     "name": "stdout",
     "output_type": "stream",
     "text": [
      "340/340 - 0s - loss: 0.2937 - accuracy: 0.9732\n",
      "Deep Learning Neural Network - Loss: 0.29365983605384827, Accuracy: 0.9731543660163879\n"
     ]
    }
   ],
   "source": [
    "deep_model_loss, deep_model_accuracy = deep_trained.evaluate(\n",
    "    X_test_scaled, y_test_categorical, verbose=2)\n",
    "print(\n",
    "    f\"Deep Learning Neural Network - Loss: {deep_model_loss}, Accuracy: {deep_model_accuracy}\")"
   ]
  },
  {
   "cell_type": "code",
   "execution_count": null,
   "id": "507030f6",
   "metadata": {},
   "outputs": [],
   "source": []
  }
 ],
 "metadata": {
  "kernelspec": {
   "display_name": "Python 3",
   "language": "python",
   "name": "python3"
  },
  "language_info": {
   "codemirror_mode": {
    "name": "ipython",
    "version": 3
   },
   "file_extension": ".py",
   "mimetype": "text/x-python",
   "name": "python",
   "nbconvert_exporter": "python",
   "pygments_lexer": "ipython3",
   "version": "3.8.8"
  }
 },
 "nbformat": 4,
 "nbformat_minor": 5
}
