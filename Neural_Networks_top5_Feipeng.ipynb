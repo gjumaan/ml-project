{
 "cells": [
  {
   "cell_type": "code",
   "execution_count": 1,
   "id": "67595110",
   "metadata": {},
   "outputs": [],
   "source": [
    "import pandas as pd\n",
    "import numpy as np\n",
    "import matplotlib.pyplot as plt"
   ]
  },
  {
   "cell_type": "code",
   "execution_count": 2,
   "id": "f92db038",
   "metadata": {},
   "outputs": [
    {
     "data": {
      "text/html": [
       "<div>\n",
       "<style scoped>\n",
       "    .dataframe tbody tr th:only-of-type {\n",
       "        vertical-align: middle;\n",
       "    }\n",
       "\n",
       "    .dataframe tbody tr th {\n",
       "        vertical-align: top;\n",
       "    }\n",
       "\n",
       "    .dataframe thead th {\n",
       "        text-align: right;\n",
       "    }\n",
       "</style>\n",
       "<table border=\"1\" class=\"dataframe\">\n",
       "  <thead>\n",
       "    <tr style=\"text-align: right;\">\n",
       "      <th></th>\n",
       "      <th>age</th>\n",
       "      <th>no_of_children</th>\n",
       "      <th>net_yearly_income</th>\n",
       "      <th>total_family_members</th>\n",
       "      <th>migrant_worker</th>\n",
       "      <th>yearly_debt_payments</th>\n",
       "      <th>credit_limit</th>\n",
       "      <th>credit_limit_used(%)</th>\n",
       "      <th>credit_score</th>\n",
       "      <th>prev_defaults</th>\n",
       "      <th>...</th>\n",
       "      <th>occupation_type_Low-skill Laborers</th>\n",
       "      <th>occupation_type_Managers</th>\n",
       "      <th>occupation_type_Medicine staff</th>\n",
       "      <th>occupation_type_Private service staff</th>\n",
       "      <th>occupation_type_Realty agents</th>\n",
       "      <th>occupation_type_Sales staff</th>\n",
       "      <th>occupation_type_Secretaries</th>\n",
       "      <th>occupation_type_Security staff</th>\n",
       "      <th>occupation_type_Unknown</th>\n",
       "      <th>occupation_type_Waiters/barmen staff</th>\n",
       "    </tr>\n",
       "  </thead>\n",
       "  <tbody>\n",
       "    <tr>\n",
       "      <th>0</th>\n",
       "      <td>46</td>\n",
       "      <td>0.0</td>\n",
       "      <td>107934.04</td>\n",
       "      <td>1.0</td>\n",
       "      <td>1.0</td>\n",
       "      <td>33070.28</td>\n",
       "      <td>18690.93</td>\n",
       "      <td>73</td>\n",
       "      <td>544.0</td>\n",
       "      <td>2</td>\n",
       "      <td>...</td>\n",
       "      <td>0</td>\n",
       "      <td>0</td>\n",
       "      <td>0</td>\n",
       "      <td>0</td>\n",
       "      <td>0</td>\n",
       "      <td>0</td>\n",
       "      <td>0</td>\n",
       "      <td>0</td>\n",
       "      <td>1</td>\n",
       "      <td>0</td>\n",
       "    </tr>\n",
       "    <tr>\n",
       "      <th>1</th>\n",
       "      <td>29</td>\n",
       "      <td>0.0</td>\n",
       "      <td>109862.62</td>\n",
       "      <td>2.0</td>\n",
       "      <td>0.0</td>\n",
       "      <td>15329.53</td>\n",
       "      <td>37745.19</td>\n",
       "      <td>52</td>\n",
       "      <td>857.0</td>\n",
       "      <td>0</td>\n",
       "      <td>...</td>\n",
       "      <td>0</td>\n",
       "      <td>0</td>\n",
       "      <td>0</td>\n",
       "      <td>0</td>\n",
       "      <td>0</td>\n",
       "      <td>0</td>\n",
       "      <td>0</td>\n",
       "      <td>0</td>\n",
       "      <td>0</td>\n",
       "      <td>0</td>\n",
       "    </tr>\n",
       "    <tr>\n",
       "      <th>2</th>\n",
       "      <td>37</td>\n",
       "      <td>0.0</td>\n",
       "      <td>230153.17</td>\n",
       "      <td>2.0</td>\n",
       "      <td>0.0</td>\n",
       "      <td>48416.60</td>\n",
       "      <td>41598.36</td>\n",
       "      <td>43</td>\n",
       "      <td>650.0</td>\n",
       "      <td>0</td>\n",
       "      <td>...</td>\n",
       "      <td>0</td>\n",
       "      <td>0</td>\n",
       "      <td>0</td>\n",
       "      <td>0</td>\n",
       "      <td>0</td>\n",
       "      <td>0</td>\n",
       "      <td>0</td>\n",
       "      <td>0</td>\n",
       "      <td>0</td>\n",
       "      <td>0</td>\n",
       "    </tr>\n",
       "    <tr>\n",
       "      <th>3</th>\n",
       "      <td>39</td>\n",
       "      <td>0.0</td>\n",
       "      <td>122325.82</td>\n",
       "      <td>2.0</td>\n",
       "      <td>0.0</td>\n",
       "      <td>22574.36</td>\n",
       "      <td>32627.76</td>\n",
       "      <td>20</td>\n",
       "      <td>754.0</td>\n",
       "      <td>0</td>\n",
       "      <td>...</td>\n",
       "      <td>0</td>\n",
       "      <td>0</td>\n",
       "      <td>0</td>\n",
       "      <td>0</td>\n",
       "      <td>0</td>\n",
       "      <td>0</td>\n",
       "      <td>0</td>\n",
       "      <td>0</td>\n",
       "      <td>0</td>\n",
       "      <td>0</td>\n",
       "    </tr>\n",
       "    <tr>\n",
       "      <th>4</th>\n",
       "      <td>46</td>\n",
       "      <td>0.0</td>\n",
       "      <td>387286.00</td>\n",
       "      <td>1.0</td>\n",
       "      <td>0.0</td>\n",
       "      <td>38282.95</td>\n",
       "      <td>52950.64</td>\n",
       "      <td>75</td>\n",
       "      <td>927.0</td>\n",
       "      <td>0</td>\n",
       "      <td>...</td>\n",
       "      <td>0</td>\n",
       "      <td>0</td>\n",
       "      <td>0</td>\n",
       "      <td>0</td>\n",
       "      <td>0</td>\n",
       "      <td>0</td>\n",
       "      <td>0</td>\n",
       "      <td>0</td>\n",
       "      <td>0</td>\n",
       "      <td>0</td>\n",
       "    </tr>\n",
       "  </tbody>\n",
       "</table>\n",
       "<p>5 rows × 33 columns</p>\n",
       "</div>"
      ],
      "text/plain": [
       "   age  no_of_children  net_yearly_income  total_family_members  \\\n",
       "0   46             0.0          107934.04                   1.0   \n",
       "1   29             0.0          109862.62                   2.0   \n",
       "2   37             0.0          230153.17                   2.0   \n",
       "3   39             0.0          122325.82                   2.0   \n",
       "4   46             0.0          387286.00                   1.0   \n",
       "\n",
       "   migrant_worker  yearly_debt_payments  credit_limit  credit_limit_used(%)  \\\n",
       "0             1.0              33070.28      18690.93                    73   \n",
       "1             0.0              15329.53      37745.19                    52   \n",
       "2             0.0              48416.60      41598.36                    43   \n",
       "3             0.0              22574.36      32627.76                    20   \n",
       "4             0.0              38282.95      52950.64                    75   \n",
       "\n",
       "   credit_score  prev_defaults  ...  occupation_type_Low-skill Laborers  \\\n",
       "0         544.0              2  ...                                   0   \n",
       "1         857.0              0  ...                                   0   \n",
       "2         650.0              0  ...                                   0   \n",
       "3         754.0              0  ...                                   0   \n",
       "4         927.0              0  ...                                   0   \n",
       "\n",
       "   occupation_type_Managers  occupation_type_Medicine staff  \\\n",
       "0                         0                               0   \n",
       "1                         0                               0   \n",
       "2                         0                               0   \n",
       "3                         0                               0   \n",
       "4                         0                               0   \n",
       "\n",
       "   occupation_type_Private service staff  occupation_type_Realty agents  \\\n",
       "0                                      0                              0   \n",
       "1                                      0                              0   \n",
       "2                                      0                              0   \n",
       "3                                      0                              0   \n",
       "4                                      0                              0   \n",
       "\n",
       "   occupation_type_Sales staff  occupation_type_Secretaries  \\\n",
       "0                            0                            0   \n",
       "1                            0                            0   \n",
       "2                            0                            0   \n",
       "3                            0                            0   \n",
       "4                            0                            0   \n",
       "\n",
       "   occupation_type_Security staff  occupation_type_Unknown  \\\n",
       "0                               0                        1   \n",
       "1                               0                        0   \n",
       "2                               0                        0   \n",
       "3                               0                        0   \n",
       "4                               0                        0   \n",
       "\n",
       "   occupation_type_Waiters/barmen staff  \n",
       "0                                     0  \n",
       "1                                     0  \n",
       "2                                     0  \n",
       "3                                     0  \n",
       "4                                     0  \n",
       "\n",
       "[5 rows x 33 columns]"
      ]
     },
     "execution_count": 2,
     "metadata": {},
     "output_type": "execute_result"
    }
   ],
   "source": [
    "# Read dataset files\n",
    "cleaned_df = pd.read_csv('dataset/train_data_cleaned.csv')\n",
    "cleaned_df.head()"
   ]
  },
  {
   "cell_type": "code",
   "execution_count": 3,
   "id": "9735ff00",
   "metadata": {},
   "outputs": [
    {
     "data": {
      "text/html": [
       "<div>\n",
       "<style scoped>\n",
       "    .dataframe tbody tr th:only-of-type {\n",
       "        vertical-align: middle;\n",
       "    }\n",
       "\n",
       "    .dataframe tbody tr th {\n",
       "        vertical-align: top;\n",
       "    }\n",
       "\n",
       "    .dataframe thead th {\n",
       "        text-align: right;\n",
       "    }\n",
       "</style>\n",
       "<table border=\"1\" class=\"dataframe\">\n",
       "  <thead>\n",
       "    <tr style=\"text-align: right;\">\n",
       "      <th></th>\n",
       "      <th>credit_score</th>\n",
       "      <th>prev_defaults</th>\n",
       "      <th>default_in_last_6months</th>\n",
       "      <th>net_yearly_income</th>\n",
       "      <th>yearly_debt_payments</th>\n",
       "      <th>credit_card_default</th>\n",
       "    </tr>\n",
       "  </thead>\n",
       "  <tbody>\n",
       "    <tr>\n",
       "      <th>0</th>\n",
       "      <td>544.0</td>\n",
       "      <td>2</td>\n",
       "      <td>1</td>\n",
       "      <td>107934.04</td>\n",
       "      <td>33070.28</td>\n",
       "      <td>1</td>\n",
       "    </tr>\n",
       "    <tr>\n",
       "      <th>1</th>\n",
       "      <td>857.0</td>\n",
       "      <td>0</td>\n",
       "      <td>0</td>\n",
       "      <td>109862.62</td>\n",
       "      <td>15329.53</td>\n",
       "      <td>0</td>\n",
       "    </tr>\n",
       "    <tr>\n",
       "      <th>2</th>\n",
       "      <td>650.0</td>\n",
       "      <td>0</td>\n",
       "      <td>0</td>\n",
       "      <td>230153.17</td>\n",
       "      <td>48416.60</td>\n",
       "      <td>0</td>\n",
       "    </tr>\n",
       "    <tr>\n",
       "      <th>3</th>\n",
       "      <td>754.0</td>\n",
       "      <td>0</td>\n",
       "      <td>0</td>\n",
       "      <td>122325.82</td>\n",
       "      <td>22574.36</td>\n",
       "      <td>0</td>\n",
       "    </tr>\n",
       "    <tr>\n",
       "      <th>4</th>\n",
       "      <td>927.0</td>\n",
       "      <td>0</td>\n",
       "      <td>0</td>\n",
       "      <td>387286.00</td>\n",
       "      <td>38282.95</td>\n",
       "      <td>0</td>\n",
       "    </tr>\n",
       "  </tbody>\n",
       "</table>\n",
       "</div>"
      ],
      "text/plain": [
       "   credit_score  prev_defaults  default_in_last_6months  net_yearly_income  \\\n",
       "0         544.0              2                        1          107934.04   \n",
       "1         857.0              0                        0          109862.62   \n",
       "2         650.0              0                        0          230153.17   \n",
       "3         754.0              0                        0          122325.82   \n",
       "4         927.0              0                        0          387286.00   \n",
       "\n",
       "   yearly_debt_payments  credit_card_default  \n",
       "0              33070.28                    1  \n",
       "1              15329.53                    0  \n",
       "2              48416.60                    0  \n",
       "3              22574.36                    0  \n",
       "4              38282.95                    0  "
      ]
     },
     "execution_count": 3,
     "metadata": {},
     "output_type": "execute_result"
    }
   ],
   "source": [
    "#Keep only the top 5 important features\n",
    "df = cleaned_df[['credit_score', 'prev_defaults', 'default_in_last_6months', 'net_yearly_income','yearly_debt_payments', 'credit_card_default']]\n",
    "df.head()"
   ]
  },
  {
   "cell_type": "code",
   "execution_count": 4,
   "id": "788794bc",
   "metadata": {},
   "outputs": [
    {
     "name": "stdout",
     "output_type": "stream",
     "text": [
      "(43508, 5) (43508,)\n"
     ]
    }
   ],
   "source": [
    "# Split features and labels\n",
    "X = df.drop('credit_card_default', axis=1)\n",
    "y = df['credit_card_default']\n",
    "target_names = [\"no-default\", \"default\"]\n",
    "\n",
    "print(X.shape, y.shape)"
   ]
  },
  {
   "cell_type": "code",
   "execution_count": 5,
   "id": "527e81f5",
   "metadata": {},
   "outputs": [],
   "source": [
    "# Use train_test_split to create training and testing data\n",
    "from sklearn.model_selection import train_test_split\n",
    "X_train, X_test, y_train, y_test = train_test_split(X, y, random_state=1)"
   ]
  },
  {
   "cell_type": "code",
   "execution_count": 6,
   "id": "9ee4a22f",
   "metadata": {},
   "outputs": [],
   "source": [
    "from sklearn.preprocessing import StandardScaler\n",
    "# Create a StandardScater model and fit it to the training data\n",
    "X_scaler = StandardScaler().fit(X_train)"
   ]
  },
  {
   "cell_type": "code",
   "execution_count": 7,
   "id": "d9c7d06c",
   "metadata": {},
   "outputs": [],
   "source": [
    "# Transform the training and testing data using the X_scaler\n",
    "X_train_scaled = X_scaler.transform(X_train)\n",
    "X_test_scaled = X_scaler.transform(X_test)"
   ]
  },
  {
   "cell_type": "code",
   "execution_count": 8,
   "id": "cced5501",
   "metadata": {},
   "outputs": [
    {
     "data": {
      "text/plain": [
       "array([[1., 0.],\n",
       "       [1., 0.],\n",
       "       [1., 0.],\n",
       "       ...,\n",
       "       [1., 0.],\n",
       "       [1., 0.],\n",
       "       [1., 0.]], dtype=float32)"
      ]
     },
     "execution_count": 8,
     "metadata": {},
     "output_type": "execute_result"
    }
   ],
   "source": [
    "from tensorflow.keras.utils import to_categorical\n",
    "\n",
    "# One-hot encoding\n",
    "y_train_categorical = to_categorical(y_train)\n",
    "y_test_categorical = to_categorical(y_test)\n",
    "y_train_categorical"
   ]
  },
  {
   "cell_type": "code",
   "execution_count": 9,
   "id": "782ccf5e",
   "metadata": {},
   "outputs": [
    {
     "data": {
      "text/plain": [
       "(32631, 5)"
      ]
     },
     "execution_count": 9,
     "metadata": {},
     "output_type": "execute_result"
    }
   ],
   "source": [
    "X_train_scaled.shape"
   ]
  },
  {
   "cell_type": "markdown",
   "id": "1b9127a1",
   "metadata": {},
   "source": [
    "### Create a Neural Network Model with 1 Hiden Layer"
   ]
  },
  {
   "cell_type": "code",
   "execution_count": 10,
   "id": "4067f7ae",
   "metadata": {},
   "outputs": [],
   "source": [
    "from tensorflow.keras.models import Sequential\n",
    "from tensorflow.keras.layers import Dense"
   ]
  },
  {
   "cell_type": "code",
   "execution_count": 11,
   "id": "703c87d7",
   "metadata": {},
   "outputs": [],
   "source": [
    "# Create model and add 1 hiden layers\n",
    "model = Sequential()\n",
    "model.add(Dense(units=100, activation='relu', input_dim=X_train_scaled.shape[1]))\n",
    "model.add(Dense(units=2, activation='softmax'))"
   ]
  },
  {
   "cell_type": "code",
   "execution_count": 12,
   "id": "0b440147",
   "metadata": {},
   "outputs": [],
   "source": [
    "# Compile and fit the model\n",
    "model.compile(optimizer='adam',\n",
    "              loss='categorical_crossentropy',\n",
    "              metrics=['accuracy'])"
   ]
  },
  {
   "cell_type": "code",
   "execution_count": 13,
   "id": "562a3905",
   "metadata": {},
   "outputs": [
    {
     "name": "stdout",
     "output_type": "stream",
     "text": [
      "Model: \"sequential\"\n",
      "_________________________________________________________________\n",
      "Layer (type)                 Output Shape              Param #   \n",
      "=================================================================\n",
      "dense (Dense)                (None, 100)               600       \n",
      "_________________________________________________________________\n",
      "dense_1 (Dense)              (None, 2)                 202       \n",
      "=================================================================\n",
      "Total params: 802\n",
      "Trainable params: 802\n",
      "Non-trainable params: 0\n",
      "_________________________________________________________________\n"
     ]
    }
   ],
   "source": [
    "model.summary()"
   ]
  },
  {
   "cell_type": "code",
   "execution_count": 14,
   "id": "9de21402",
   "metadata": {},
   "outputs": [
    {
     "name": "stdout",
     "output_type": "stream",
     "text": [
      "Epoch 1/100\n",
      "1020/1020 - 1s - loss: 0.1042 - accuracy: 0.9741 - val_loss: 0.0710 - val_accuracy: 0.9794\n",
      "Epoch 2/100\n",
      "1020/1020 - 1s - loss: 0.0667 - accuracy: 0.9808 - val_loss: 0.0713 - val_accuracy: 0.9794\n",
      "Epoch 3/100\n",
      "1020/1020 - 1s - loss: 0.0651 - accuracy: 0.9809 - val_loss: 0.0703 - val_accuracy: 0.9794\n",
      "Epoch 4/100\n",
      "1020/1020 - 1s - loss: 0.0647 - accuracy: 0.9809 - val_loss: 0.0698 - val_accuracy: 0.9794\n",
      "Epoch 5/100\n",
      "1020/1020 - 1s - loss: 0.0643 - accuracy: 0.9809 - val_loss: 0.0692 - val_accuracy: 0.9794\n",
      "Epoch 6/100\n",
      "1020/1020 - 1s - loss: 0.0640 - accuracy: 0.9809 - val_loss: 0.0688 - val_accuracy: 0.9794\n",
      "Epoch 7/100\n",
      "1020/1020 - 1s - loss: 0.0637 - accuracy: 0.9809 - val_loss: 0.0684 - val_accuracy: 0.9794\n",
      "Epoch 8/100\n",
      "1020/1020 - 1s - loss: 0.0635 - accuracy: 0.9809 - val_loss: 0.0687 - val_accuracy: 0.9794\n",
      "Epoch 9/100\n",
      "1020/1020 - 1s - loss: 0.0631 - accuracy: 0.9809 - val_loss: 0.0695 - val_accuracy: 0.9794\n",
      "Epoch 10/100\n",
      "1020/1020 - 1s - loss: 0.0629 - accuracy: 0.9809 - val_loss: 0.0681 - val_accuracy: 0.9794\n",
      "Epoch 11/100\n",
      "1020/1020 - 1s - loss: 0.0629 - accuracy: 0.9809 - val_loss: 0.0675 - val_accuracy: 0.9794\n",
      "Epoch 12/100\n",
      "1020/1020 - 1s - loss: 0.0625 - accuracy: 0.9809 - val_loss: 0.0673 - val_accuracy: 0.9794\n",
      "Epoch 13/100\n",
      "1020/1020 - 1s - loss: 0.0623 - accuracy: 0.9809 - val_loss: 0.0670 - val_accuracy: 0.9794\n",
      "Epoch 14/100\n",
      "1020/1020 - 1s - loss: 0.0620 - accuracy: 0.9809 - val_loss: 0.0663 - val_accuracy: 0.9794\n",
      "Epoch 15/100\n",
      "1020/1020 - 1s - loss: 0.0620 - accuracy: 0.9809 - val_loss: 0.0660 - val_accuracy: 0.9794\n",
      "Epoch 16/100\n",
      "1020/1020 - 1s - loss: 0.0618 - accuracy: 0.9809 - val_loss: 0.0656 - val_accuracy: 0.9794\n",
      "Epoch 17/100\n",
      "1020/1020 - 2s - loss: 0.0614 - accuracy: 0.9809 - val_loss: 0.0661 - val_accuracy: 0.9794\n",
      "Epoch 18/100\n",
      "1020/1020 - 2s - loss: 0.0613 - accuracy: 0.9809 - val_loss: 0.0648 - val_accuracy: 0.9794\n",
      "Epoch 19/100\n",
      "1020/1020 - 2s - loss: 0.0613 - accuracy: 0.9809 - val_loss: 0.0652 - val_accuracy: 0.9794\n",
      "Epoch 20/100\n",
      "1020/1020 - 3s - loss: 0.0609 - accuracy: 0.9809 - val_loss: 0.0653 - val_accuracy: 0.9794\n",
      "Epoch 21/100\n",
      "1020/1020 - 4s - loss: 0.0611 - accuracy: 0.9809 - val_loss: 0.0656 - val_accuracy: 0.9794\n",
      "Epoch 22/100\n",
      "1020/1020 - 5s - loss: 0.0610 - accuracy: 0.9809 - val_loss: 0.0659 - val_accuracy: 0.9794\n",
      "Epoch 23/100\n",
      "1020/1020 - 4s - loss: 0.0610 - accuracy: 0.9809 - val_loss: 0.0646 - val_accuracy: 0.9794\n",
      "Epoch 24/100\n",
      "1020/1020 - 5s - loss: 0.0608 - accuracy: 0.9809 - val_loss: 0.0652 - val_accuracy: 0.9794\n",
      "Epoch 25/100\n",
      "1020/1020 - 4s - loss: 0.0609 - accuracy: 0.9809 - val_loss: 0.0642 - val_accuracy: 0.9794\n",
      "Epoch 26/100\n",
      "1020/1020 - 4s - loss: 0.0608 - accuracy: 0.9809 - val_loss: 0.0665 - val_accuracy: 0.9794\n",
      "Epoch 27/100\n",
      "1020/1020 - 5s - loss: 0.0609 - accuracy: 0.9809 - val_loss: 0.0646 - val_accuracy: 0.9794\n",
      "Epoch 28/100\n",
      "1020/1020 - 4s - loss: 0.0608 - accuracy: 0.9809 - val_loss: 0.0650 - val_accuracy: 0.9794\n",
      "Epoch 29/100\n",
      "1020/1020 - 3s - loss: 0.0608 - accuracy: 0.9809 - val_loss: 0.0654 - val_accuracy: 0.9794\n",
      "Epoch 30/100\n",
      "1020/1020 - 5s - loss: 0.0610 - accuracy: 0.9808 - val_loss: 0.0649 - val_accuracy: 0.9794\n",
      "Epoch 31/100\n",
      "1020/1020 - 3s - loss: 0.0608 - accuracy: 0.9809 - val_loss: 0.0643 - val_accuracy: 0.9794\n",
      "Epoch 32/100\n",
      "1020/1020 - 6s - loss: 0.0606 - accuracy: 0.9809 - val_loss: 0.0646 - val_accuracy: 0.9794\n",
      "Epoch 33/100\n",
      "1020/1020 - 5s - loss: 0.0608 - accuracy: 0.9809 - val_loss: 0.0644 - val_accuracy: 0.9794\n",
      "Epoch 34/100\n",
      "1020/1020 - 4s - loss: 0.0607 - accuracy: 0.9809 - val_loss: 0.0643 - val_accuracy: 0.9794\n",
      "Epoch 35/100\n",
      "1020/1020 - 5s - loss: 0.0607 - accuracy: 0.9809 - val_loss: 0.0646 - val_accuracy: 0.9794\n",
      "Epoch 36/100\n",
      "1020/1020 - 4s - loss: 0.0607 - accuracy: 0.9809 - val_loss: 0.0649 - val_accuracy: 0.9794\n",
      "Epoch 37/100\n",
      "1020/1020 - 4s - loss: 0.0607 - accuracy: 0.9809 - val_loss: 0.0641 - val_accuracy: 0.9794\n",
      "Epoch 38/100\n",
      "1020/1020 - 6s - loss: 0.0608 - accuracy: 0.9808 - val_loss: 0.0643 - val_accuracy: 0.9794\n",
      "Epoch 39/100\n",
      "1020/1020 - 5s - loss: 0.0606 - accuracy: 0.9809 - val_loss: 0.0642 - val_accuracy: 0.9794\n",
      "Epoch 40/100\n",
      "1020/1020 - 5s - loss: 0.0606 - accuracy: 0.9809 - val_loss: 0.0647 - val_accuracy: 0.9794\n",
      "Epoch 41/100\n",
      "1020/1020 - 6s - loss: 0.0606 - accuracy: 0.9809 - val_loss: 0.0641 - val_accuracy: 0.9794\n",
      "Epoch 42/100\n",
      "1020/1020 - 6s - loss: 0.0606 - accuracy: 0.9809 - val_loss: 0.0642 - val_accuracy: 0.9794\n",
      "Epoch 43/100\n",
      "1020/1020 - 4s - loss: 0.0605 - accuracy: 0.9809 - val_loss: 0.0644 - val_accuracy: 0.9794\n",
      "Epoch 44/100\n",
      "1020/1020 - 3s - loss: 0.0605 - accuracy: 0.9809 - val_loss: 0.0651 - val_accuracy: 0.9794\n",
      "Epoch 45/100\n",
      "1020/1020 - 5s - loss: 0.0606 - accuracy: 0.9809 - val_loss: 0.0640 - val_accuracy: 0.9794\n",
      "Epoch 46/100\n",
      "1020/1020 - 5s - loss: 0.0605 - accuracy: 0.9809 - val_loss: 0.0675 - val_accuracy: 0.9794\n",
      "Epoch 47/100\n",
      "1020/1020 - 5s - loss: 0.0607 - accuracy: 0.9809 - val_loss: 0.0642 - val_accuracy: 0.9794\n",
      "Epoch 48/100\n",
      "1020/1020 - 6s - loss: 0.0606 - accuracy: 0.9809 - val_loss: 0.0645 - val_accuracy: 0.9794\n",
      "Epoch 49/100\n",
      "1020/1020 - 5s - loss: 0.0605 - accuracy: 0.9809 - val_loss: 0.0654 - val_accuracy: 0.9794\n",
      "Epoch 50/100\n",
      "1020/1020 - 4s - loss: 0.0605 - accuracy: 0.9809 - val_loss: 0.0649 - val_accuracy: 0.9794\n",
      "Epoch 51/100\n",
      "1020/1020 - 5s - loss: 0.0606 - accuracy: 0.9809 - val_loss: 0.0641 - val_accuracy: 0.9794\n",
      "Epoch 52/100\n",
      "1020/1020 - 6s - loss: 0.0605 - accuracy: 0.9809 - val_loss: 0.0643 - val_accuracy: 0.9794\n",
      "Epoch 53/100\n",
      "1020/1020 - 5s - loss: 0.0604 - accuracy: 0.9809 - val_loss: 0.0647 - val_accuracy: 0.9794\n",
      "Epoch 54/100\n",
      "1020/1020 - 4s - loss: 0.0606 - accuracy: 0.9809 - val_loss: 0.0642 - val_accuracy: 0.9794\n",
      "Epoch 55/100\n",
      "1020/1020 - 5s - loss: 0.0606 - accuracy: 0.9809 - val_loss: 0.0640 - val_accuracy: 0.9794\n",
      "Epoch 56/100\n",
      "1020/1020 - 5s - loss: 0.0603 - accuracy: 0.9809 - val_loss: 0.0656 - val_accuracy: 0.9794\n",
      "Epoch 57/100\n",
      "1020/1020 - 6s - loss: 0.0605 - accuracy: 0.9809 - val_loss: 0.0656 - val_accuracy: 0.9794\n",
      "Epoch 58/100\n",
      "1020/1020 - 4s - loss: 0.0605 - accuracy: 0.9809 - val_loss: 0.0642 - val_accuracy: 0.9794\n",
      "Epoch 59/100\n",
      "1020/1020 - 3s - loss: 0.0604 - accuracy: 0.9809 - val_loss: 0.0649 - val_accuracy: 0.9794\n",
      "Epoch 60/100\n",
      "1020/1020 - 4s - loss: 0.0604 - accuracy: 0.9809 - val_loss: 0.0647 - val_accuracy: 0.9794\n",
      "Epoch 61/100\n",
      "1020/1020 - 10s - loss: 0.0603 - accuracy: 0.9809 - val_loss: 0.0643 - val_accuracy: 0.9794\n",
      "Epoch 62/100\n",
      "1020/1020 - 7s - loss: 0.0605 - accuracy: 0.9809 - val_loss: 0.0642 - val_accuracy: 0.9794\n",
      "Epoch 63/100\n",
      "1020/1020 - 8s - loss: 0.0604 - accuracy: 0.9809 - val_loss: 0.0641 - val_accuracy: 0.9794\n",
      "Epoch 64/100\n",
      "1020/1020 - 6s - loss: 0.0603 - accuracy: 0.9809 - val_loss: 0.0659 - val_accuracy: 0.9794\n",
      "Epoch 65/100\n",
      "1020/1020 - 6s - loss: 0.0605 - accuracy: 0.9809 - val_loss: 0.0642 - val_accuracy: 0.9794\n",
      "Epoch 66/100\n",
      "1020/1020 - 6s - loss: 0.0604 - accuracy: 0.9809 - val_loss: 0.0643 - val_accuracy: 0.9794\n",
      "Epoch 67/100\n",
      "1020/1020 - 10s - loss: 0.0604 - accuracy: 0.9809 - val_loss: 0.0642 - val_accuracy: 0.9794\n",
      "Epoch 68/100\n",
      "1020/1020 - 11s - loss: 0.0605 - accuracy: 0.9809 - val_loss: 0.0650 - val_accuracy: 0.9794\n",
      "Epoch 69/100\n",
      "1020/1020 - 6s - loss: 0.0603 - accuracy: 0.9809 - val_loss: 0.0654 - val_accuracy: 0.9794\n",
      "Epoch 70/100\n",
      "1020/1020 - 12s - loss: 0.0604 - accuracy: 0.9809 - val_loss: 0.0651 - val_accuracy: 0.9794\n",
      "Epoch 71/100\n",
      "1020/1020 - 10s - loss: 0.0604 - accuracy: 0.9809 - val_loss: 0.0644 - val_accuracy: 0.9794\n",
      "Epoch 72/100\n",
      "1020/1020 - 12s - loss: 0.0603 - accuracy: 0.9809 - val_loss: 0.0644 - val_accuracy: 0.9794\n",
      "Epoch 73/100\n",
      "1020/1020 - 4s - loss: 0.0601 - accuracy: 0.9809 - val_loss: 0.0656 - val_accuracy: 0.9794\n",
      "Epoch 74/100\n",
      "1020/1020 - 3s - loss: 0.0604 - accuracy: 0.9809 - val_loss: 0.0642 - val_accuracy: 0.9794\n",
      "Epoch 75/100\n",
      "1020/1020 - 3s - loss: 0.0603 - accuracy: 0.9809 - val_loss: 0.0651 - val_accuracy: 0.9794\n",
      "Epoch 76/100\n",
      "1020/1020 - 5s - loss: 0.0603 - accuracy: 0.9809 - val_loss: 0.0648 - val_accuracy: 0.9794\n",
      "Epoch 77/100\n",
      "1020/1020 - 4s - loss: 0.0603 - accuracy: 0.9809 - val_loss: 0.0644 - val_accuracy: 0.9794\n",
      "Epoch 78/100\n",
      "1020/1020 - 4s - loss: 0.0603 - accuracy: 0.9809 - val_loss: 0.0645 - val_accuracy: 0.9794\n",
      "Epoch 79/100\n",
      "1020/1020 - 3s - loss: 0.0603 - accuracy: 0.9809 - val_loss: 0.0645 - val_accuracy: 0.9794\n"
     ]
    },
    {
     "name": "stdout",
     "output_type": "stream",
     "text": [
      "Epoch 80/100\n",
      "1020/1020 - 2s - loss: 0.0604 - accuracy: 0.9809 - val_loss: 0.0646 - val_accuracy: 0.9794\n",
      "Epoch 81/100\n",
      "1020/1020 - 3s - loss: 0.0601 - accuracy: 0.9809 - val_loss: 0.0646 - val_accuracy: 0.9794\n",
      "Epoch 82/100\n",
      "1020/1020 - 2s - loss: 0.0602 - accuracy: 0.9809 - val_loss: 0.0643 - val_accuracy: 0.9794\n",
      "Epoch 83/100\n",
      "1020/1020 - 2s - loss: 0.0604 - accuracy: 0.9809 - val_loss: 0.0644 - val_accuracy: 0.9794\n",
      "Epoch 84/100\n",
      "1020/1020 - 2s - loss: 0.0602 - accuracy: 0.9809 - val_loss: 0.0649 - val_accuracy: 0.9794\n",
      "Epoch 85/100\n",
      "1020/1020 - 2s - loss: 0.0603 - accuracy: 0.9809 - val_loss: 0.0644 - val_accuracy: 0.9794\n",
      "Epoch 86/100\n",
      "1020/1020 - 2s - loss: 0.0602 - accuracy: 0.9809 - val_loss: 0.0643 - val_accuracy: 0.9794\n",
      "Epoch 87/100\n",
      "1020/1020 - 1s - loss: 0.0602 - accuracy: 0.9809 - val_loss: 0.0645 - val_accuracy: 0.9794\n",
      "Epoch 88/100\n",
      "1020/1020 - 1s - loss: 0.0603 - accuracy: 0.9809 - val_loss: 0.0647 - val_accuracy: 0.9794\n",
      "Epoch 89/100\n",
      "1020/1020 - 1s - loss: 0.0604 - accuracy: 0.9809 - val_loss: 0.0644 - val_accuracy: 0.9794\n",
      "Epoch 90/100\n",
      "1020/1020 - 1s - loss: 0.0603 - accuracy: 0.9810 - val_loss: 0.0648 - val_accuracy: 0.9794\n",
      "Epoch 91/100\n",
      "1020/1020 - 1s - loss: 0.0603 - accuracy: 0.9810 - val_loss: 0.0651 - val_accuracy: 0.9794\n",
      "Epoch 92/100\n",
      "1020/1020 - 1s - loss: 0.0604 - accuracy: 0.9809 - val_loss: 0.0645 - val_accuracy: 0.9794\n",
      "Epoch 93/100\n",
      "1020/1020 - 1s - loss: 0.0601 - accuracy: 0.9810 - val_loss: 0.0654 - val_accuracy: 0.9794\n",
      "Epoch 94/100\n",
      "1020/1020 - 1s - loss: 0.0603 - accuracy: 0.9809 - val_loss: 0.0659 - val_accuracy: 0.9794\n",
      "Epoch 95/100\n",
      "1020/1020 - 1s - loss: 0.0603 - accuracy: 0.9809 - val_loss: 0.0643 - val_accuracy: 0.9794\n",
      "Epoch 96/100\n",
      "1020/1020 - 1s - loss: 0.0602 - accuracy: 0.9809 - val_loss: 0.0658 - val_accuracy: 0.9794\n",
      "Epoch 97/100\n",
      "1020/1020 - 1s - loss: 0.0602 - accuracy: 0.9809 - val_loss: 0.0646 - val_accuracy: 0.9794\n",
      "Epoch 98/100\n",
      "1020/1020 - 1s - loss: 0.0602 - accuracy: 0.9809 - val_loss: 0.0646 - val_accuracy: 0.9794\n",
      "Epoch 99/100\n",
      "1020/1020 - 1s - loss: 0.0602 - accuracy: 0.9809 - val_loss: 0.0647 - val_accuracy: 0.9794\n",
      "Epoch 100/100\n",
      "1020/1020 - 1s - loss: 0.0600 - accuracy: 0.9809 - val_loss: 0.0650 - val_accuracy: 0.9794\n"
     ]
    }
   ],
   "source": [
    "history = model.fit(X_train_scaled, \n",
    "                    y_train_categorical, \n",
    "                    epochs=100,\n",
    "                    shuffle=True,\n",
    "                    verbose=2,                    \n",
    "                    validation_data=(X_test_scaled, y_test_categorical)\n",
    "                   )"
   ]
  },
  {
   "cell_type": "code",
   "execution_count": null,
   "id": "4350b20c",
   "metadata": {},
   "outputs": [],
   "source": []
  },
  {
   "cell_type": "markdown",
   "id": "b90e524b",
   "metadata": {},
   "source": [
    "### Create a Deep Learning Model with 2 Hiden Layers"
   ]
  },
  {
   "cell_type": "code",
   "execution_count": 15,
   "id": "79357349",
   "metadata": {},
   "outputs": [],
   "source": [
    "# Create model and add two hiden layers\n",
    "deep_model = Sequential()\n",
    "deep_model.add(Dense(units=100, activation='relu', input_dim=X_train_scaled.shape[1]))\n",
    "deep_model.add(Dense(units=100, activation='relu'))\n",
    "deep_model.add(Dense(units=2, activation='softmax'))"
   ]
  },
  {
   "cell_type": "code",
   "execution_count": 16,
   "id": "021b692d",
   "metadata": {},
   "outputs": [],
   "source": [
    "# Compile and fit the model\n",
    "deep_model.compile(optimizer='adam',\n",
    "              loss='categorical_crossentropy',\n",
    "              metrics=['accuracy'])"
   ]
  },
  {
   "cell_type": "code",
   "execution_count": 17,
   "id": "5f1db49d",
   "metadata": {},
   "outputs": [
    {
     "name": "stdout",
     "output_type": "stream",
     "text": [
      "Model: \"sequential_1\"\n",
      "_________________________________________________________________\n",
      "Layer (type)                 Output Shape              Param #   \n",
      "=================================================================\n",
      "dense_2 (Dense)              (None, 100)               600       \n",
      "_________________________________________________________________\n",
      "dense_3 (Dense)              (None, 100)               10100     \n",
      "_________________________________________________________________\n",
      "dense_4 (Dense)              (None, 2)                 202       \n",
      "=================================================================\n",
      "Total params: 10,902\n",
      "Trainable params: 10,902\n",
      "Non-trainable params: 0\n",
      "_________________________________________________________________\n"
     ]
    }
   ],
   "source": [
    "deep_model.summary()"
   ]
  },
  {
   "cell_type": "code",
   "execution_count": 18,
   "id": "c637ffd5",
   "metadata": {},
   "outputs": [
    {
     "name": "stdout",
     "output_type": "stream",
     "text": [
      "Epoch 1/100\n",
      "1020/1020 - 1s - loss: 0.0846 - accuracy: 0.9800 - val_loss: 0.0721 - val_accuracy: 0.9794\n",
      "Epoch 2/100\n",
      "1020/1020 - 1s - loss: 0.0657 - accuracy: 0.9809 - val_loss: 0.0712 - val_accuracy: 0.9794\n",
      "Epoch 3/100\n",
      "1020/1020 - 1s - loss: 0.0646 - accuracy: 0.9809 - val_loss: 0.0691 - val_accuracy: 0.9794\n",
      "Epoch 4/100\n",
      "1020/1020 - 1s - loss: 0.0638 - accuracy: 0.9808 - val_loss: 0.0676 - val_accuracy: 0.9794\n",
      "Epoch 5/100\n",
      "1020/1020 - 1s - loss: 0.0633 - accuracy: 0.9808 - val_loss: 0.0671 - val_accuracy: 0.9794\n",
      "Epoch 6/100\n",
      "1020/1020 - 1s - loss: 0.0625 - accuracy: 0.9808 - val_loss: 0.0672 - val_accuracy: 0.9794\n",
      "Epoch 7/100\n",
      "1020/1020 - 1s - loss: 0.0620 - accuracy: 0.9809 - val_loss: 0.0661 - val_accuracy: 0.9794\n",
      "Epoch 8/100\n",
      "1020/1020 - 1s - loss: 0.0616 - accuracy: 0.9809 - val_loss: 0.0649 - val_accuracy: 0.9794\n",
      "Epoch 9/100\n",
      "1020/1020 - 1s - loss: 0.0616 - accuracy: 0.9809 - val_loss: 0.0646 - val_accuracy: 0.9794\n",
      "Epoch 10/100\n",
      "1020/1020 - 1s - loss: 0.0613 - accuracy: 0.9808 - val_loss: 0.0662 - val_accuracy: 0.9794\n",
      "Epoch 11/100\n",
      "1020/1020 - 1s - loss: 0.0613 - accuracy: 0.9809 - val_loss: 0.0649 - val_accuracy: 0.9794\n",
      "Epoch 12/100\n",
      "1020/1020 - 1s - loss: 0.0611 - accuracy: 0.9809 - val_loss: 0.0658 - val_accuracy: 0.9794\n",
      "Epoch 13/100\n",
      "1020/1020 - 1s - loss: 0.0611 - accuracy: 0.9809 - val_loss: 0.0649 - val_accuracy: 0.9794\n",
      "Epoch 14/100\n",
      "1020/1020 - 1s - loss: 0.0610 - accuracy: 0.9809 - val_loss: 0.0644 - val_accuracy: 0.9794\n",
      "Epoch 15/100\n",
      "1020/1020 - 1s - loss: 0.0610 - accuracy: 0.9809 - val_loss: 0.0649 - val_accuracy: 0.9794\n",
      "Epoch 16/100\n",
      "1020/1020 - 1s - loss: 0.0612 - accuracy: 0.9809 - val_loss: 0.0642 - val_accuracy: 0.9794\n",
      "Epoch 17/100\n",
      "1020/1020 - 1s - loss: 0.0611 - accuracy: 0.9809 - val_loss: 0.0642 - val_accuracy: 0.9794\n",
      "Epoch 18/100\n",
      "1020/1020 - 1s - loss: 0.0609 - accuracy: 0.9809 - val_loss: 0.0641 - val_accuracy: 0.9794\n",
      "Epoch 19/100\n",
      "1020/1020 - 1s - loss: 0.0608 - accuracy: 0.9809 - val_loss: 0.0643 - val_accuracy: 0.9794\n",
      "Epoch 20/100\n",
      "1020/1020 - 1s - loss: 0.0610 - accuracy: 0.9808 - val_loss: 0.0648 - val_accuracy: 0.9794\n",
      "Epoch 21/100\n",
      "1020/1020 - 1s - loss: 0.0609 - accuracy: 0.9809 - val_loss: 0.0666 - val_accuracy: 0.9794\n",
      "Epoch 22/100\n",
      "1020/1020 - 1s - loss: 0.0608 - accuracy: 0.9809 - val_loss: 0.0644 - val_accuracy: 0.9794\n",
      "Epoch 23/100\n",
      "1020/1020 - 1s - loss: 0.0608 - accuracy: 0.9809 - val_loss: 0.0650 - val_accuracy: 0.9794\n",
      "Epoch 24/100\n",
      "1020/1020 - 1s - loss: 0.0609 - accuracy: 0.9809 - val_loss: 0.0646 - val_accuracy: 0.9794\n",
      "Epoch 25/100\n",
      "1020/1020 - 1s - loss: 0.0609 - accuracy: 0.9809 - val_loss: 0.0651 - val_accuracy: 0.9794\n",
      "Epoch 26/100\n",
      "1020/1020 - 1s - loss: 0.0608 - accuracy: 0.9809 - val_loss: 0.0641 - val_accuracy: 0.9794\n",
      "Epoch 27/100\n",
      "1020/1020 - 1s - loss: 0.0623 - accuracy: 0.9808 - val_loss: 0.0651 - val_accuracy: 0.9791\n",
      "Epoch 28/100\n",
      "1020/1020 - 1s - loss: 0.0605 - accuracy: 0.9809 - val_loss: 0.0646 - val_accuracy: 0.9791\n",
      "Epoch 29/100\n",
      "1020/1020 - 1s - loss: 0.0605 - accuracy: 0.9809 - val_loss: 0.0650 - val_accuracy: 0.9794\n",
      "Epoch 30/100\n",
      "1020/1020 - 1s - loss: 0.0606 - accuracy: 0.9809 - val_loss: 0.0659 - val_accuracy: 0.9792\n",
      "Epoch 31/100\n",
      "1020/1020 - 1s - loss: 0.0609 - accuracy: 0.9809 - val_loss: 0.0644 - val_accuracy: 0.9792\n",
      "Epoch 32/100\n",
      "1020/1020 - 1s - loss: 0.0605 - accuracy: 0.9808 - val_loss: 0.0653 - val_accuracy: 0.9794\n",
      "Epoch 33/100\n",
      "1020/1020 - 1s - loss: 0.0606 - accuracy: 0.9809 - val_loss: 0.0642 - val_accuracy: 0.9793\n",
      "Epoch 34/100\n",
      "1020/1020 - 1s - loss: 0.0607 - accuracy: 0.9809 - val_loss: 0.0648 - val_accuracy: 0.9794\n",
      "Epoch 35/100\n",
      "1020/1020 - 1s - loss: 0.0608 - accuracy: 0.9809 - val_loss: 0.0645 - val_accuracy: 0.9794\n",
      "Epoch 36/100\n",
      "1020/1020 - 1s - loss: 0.0605 - accuracy: 0.9809 - val_loss: 0.0666 - val_accuracy: 0.9794\n",
      "Epoch 37/100\n",
      "1020/1020 - 1s - loss: 0.0606 - accuracy: 0.9809 - val_loss: 0.0663 - val_accuracy: 0.9794\n",
      "Epoch 38/100\n",
      "1020/1020 - 1s - loss: 0.0606 - accuracy: 0.9809 - val_loss: 0.0654 - val_accuracy: 0.9794\n",
      "Epoch 39/100\n",
      "1020/1020 - 1s - loss: 0.0604 - accuracy: 0.9809 - val_loss: 0.0649 - val_accuracy: 0.9794\n",
      "Epoch 40/100\n",
      "1020/1020 - 1s - loss: 0.0606 - accuracy: 0.9810 - val_loss: 0.0649 - val_accuracy: 0.9794\n",
      "Epoch 41/100\n",
      "1020/1020 - 1s - loss: 0.0605 - accuracy: 0.9809 - val_loss: 0.0652 - val_accuracy: 0.9792\n",
      "Epoch 42/100\n",
      "1020/1020 - 1s - loss: 0.0606 - accuracy: 0.9809 - val_loss: 0.0646 - val_accuracy: 0.9792\n",
      "Epoch 43/100\n",
      "1020/1020 - 1s - loss: 0.0605 - accuracy: 0.9810 - val_loss: 0.0650 - val_accuracy: 0.9794\n",
      "Epoch 44/100\n",
      "1020/1020 - 1s - loss: 0.0604 - accuracy: 0.9809 - val_loss: 0.0643 - val_accuracy: 0.9794\n",
      "Epoch 45/100\n",
      "1020/1020 - 1s - loss: 0.0606 - accuracy: 0.9809 - val_loss: 0.0647 - val_accuracy: 0.9794\n",
      "Epoch 46/100\n",
      "1020/1020 - 1s - loss: 0.0605 - accuracy: 0.9809 - val_loss: 0.0653 - val_accuracy: 0.9794\n",
      "Epoch 47/100\n",
      "1020/1020 - 1s - loss: 0.0605 - accuracy: 0.9810 - val_loss: 0.0646 - val_accuracy: 0.9793\n",
      "Epoch 48/100\n",
      "1020/1020 - 1s - loss: 0.0605 - accuracy: 0.9809 - val_loss: 0.0652 - val_accuracy: 0.9794\n",
      "Epoch 49/100\n",
      "1020/1020 - 1s - loss: 0.0603 - accuracy: 0.9809 - val_loss: 0.0685 - val_accuracy: 0.9794\n",
      "Epoch 50/100\n",
      "1020/1020 - 1s - loss: 0.0744 - accuracy: 0.9808 - val_loss: 0.0659 - val_accuracy: 0.9791\n",
      "Epoch 51/100\n",
      "1020/1020 - 1s - loss: 0.0604 - accuracy: 0.9809 - val_loss: 0.0662 - val_accuracy: 0.9791\n",
      "Epoch 52/100\n",
      "1020/1020 - 1s - loss: 0.0603 - accuracy: 0.9809 - val_loss: 0.0659 - val_accuracy: 0.9791\n",
      "Epoch 53/100\n",
      "1020/1020 - 1s - loss: 0.0603 - accuracy: 0.9809 - val_loss: 0.0658 - val_accuracy: 0.9791\n",
      "Epoch 54/100\n",
      "1020/1020 - 1s - loss: 0.0604 - accuracy: 0.9809 - val_loss: 0.0652 - val_accuracy: 0.9791\n",
      "Epoch 55/100\n",
      "1020/1020 - 1s - loss: 0.0603 - accuracy: 0.9809 - val_loss: 0.0648 - val_accuracy: 0.9791\n",
      "Epoch 56/100\n",
      "1020/1020 - 1s - loss: 0.0602 - accuracy: 0.9809 - val_loss: 0.0653 - val_accuracy: 0.9792\n",
      "Epoch 57/100\n",
      "1020/1020 - 1s - loss: 0.0603 - accuracy: 0.9809 - val_loss: 0.0645 - val_accuracy: 0.9794\n",
      "Epoch 58/100\n",
      "1020/1020 - 1s - loss: 0.0602 - accuracy: 0.9809 - val_loss: 0.0647 - val_accuracy: 0.9791\n",
      "Epoch 59/100\n",
      "1020/1020 - 1s - loss: 0.0604 - accuracy: 0.9809 - val_loss: 0.0647 - val_accuracy: 0.9794\n",
      "Epoch 60/100\n",
      "1020/1020 - 1s - loss: 0.0603 - accuracy: 0.9809 - val_loss: 0.0647 - val_accuracy: 0.9794\n",
      "Epoch 61/100\n",
      "1020/1020 - 1s - loss: 0.0602 - accuracy: 0.9809 - val_loss: 0.0649 - val_accuracy: 0.9794\n",
      "Epoch 62/100\n",
      "1020/1020 - 1s - loss: 0.0605 - accuracy: 0.9809 - val_loss: 0.0649 - val_accuracy: 0.9793\n",
      "Epoch 63/100\n",
      "1020/1020 - 1s - loss: 0.0602 - accuracy: 0.9809 - val_loss: 0.0646 - val_accuracy: 0.9794\n",
      "Epoch 64/100\n",
      "1020/1020 - 1s - loss: 0.0601 - accuracy: 0.9810 - val_loss: 0.0664 - val_accuracy: 0.9794\n",
      "Epoch 65/100\n",
      "1020/1020 - 1s - loss: 0.0603 - accuracy: 0.9809 - val_loss: 0.0657 - val_accuracy: 0.9794\n",
      "Epoch 66/100\n",
      "1020/1020 - 1s - loss: 0.0601 - accuracy: 0.9809 - val_loss: 0.0657 - val_accuracy: 0.9794\n",
      "Epoch 67/100\n",
      "1020/1020 - 1s - loss: 0.0602 - accuracy: 0.9809 - val_loss: 0.0645 - val_accuracy: 0.9794\n",
      "Epoch 68/100\n",
      "1020/1020 - 1s - loss: 0.0603 - accuracy: 0.9809 - val_loss: 0.0646 - val_accuracy: 0.9794\n",
      "Epoch 69/100\n",
      "1020/1020 - 1s - loss: 0.0600 - accuracy: 0.9810 - val_loss: 0.0644 - val_accuracy: 0.9794\n",
      "Epoch 70/100\n",
      "1020/1020 - 1s - loss: 0.0603 - accuracy: 0.9809 - val_loss: 0.0646 - val_accuracy: 0.9794\n",
      "Epoch 71/100\n",
      "1020/1020 - 1s - loss: 0.0602 - accuracy: 0.9810 - val_loss: 0.0649 - val_accuracy: 0.9794\n",
      "Epoch 72/100\n",
      "1020/1020 - 1s - loss: 0.0601 - accuracy: 0.9810 - val_loss: 0.0651 - val_accuracy: 0.9794\n",
      "Epoch 73/100\n",
      "1020/1020 - 1s - loss: 0.0604 - accuracy: 0.9809 - val_loss: 0.0647 - val_accuracy: 0.9794\n",
      "Epoch 74/100\n",
      "1020/1020 - 1s - loss: 0.0602 - accuracy: 0.9809 - val_loss: 0.0650 - val_accuracy: 0.9794\n",
      "Epoch 75/100\n",
      "1020/1020 - 1s - loss: 0.0602 - accuracy: 0.9808 - val_loss: 0.0645 - val_accuracy: 0.9794\n",
      "Epoch 76/100\n",
      "1020/1020 - 1s - loss: 0.0603 - accuracy: 0.9809 - val_loss: 0.0647 - val_accuracy: 0.9794\n",
      "Epoch 77/100\n",
      "1020/1020 - 1s - loss: 0.0598 - accuracy: 0.9809 - val_loss: 0.0658 - val_accuracy: 0.9794\n",
      "Epoch 78/100\n",
      "1020/1020 - 1s - loss: 0.0601 - accuracy: 0.9809 - val_loss: 0.0652 - val_accuracy: 0.9794\n",
      "Epoch 79/100\n",
      "1020/1020 - 1s - loss: 0.0603 - accuracy: 0.9809 - val_loss: 0.0651 - val_accuracy: 0.9794\n"
     ]
    },
    {
     "name": "stdout",
     "output_type": "stream",
     "text": [
      "Epoch 80/100\n",
      "1020/1020 - 1s - loss: 0.0602 - accuracy: 0.9809 - val_loss: 0.0654 - val_accuracy: 0.9794\n",
      "Epoch 81/100\n",
      "1020/1020 - 1s - loss: 0.0601 - accuracy: 0.9809 - val_loss: 0.0653 - val_accuracy: 0.9794\n",
      "Epoch 82/100\n",
      "1020/1020 - 1s - loss: 0.0600 - accuracy: 0.9809 - val_loss: 0.0647 - val_accuracy: 0.9794\n",
      "Epoch 83/100\n",
      "1020/1020 - 1s - loss: 0.0601 - accuracy: 0.9809 - val_loss: 0.0646 - val_accuracy: 0.9794\n",
      "Epoch 84/100\n",
      "1020/1020 - 1s - loss: 0.0601 - accuracy: 0.9810 - val_loss: 0.0649 - val_accuracy: 0.9794\n",
      "Epoch 85/100\n",
      "1020/1020 - 1s - loss: 0.0601 - accuracy: 0.9810 - val_loss: 0.0650 - val_accuracy: 0.9794\n",
      "Epoch 86/100\n",
      "1020/1020 - 1s - loss: 0.0600 - accuracy: 0.9809 - val_loss: 0.0673 - val_accuracy: 0.9794\n",
      "Epoch 87/100\n",
      "1020/1020 - 1s - loss: 0.0599 - accuracy: 0.9809 - val_loss: 0.0676 - val_accuracy: 0.9794\n",
      "Epoch 88/100\n",
      "1020/1020 - 1s - loss: 0.0600 - accuracy: 0.9809 - val_loss: 0.0650 - val_accuracy: 0.9794\n",
      "Epoch 89/100\n",
      "1020/1020 - 1s - loss: 0.0600 - accuracy: 0.9810 - val_loss: 0.0657 - val_accuracy: 0.9794\n",
      "Epoch 90/100\n",
      "1020/1020 - 1s - loss: 0.0692 - accuracy: 0.9809 - val_loss: 0.0659 - val_accuracy: 0.9793\n",
      "Epoch 91/100\n",
      "1020/1020 - 2s - loss: 0.0599 - accuracy: 0.9809 - val_loss: 0.0662 - val_accuracy: 0.9791\n",
      "Epoch 92/100\n",
      "1020/1020 - 2s - loss: 0.0598 - accuracy: 0.9810 - val_loss: 0.0672 - val_accuracy: 0.9794\n",
      "Epoch 93/100\n",
      "1020/1020 - 2s - loss: 0.0600 - accuracy: 0.9810 - val_loss: 0.0658 - val_accuracy: 0.9791\n",
      "Epoch 94/100\n",
      "1020/1020 - 2s - loss: 0.0597 - accuracy: 0.9809 - val_loss: 0.0654 - val_accuracy: 0.9791\n",
      "Epoch 95/100\n",
      "1020/1020 - 1s - loss: 0.0598 - accuracy: 0.9809 - val_loss: 0.0652 - val_accuracy: 0.9791\n",
      "Epoch 96/100\n",
      "1020/1020 - 1s - loss: 0.0600 - accuracy: 0.9810 - val_loss: 0.0664 - val_accuracy: 0.9791\n",
      "Epoch 97/100\n",
      "1020/1020 - 1s - loss: 0.0599 - accuracy: 0.9810 - val_loss: 0.0659 - val_accuracy: 0.9791\n",
      "Epoch 98/100\n",
      "1020/1020 - 1s - loss: 0.0598 - accuracy: 0.9810 - val_loss: 0.0665 - val_accuracy: 0.9791\n",
      "Epoch 99/100\n",
      "1020/1020 - 1s - loss: 0.0597 - accuracy: 0.9809 - val_loss: 0.0685 - val_accuracy: 0.9791\n",
      "Epoch 100/100\n",
      "1020/1020 - 1s - loss: 0.0600 - accuracy: 0.9809 - val_loss: 0.0663 - val_accuracy: 0.9794\n"
     ]
    }
   ],
   "source": [
    "deep_history = deep_model.fit(X_train_scaled, \n",
    "                    y_train_categorical, \n",
    "                    epochs=100,\n",
    "                    shuffle=True,\n",
    "                    verbose=2,                    \n",
    "                    validation_data=(X_test_scaled, y_test_categorical)\n",
    "                   )"
   ]
  },
  {
   "cell_type": "markdown",
   "id": "c1b0f896",
   "metadata": {},
   "source": [
    "### Quantify the Trained Model"
   ]
  },
  {
   "cell_type": "code",
   "execution_count": 19,
   "id": "0bdc54fc",
   "metadata": {},
   "outputs": [
    {
     "name": "stdout",
     "output_type": "stream",
     "text": [
      "340/340 - 0s - loss: 0.0650 - accuracy: 0.9794\n",
      "Normal Neural Network - Loss: 0.06500496715307236, Accuracy: 0.9794060587882996\n"
     ]
    }
   ],
   "source": [
    "model_loss, model_accuracy = model.evaluate(\n",
    "    X_test_scaled, y_test_categorical, verbose=2)\n",
    "print(\n",
    "    f\"Normal Neural Network - Loss: {model_loss}, Accuracy: {model_accuracy}\")"
   ]
  },
  {
   "cell_type": "code",
   "execution_count": 20,
   "id": "25a7d2c5",
   "metadata": {},
   "outputs": [
    {
     "name": "stdout",
     "output_type": "stream",
     "text": [
      "340/340 - 0s - loss: 0.0663 - accuracy: 0.9794\n",
      "Deep Learning Neural Network - Loss: 0.06631601601839066, Accuracy: 0.9794060587882996\n"
     ]
    }
   ],
   "source": [
    "deep_model_loss, deep_model_accuracy = deep_model.evaluate(\n",
    "    X_test_scaled, y_test_categorical, verbose=2)\n",
    "print(\n",
    "    f\"Deep Learning Neural Network - Loss: {deep_model_loss}, Accuracy: {deep_model_accuracy}\")"
   ]
  },
  {
   "cell_type": "code",
   "execution_count": 21,
   "id": "5d368823",
   "metadata": {},
   "outputs": [
    {
     "data": {
      "image/png": "[encoded data removed]",
      "text/plain": [
       "<Figure size 720x432 with 1 Axes>"
      ]
     },
     "metadata": {
      "needs_background": "light"
     },
     "output_type": "display_data"
    }
   ],
   "source": [
    "# plot loss for 1 hiden layer\n",
    "\n",
    "loss_train = history.history['loss']\n",
    "loss_test = history.history['val_loss']\n",
    "epochs = range(1,101)\n",
    "plt.figure(figsize=(10,6))\n",
    "plt.plot(epochs, loss_train, 'r--', label='Training loss')\n",
    "plt.plot(epochs, loss_test, 'b--', label='Testing loss')\n",
    "plt.title('Loss (Neural Network 1 hidden layer)')\n",
    "plt.xlabel('Epochs')\n",
    "plt.ylabel('Loss')\n",
    "plt.ylim(0,0.3)\n",
    "plt.legend()\n",
    "plt.tight_layout()\n",
    "plt.savefig('static/images/neural_network_loss_top5.jpg', dpi=300)\n",
    "plt.show()"
   ]
  },
  {
   "cell_type": "code",
   "execution_count": 22,
   "id": "3a1c1ea9",
   "metadata": {},
   "outputs": [
    {
     "data": {
      "image/png": "[encoded data removed]",
      "text/plain": [
       "<Figure size 720x432 with 1 Axes>"
      ]
     },
     "metadata": {
      "needs_background": "light"
     },
     "output_type": "display_data"
    }
   ],
   "source": [
    "# plot loss with 2 hiden layers\n",
    "deep_loss_train = deep_history.history['loss']\n",
    "deep_loss_test = deep_history.history['val_loss']\n",
    "epochs = range(1,101)\n",
    "plt.figure(figsize=(10,6))\n",
    "plt.plot(epochs, deep_loss_train, 'r--', label='Training loss')\n",
    "plt.plot(epochs, deep_loss_test, 'b--', label='Testing loss')\n",
    "plt.title('Loss (Deep Learning 2 hidden layers)')\n",
    "plt.xlabel('Epochs')\n",
    "plt.ylabel('Loss')\n",
    "plt.ylim(0,0.3)\n",
    "plt.legend()\n",
    "plt.tight_layout()\n",
    "plt.savefig('static/images/deep_learning_loss_top5.jpg', dpi=300)\n",
    "plt.show()"
   ]
  },
  {
   "cell_type": "code",
   "execution_count": 23,
   "id": "df5ae80c",
   "metadata": {},
   "outputs": [
    {
     "data": {
      "image/png": "[encoded data removed]",
      "text/plain": [
       "<Figure size 720x432 with 1 Axes>"
      ]
     },
     "metadata": {
      "needs_background": "light"
     },
     "output_type": "display_data"
    }
   ],
   "source": [
    "# plot accuracy with 1 hiden layer\n",
    "accuracy_train = history.history['accuracy']\n",
    "accuracy_test = history.history['val_accuracy']\n",
    "epochs = range(1,101)\n",
    "plt.figure(figsize=(10,6))\n",
    "plt.plot(epochs, accuracy_train, 'r', label='Training accuracy')\n",
    "plt.plot(epochs, accuracy_test, 'b', label='Testing accuracy')\n",
    "plt.title('Accuracy  (Neural Network 1 hidden layer)')\n",
    "plt.xlabel('Epochs')\n",
    "plt.ylabel('Accuracy')\n",
    "plt.ylim(0.96,1)\n",
    "plt.legend()\n",
    "plt.tight_layout()\n",
    "plt.savefig('static/images/neural_network_accuracy_top5.jpg', dpi=300)\n",
    "plt.show()"
   ]
  },
  {
   "cell_type": "code",
   "execution_count": 24,
   "id": "9a20b6a2",
   "metadata": {},
   "outputs": [
    {
     "data": {
      "image/png": "[encoded data removed]",
      "text/plain": [
       "<Figure size 720x432 with 1 Axes>"
      ]
     },
     "metadata": {
      "needs_background": "light"
     },
     "output_type": "display_data"
    }
   ],
   "source": [
    "# plot accuracy with 2 hiden layers\n",
    "deep_accuracy_train = deep_history.history['accuracy']\n",
    "deep_accuracy_test = deep_history.history['val_accuracy']\n",
    "epochs = range(1,101)\n",
    "plt.figure(figsize=(10,6))\n",
    "plt.plot(epochs, deep_accuracy_train, 'r', label='Training accuracy')\n",
    "plt.plot(epochs, deep_accuracy_test, 'b', label='Testing accuracy')\n",
    "plt.title('Accuracy (Deep Learning 2 hidden layers)')\n",
    "plt.xlabel('Epochs')\n",
    "plt.ylabel('Accuracy')\n",
    "plt.ylim(0.96,1)\n",
    "plt.legend()\n",
    "plt.tight_layout()\n",
    "plt.savefig('static/images/deep_learning_accuracy_top5.jpg', dpi=300)\n",
    "plt.show()"
   ]
  },
  {
   "cell_type": "code",
   "execution_count": null,
   "id": "236c0871",
   "metadata": {},
   "outputs": [],
   "source": []
  },
  {
   "cell_type": "markdown",
   "id": "345014fe",
   "metadata": {},
   "source": [
    "### Classification report"
   ]
  },
  {
   "cell_type": "code",
   "execution_count": 25,
   "id": "350e61b0",
   "metadata": {},
   "outputs": [],
   "source": [
    "from numpy import argmax"
   ]
  },
  {
   "cell_type": "code",
   "execution_count": 26,
   "id": "0ce94703",
   "metadata": {},
   "outputs": [
    {
     "name": "stdout",
     "output_type": "stream",
     "text": [
      "              precision    recall  f1-score   support\n",
      "\n",
      "  no-default       0.98      1.00      0.99      9960\n",
      "     default       1.00      0.76      0.86       917\n",
      "\n",
      "    accuracy                           0.98     10877\n",
      "   macro avg       0.99      0.88      0.92     10877\n",
      "weighted avg       0.98      0.98      0.98     10877\n",
      "\n"
     ]
    }
   ],
   "source": [
    " # Calculate classification report\n",
    "from sklearn.metrics import classification_report\n",
    "model_predictions = model.predict(X_test_scaled)\n",
    "print(classification_report(y_test, argmax(model_predictions, axis=1),\n",
    "                            target_names=target_names))"
   ]
  },
  {
   "cell_type": "code",
   "execution_count": 27,
   "id": "f7170451",
   "metadata": {},
   "outputs": [
    {
     "data": {
      "image/png": "[encoded data removed]",
      "text/plain": [
       "<Figure size 432x288 with 2 Axes>"
      ]
     },
     "metadata": {
      "needs_background": "light"
     },
     "output_type": "display_data"
    }
   ],
   "source": [
    "import seaborn as sns\n",
    "from sklearn.metrics import confusion_matrix\n",
    "\n",
    "# Confusion Matrix 1 layer\n",
    "sns.heatmap(confusion_matrix(y_test, argmax(model_predictions, axis=1)), cmap=\"Greens\", annot = True, fmt=\"d\")\n",
    "plt.savefig('static/images/neural_network_confusion_top5.jpg', dpi=300)"
   ]
  },
  {
   "cell_type": "code",
   "execution_count": 28,
   "id": "06a996db",
   "metadata": {},
   "outputs": [
    {
     "name": "stdout",
     "output_type": "stream",
     "text": [
      "              precision    recall  f1-score   support\n",
      "\n",
      "  no-default       0.98      1.00      0.99      9960\n",
      "     default       1.00      0.76      0.86       917\n",
      "\n",
      "    accuracy                           0.98     10877\n",
      "   macro avg       0.99      0.88      0.92     10877\n",
      "weighted avg       0.98      0.98      0.98     10877\n",
      "\n"
     ]
    }
   ],
   "source": [
    "# deep learning model\n",
    "deep_model_predictions = deep_model.predict(X_test_scaled)\n",
    "print(classification_report(y_test, argmax(deep_model_predictions, axis=1),\n",
    "                            target_names=target_names))"
   ]
  },
  {
   "cell_type": "code",
   "execution_count": 35,
   "id": "be2cd237",
   "metadata": {},
   "outputs": [
    {
     "data": {
      "image/png": "[encoded data removed]",
      "text/plain": [
       "<Figure size 432x288 with 2 Axes>"
      ]
     },
     "metadata": {
      "needs_background": "light"
     },
     "output_type": "display_data"
    }
   ],
   "source": [
    "# Confusion Matrix deep learning\n",
    "sns.heatmap(confusion_matrix(y_test, argmax(deep_model_predictions, axis=1)), cmap=\"Blues\", annot = True, fmt=\"d\")\n",
    "plt.savefig('static/images/deep_learning_confusion_top5.jpg', dpi=300)"
   ]
  },
  {
   "cell_type": "code",
   "execution_count": 30,
   "id": "65cd1869",
   "metadata": {},
   "outputs": [],
   "source": [
    "# Save the model\n",
    "model.save(\"saved_models/neural_network_trained_top5.h5\")"
   ]
  },
  {
   "cell_type": "code",
   "execution_count": 31,
   "id": "28307ed0",
   "metadata": {},
   "outputs": [],
   "source": [
    "# Save the deep learning model\n",
    "deep_model.save(\"saved_models/neural_network_deep_trained_top5.h5\")"
   ]
  },
  {
   "cell_type": "code",
   "execution_count": 32,
   "id": "826866a7",
   "metadata": {},
   "outputs": [],
   "source": [
    "# Load the model\n",
    "from tensorflow.keras.models import load_model\n",
    "model_trained = load_model(\"saved_models/neural_network_trained_top5.h5\")\n",
    "deep_trained = load_model(\"saved_models/neural_network_deep_trained_top5.h5\")"
   ]
  },
  {
   "cell_type": "code",
   "execution_count": 33,
   "id": "163a6735",
   "metadata": {},
   "outputs": [
    {
     "name": "stdout",
     "output_type": "stream",
     "text": [
      "340/340 - 0s - loss: 0.0650 - accuracy: 0.9794\n",
      "Normal Neural Network - Loss: 0.06500496715307236, Accuracy: 0.9794060587882996\n"
     ]
    }
   ],
   "source": [
    "model_loss, model_accuracy = model_trained.evaluate(\n",
    "    X_test_scaled, y_test_categorical, verbose=2)\n",
    "print(\n",
    "    f\"Normal Neural Network - Loss: {model_loss}, Accuracy: {model_accuracy}\")"
   ]
  },
  {
   "cell_type": "code",
   "execution_count": 34,
   "id": "6aece30e",
   "metadata": {},
   "outputs": [
    {
     "name": "stdout",
     "output_type": "stream",
     "text": [
      "340/340 - 0s - loss: 0.0663 - accuracy: 0.9794\n",
      "Deep Learning Neural Network - Loss: 0.06631601601839066, Accuracy: 0.9794060587882996\n"
     ]
    }
   ],
   "source": [
    "deep_model_loss, deep_model_accuracy = deep_trained.evaluate(\n",
    "    X_test_scaled, y_test_categorical, verbose=2)\n",
    "print(\n",
    "    f\"Deep Learning Neural Network - Loss: {deep_model_loss}, Accuracy: {deep_model_accuracy}\")"
   ]
  },
  {
   "cell_type": "code",
   "execution_count": null,
   "id": "507030f6",
   "metadata": {},
   "outputs": [],
   "source": []
  }
 ],
 "metadata": {
  "kernelspec": {
   "display_name": "Python 3",
   "language": "python",
   "name": "python3"
  },
  "language_info": {
   "codemirror_mode": {
    "name": "ipython",
    "version": 3
   },
   "file_extension": ".py",
   "mimetype": "text/x-python",
   "name": "python",
   "nbconvert_exporter": "python",
   "pygments_lexer": "ipython3",
   "version": "3.8.8"
  }
 },
 "nbformat": 4,
 "nbformat_minor": 5
}
