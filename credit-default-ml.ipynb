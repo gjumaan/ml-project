{
 "cells": [
  {
   "cell_type": "code",
   "execution_count": null,
   "id": "8cbd52b4",
   "metadata": {},
   "outputs": [],
   "source": [
    "import pandas as pd\n",
    "import numpy as np\n",
    "import matplotlib.pyplot as plt"
   ]
  },
  {
   "cell_type": "code",
   "execution_count": null,
   "id": "1f0aaa3d",
   "metadata": {},
   "outputs": [],
   "source": [
    "#Read dataset files\n",
    "test_df = pd.read_csv('dataset/test.csv')\n",
    "train_df = pd.read_csv('dataset/train.csv')\n",
    "sample_df = pd.read_csv('dataset/sample_submission.csv')"
   ]
  },
  {
   "cell_type": "code",
   "execution_count": null,
   "id": "2971d78a",
   "metadata": {},
   "outputs": [],
   "source": [
    "#Clean up"
   ]
  },
  {
   "cell_type": "code",
   "execution_count": null,
   "id": "ed2ae79c",
   "metadata": {},
   "outputs": [],
   "source": []
  },
  {
   "cell_type": "code",
   "execution_count": null,
   "id": "ff50ebf7",
   "metadata": {},
   "outputs": [],
   "source": [
    "#End clean up "
   ]
  },
  {
   "cell_type": "markdown",
   "id": "ab8818fd",
   "metadata": {},
   "source": [
    "-------------"
   ]
  },
  {
   "cell_type": "code",
   "execution_count": null,
   "id": "c3239258",
   "metadata": {},
   "outputs": [],
   "source": [
    "#Ricardo Start"
   ]
  },
  {
   "cell_type": "code",
   "execution_count": null,
   "id": "084e717b",
   "metadata": {},
   "outputs": [],
   "source": []
  },
  {
   "cell_type": "code",
   "execution_count": null,
   "id": "d8d70e49",
   "metadata": {},
   "outputs": [],
   "source": [
    "#Ricardo End"
   ]
  },
  {
   "cell_type": "markdown",
   "id": "28bf73f6",
   "metadata": {},
   "source": [
    "-------------"
   ]
  },
  {
   "cell_type": "code",
   "execution_count": null,
   "id": "824518b8",
   "metadata": {},
   "outputs": [],
   "source": [
    "#Kelly Start"
   ]
  },
  {
   "cell_type": "code",
   "execution_count": null,
   "id": "91fe4096",
   "metadata": {},
   "outputs": [],
   "source": []
  },
  {
   "cell_type": "code",
   "execution_count": null,
   "id": "095f64b6",
   "metadata": {},
   "outputs": [],
   "source": [
    "#Kelly End"
   ]
  },
  {
   "cell_type": "markdown",
   "id": "ccdff3cf",
   "metadata": {},
   "source": [
    "-------------"
   ]
  },
  {
   "cell_type": "code",
   "execution_count": null,
   "id": "697424d6",
   "metadata": {},
   "outputs": [],
   "source": [
    "#Timmy Start"
   ]
  },
  {
   "cell_type": "code",
   "execution_count": null,
   "id": "d65bfe95",
   "metadata": {},
   "outputs": [],
   "source": []
  },
  {
   "cell_type": "code",
   "execution_count": null,
   "id": "07fee753",
   "metadata": {},
   "outputs": [],
   "source": [
    "#Timmy End"
   ]
  },
  {
   "cell_type": "markdown",
   "id": "748671e7",
   "metadata": {},
   "source": [
    "-------------"
   ]
  },
  {
   "cell_type": "code",
   "execution_count": null,
   "id": "4b727c06",
   "metadata": {},
   "outputs": [],
   "source": [
    "#Feipeng Start"
   ]
  },
  {
   "cell_type": "code",
   "execution_count": null,
   "id": "4e41b557",
   "metadata": {},
   "outputs": [],
   "source": []
  },
  {
   "cell_type": "code",
   "execution_count": null,
   "id": "7e70edc0",
   "metadata": {},
   "outputs": [],
   "source": [
    "#Feipeng End"
   ]
  },
  {
   "cell_type": "markdown",
   "id": "0736d90e",
   "metadata": {},
   "source": [
    "-------------"
   ]
  },
  {
   "cell_type": "code",
   "execution_count": null,
   "id": "53309b83",
   "metadata": {},
   "outputs": [],
   "source": [
    "#Jumaan Start"
   ]
  },
  {
   "cell_type": "code",
   "execution_count": null,
   "id": "b2ff0562",
   "metadata": {},
   "outputs": [],
   "source": []
  },
  {
   "cell_type": "code",
   "execution_count": null,
   "id": "6198a29d",
   "metadata": {},
   "outputs": [],
   "source": [
    "#Jumaan End"
   ]
  }
 ],
 "metadata": {
  "kernelspec": {
   "display_name": "Python 3",
   "language": "python",
   "name": "python3"
  },
  "language_info": {
   "codemirror_mode": {
    "name": "ipython",
    "version": 3
   },
   "file_extension": ".py",
   "mimetype": "text/x-python",
   "name": "python",
   "nbconvert_exporter": "python",
   "pygments_lexer": "ipython3",
   "version": "3.8.8"
  }
 },
 "nbformat": 4,
 "nbformat_minor": 5
}
