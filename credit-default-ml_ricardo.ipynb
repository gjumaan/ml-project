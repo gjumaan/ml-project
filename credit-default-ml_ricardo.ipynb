{
 "cells": [
  {
   "cell_type": "code",
   "execution_count": null,
   "id": "8cbd52b4",
   "metadata": {},
   "outputs": [],
   "source": [
    "import pandas as pd\n",
    "import numpy as np\n",
    "import matplotlib.pyplot as plt"
   ]
  },
  {
   "cell_type": "code",
   "execution_count": null,
   "id": "1f0aaa3d",
   "metadata": {},
   "outputs": [],
   "source": [
    "#Read dataset files\n",
    "\n",
    "train_df_cleaned = pd.read_csv('dataset/train_data_cleaned.csv')\n"
   ]
  },
  {
   "cell_type": "code",
   "execution_count": null,
   "id": "2971d78a",
   "metadata": {},
   "outputs": [],
   "source": [
    "#Clean up performed in credit-default-ml.ipynb as well as getdummies functionddd\n"
   ]
  },
  {
   "cell_type": "code",
   "execution_count": null,
   "id": "b1047508",
   "metadata": {},
   "outputs": [],
   "source": [
    "# #Drop all rows with blank fields\n",
    "# test_df_drop_na = test_df.dropna(how='any')\n",
    "# test_df_drop_na\n"
   ]
  },
  {
   "cell_type": "code",
   "execution_count": null,
   "id": "c37d633d",
   "metadata": {},
   "outputs": [],
   "source": [
    "# #Drop row with gender not Male or Female\n",
    "# test_df_drop_xna = test_df_drop_na.loc[test_df_drop_na[\"gender\"] != 'XNA']\n",
    "# test_df_drop_xna"
   ]
  },
  {
   "cell_type": "code",
   "execution_count": null,
   "id": "aee5d530",
   "metadata": {},
   "outputs": [],
   "source": [
    "# # Drop number of days employed column and put into a cleaned dataframe\n",
    "# test_df_cleaned = test_df_drop_xna.drop([\"no_of_days_employed\", \"name\", \"customer_id\"], axis=1)\n",
    "# test_df_cleaned\n",
    "\n"
   ]
  },
  {
   "cell_type": "code",
   "execution_count": null,
   "id": "e5f0f714",
   "metadata": {},
   "outputs": [],
   "source": [
    "# test_df_cleaned = pd.get_dummies(test_df_cleaned, columns=['gender', 'owns_car', 'owns_house',\n",
    "#        'occupation_type'], drop_first=True)"
   ]
  },
  {
   "cell_type": "code",
   "execution_count": null,
   "id": "5741bc45",
   "metadata": {},
   "outputs": [],
   "source": [
    "# #Export dataframe to CSV\n",
    "# test_df_cleaned.to_csv(\"dataset/test_data_cleaned.csv\", index=False, header=True)"
   ]
  },
  {
   "cell_type": "markdown",
   "id": "7e8d2575",
   "metadata": {},
   "source": [
    "## Training Data"
   ]
  },
  {
   "cell_type": "code",
   "execution_count": null,
   "id": "ad2f0f5d",
   "metadata": {},
   "outputs": [],
   "source": [
    "# #Drop all rows with blank fields\n",
    "# train_df_drop_na = train_df.dropna(how='any')\n",
    "# train_df_drop_na"
   ]
  },
  {
   "cell_type": "code",
   "execution_count": null,
   "id": "32f42855",
   "metadata": {},
   "outputs": [],
   "source": [
    "# #Drop row with gender not Male or Female\n",
    "# train_df_drop_xna = train_df_drop_na.loc[train_df_drop_na[\"gender\"] != 'XNA']\n",
    "# train_df_drop_xna"
   ]
  },
  {
   "cell_type": "code",
   "execution_count": null,
   "id": "572a2057",
   "metadata": {},
   "outputs": [],
   "source": [
    "# #Drop number of days employed column and put into cleaned dataframe\n",
    "# train_df_cleaned = train_df_drop_xna.drop([\"no_of_days_employed\", \"name\", \"customer_id\"], axis=1)\n",
    "# train_df_cleaned"
   ]
  },
  {
   "cell_type": "code",
   "execution_count": null,
   "id": "255e539a",
   "metadata": {},
   "outputs": [],
   "source": [
    "# train_df_cleaned = pd.get_dummies(train_df_cleaned, columns=['gender', 'owns_car', 'owns_house',\n",
    "#        'occupation_type'], drop_first=True)"
   ]
  },
  {
   "cell_type": "code",
   "execution_count": null,
   "id": "eb2ec834",
   "metadata": {},
   "outputs": [],
   "source": [
    "# #Export dataframe to CSV\n",
    "# train_df_cleaned.to_csv(\"dataset/train_data_cleaned.csv\", index=False, header=True)"
   ]
  },
  {
   "cell_type": "code",
   "execution_count": null,
   "id": "ff50ebf7",
   "metadata": {},
   "outputs": [],
   "source": [
    "#End clean up "
   ]
  },
  {
   "cell_type": "markdown",
   "id": "ab8818fd",
   "metadata": {},
   "source": [
    "-------------"
   ]
  },
  {
   "cell_type": "code",
   "execution_count": null,
   "id": "c3239258",
   "metadata": {},
   "outputs": [],
   "source": [
    "#Ricardo Start"
   ]
  },
  {
   "cell_type": "code",
   "execution_count": null,
   "id": "084e717b",
   "metadata": {},
   "outputs": [],
   "source": [
    "train_df_cleaned\n"
   ]
  },
  {
   "cell_type": "code",
   "execution_count": null,
   "id": "e99cd5e0",
   "metadata": {},
   "outputs": [],
   "source": [
    "# Assign X (data) and y (target)\n",
    "X = train_df_cleaned.drop(\"credit_card_default\", axis=1)\n",
    "y = train_df_cleaned[\"credit_card_default\"]\n",
    "print(X.shape, y.shape)"
   ]
  },
  {
   "cell_type": "code",
   "execution_count": null,
   "id": "2fd49526",
   "metadata": {},
   "outputs": [],
   "source": [
    "from sklearn.model_selection import train_test_split\n",
    "\n",
    "X_train, X_test, y_train, y_test = train_test_split(X, y, random_state=1)"
   ]
  },
  {
   "cell_type": "code",
   "execution_count": null,
   "id": "1d28312a",
   "metadata": {},
   "outputs": [],
   "source": [
    "from sklearn.preprocessing import StandardScaler\n",
    "X_scaler = StandardScaler().fit(X_train)\n",
    "\n",
    "\n",
    "X_train_scaled = X_scaler.transform(X_train)\n",
    "X_test_scaled = X_scaler.transform(X_test)\n"
   ]
  },
  {
   "cell_type": "code",
   "execution_count": null,
   "id": "ac3c79e9",
   "metadata": {},
   "outputs": [],
   "source": [
    "from sklearn.linear_model import LogisticRegression\n",
    "classifier = LogisticRegression(max_iter=1000)\n",
    "classifier"
   ]
  },
  {
   "cell_type": "code",
   "execution_count": null,
   "id": "18069802",
   "metadata": {},
   "outputs": [],
   "source": [
    "#Fit(train) \n",
    "\n",
    "lgR=classifier.fit(X_train_scaled, y_train)"
   ]
  },
  {
   "cell_type": "code",
   "execution_count": null,
   "id": "f9262359",
   "metadata": {},
   "outputs": [],
   "source": [
    "print(f\"Training Data Score: {classifier.score(X_train_scaled, y_train)}\")\n",
    "print(f\"Testing Data Score: {classifier.score(X_test_scaled, y_test)}\")"
   ]
  },
  {
   "cell_type": "code",
   "execution_count": null,
   "id": "2b8902ca",
   "metadata": {},
   "outputs": [],
   "source": [
    "predictions = classifier.predict(X_test)\n",
    "print(f\"First 35 Predictions:   {predictions[:35]}\")\n",
    "print(f\"First 35 Actual labels: {y_test[:35].tolist()}\")"
   ]
  },
  {
   "cell_type": "code",
   "execution_count": null,
   "id": "774ff12c",
   "metadata": {},
   "outputs": [],
   "source": [
    "results=pd.DataFrame({\"Prediction\": predictions, \"Actual\": y_test}).reset_index(drop=True)"
   ]
  },
  {
   "cell_type": "code",
   "execution_count": null,
   "id": "c88ffd99",
   "metadata": {},
   "outputs": [],
   "source": [
    "results"
   ]
  },
  {
   "cell_type": "code",
   "execution_count": null,
   "id": "d805d0cf",
   "metadata": {},
   "outputs": [],
   "source": [
    "#Save the model\n",
    "import joblib\n",
    "\n",
    "filename = 'saved_models/lgR_trained.joblib'\n",
    "joblib.dump(lgR, filename)"
   ]
  },
  {
   "cell_type": "code",
   "execution_count": null,
   "id": "a57d6070",
   "metadata": {},
   "outputs": [],
   "source": [
    "#Load the model\n",
    "loaded_model = joblib.load(filename)\n",
    "print('Test Acc: %.3f' % loaded_model.score(X_test_scaled, y_test))"
   ]
  },
  {
   "cell_type": "code",
   "execution_count": null,
   "id": "d8d70e49",
   "metadata": {},
   "outputs": [],
   "source": [
    "#Ricardo End"
   ]
  },
  {
   "cell_type": "markdown",
   "id": "28bf73f6",
   "metadata": {},
   "source": [
    "-------------"
   ]
  },
  {
   "cell_type": "code",
   "execution_count": null,
   "id": "824518b8",
   "metadata": {},
   "outputs": [],
   "source": [
    "#Kelly Start"
   ]
  },
  {
   "cell_type": "code",
   "execution_count": null,
   "id": "91fe4096",
   "metadata": {},
   "outputs": [],
   "source": []
  },
  {
   "cell_type": "code",
   "execution_count": null,
   "id": "095f64b6",
   "metadata": {},
   "outputs": [],
   "source": [
    "#Kelly End"
   ]
  },
  {
   "cell_type": "markdown",
   "id": "ccdff3cf",
   "metadata": {},
   "source": [
    "-------------"
   ]
  },
  {
   "cell_type": "code",
   "execution_count": null,
   "id": "697424d6",
   "metadata": {},
   "outputs": [],
   "source": [
    "#Timmy Start"
   ]
  },
  {
   "cell_type": "code",
   "execution_count": null,
   "id": "d65bfe95",
   "metadata": {},
   "outputs": [],
   "source": []
  },
  {
   "cell_type": "code",
   "execution_count": null,
   "id": "07fee753",
   "metadata": {},
   "outputs": [],
   "source": [
    "#Timmy End"
   ]
  },
  {
   "cell_type": "markdown",
   "id": "748671e7",
   "metadata": {},
   "source": [
    "-------------"
   ]
  },
  {
   "cell_type": "code",
   "execution_count": null,
   "id": "4b727c06",
   "metadata": {},
   "outputs": [],
   "source": [
    "#Feipeng Start"
   ]
  },
  {
   "cell_type": "code",
   "execution_count": null,
   "id": "4e41b557",
   "metadata": {},
   "outputs": [],
   "source": []
  },
  {
   "cell_type": "code",
   "execution_count": null,
   "id": "7e70edc0",
   "metadata": {},
   "outputs": [],
   "source": [
    "#Feipeng End"
   ]
  },
  {
   "cell_type": "markdown",
   "id": "0736d90e",
   "metadata": {},
   "source": [
    "-------------"
   ]
  },
  {
   "cell_type": "code",
   "execution_count": null,
   "id": "53309b83",
   "metadata": {},
   "outputs": [],
   "source": [
    "#Jumaan Start"
   ]
  },
  {
   "cell_type": "code",
   "execution_count": null,
   "id": "b2ff0562",
   "metadata": {},
   "outputs": [],
   "source": []
  },
  {
   "cell_type": "code",
   "execution_count": null,
   "id": "6198a29d",
   "metadata": {},
   "outputs": [],
   "source": [
    "#Jumaan End"
   ]
  }
 ],
 "metadata": {
  "kernelspec": {
   "display_name": "Python 3",
   "language": "python",
   "name": "python3"
  },
  "language_info": {
   "codemirror_mode": {
    "name": "ipython",
    "version": 3
   },
   "file_extension": ".py",
   "mimetype": "text/x-python",
   "name": "python",
   "nbconvert_exporter": "python",
   "pygments_lexer": "ipython3",
   "version": "3.8.8"
  }
 },
 "nbformat": 4,
 "nbformat_minor": 5
}
