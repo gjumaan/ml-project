{
 "cells": [
  {
   "cell_type": "code",
   "execution_count": null,
   "id": "002f6f14",
   "metadata": {},
   "outputs": [],
   "source": [
    "#Imports\n",
    "\n",
    "from sklearn import tree\n",
    "import pandas as pd\n",
    "import matplotlib.pyplot as plt"
   ]
  },
  {
   "cell_type": "code",
   "execution_count": null,
   "id": "863db208",
   "metadata": {},
   "outputs": [],
   "source": [
    "#Read CSV\n",
    "\n",
    "train_data = pd.read_csv(\"dataset/train_data_cleaned.csv\")\n",
    "train_data"
   ]
  },
  {
   "cell_type": "code",
   "execution_count": null,
   "id": "415ae070",
   "metadata": {},
   "outputs": [],
   "source": [
    "#Drop the default column\n",
    "\n",
    "train_data_df = train_data.drop(\"credit_card_default\", axis=1)\n",
    "\n",
    "feature_names = train_data.columns\n",
    "train_data_df"
   ]
  },
  {
   "cell_type": "code",
   "execution_count": null,
   "id": "a5d3ab6b",
   "metadata": {},
   "outputs": [],
   "source": [
    "#Target Credit default or no default\n",
    "\n",
    "target = train_data[\"credit_card_default\"]\n",
    "target_names = [\"no default\", \"default\"]\n",
    "\n"
   ]
  },
  {
   "cell_type": "code",
   "execution_count": null,
   "id": "47d2cca7",
   "metadata": {},
   "outputs": [],
   "source": [
    "#Train Test Split\n",
    "\n",
    "from sklearn.model_selection import train_test_split\n",
    "X_train, X_test, y_train, y_test = train_test_split(train_data_df, target, random_state=42)"
   ]
  },
  {
   "cell_type": "code",
   "execution_count": null,
   "id": "59d91453",
   "metadata": {},
   "outputs": [],
   "source": [
    "#Create the scaler\n",
    "\n",
    "from sklearn.preprocessing import StandardScaler\n",
    "X_scaler = StandardScaler().fit(X_train)\n"
   ]
  },
  {
   "cell_type": "code",
   "execution_count": null,
   "id": "d68b4f20",
   "metadata": {},
   "outputs": [],
   "source": [
    "#Scale the data\n",
    "\n",
    "X_train_scaled = X_scaler.transform(X_train)\n",
    "X_test_scaled = X_scaler.transform(X_test)\n"
   ]
  },
  {
   "cell_type": "markdown",
   "id": "d34ee5d1",
   "metadata": {},
   "source": [
    "<b>Decision Tree<b>\n",
    "    "
   ]
  },
  {
   "cell_type": "code",
   "execution_count": null,
   "id": "13af13c7",
   "metadata": {},
   "outputs": [],
   "source": [
    "#Decision tree classifier\n",
    "\n",
    "clf = tree.DecisionTreeClassifier()\n",
    "clf = clf.fit(X_train_scaled, y_train)\n",
    "clf.score(X_test_scaled, y_test)"
   ]
  },
  {
   "cell_type": "code",
   "execution_count": null,
   "id": "c246810d",
   "metadata": {},
   "outputs": [],
   "source": [
    "#Create feature importances - decision tree\n",
    "\n",
    "sorted(zip(clf.feature_importances_, feature_names), reverse=True)"
   ]
  },
  {
   "cell_type": "code",
   "execution_count": null,
   "id": "f5d5ed81",
   "metadata": {},
   "outputs": [],
   "source": [
    "#Create feature importances graph - decision tree\n",
    "\n",
    "feat_importances = pd.Series(clf.feature_importances_, index=X_train.columns)\n",
    "feat_importances.nlargest(5).plot(kind='bar', color=['purple', 'green', 'blue', 'orange', 'red'])\n",
    "plt.title(\"Top 5 Feature Importances Decision Tree\")\n",
    "plt.xlabel(\"Features\")\n",
    "plt.ylabel(\"% of Importance\")\n"
   ]
  },
  {
   "cell_type": "code",
   "execution_count": null,
   "id": "8544223d",
   "metadata": {},
   "outputs": [],
   "source": [
    "# Calculate classification report - decision tree\n",
    "from sklearn.metrics import classification_report\n",
    "predictions = clf.predict(X_test_scaled)\n",
    "print(classification_report(y_test, predictions,\n",
    "                            target_names=target_names))"
   ]
  },
  {
   "cell_type": "code",
   "execution_count": null,
   "id": "41eb19a3",
   "metadata": {},
   "outputs": [],
   "source": [
    "#Confusion matrix - decision tree\n",
    "\n",
    "import seaborn as sns\n",
    "from sklearn.metrics import confusion_matrix\n",
    "sns.heatmap(confusion_matrix(y_test, predictions), cmap=\"Purples\", \n",
    "        annot = True, fmt=\"d\")"
   ]
  },
  {
   "cell_type": "code",
   "execution_count": null,
   "id": "f1bb5b19",
   "metadata": {},
   "outputs": [],
   "source": [
    "#Save the model - decision tree\n",
    "import joblib\n",
    "\n",
    "filename= 'saved_models/decision_tree_trained.joblib'\n",
    "joblib.dump(clf, filename)"
   ]
  },
  {
   "cell_type": "code",
   "execution_count": null,
   "id": "9caaf014",
   "metadata": {},
   "outputs": [],
   "source": [
    "#Load the model - decision tree\n",
    "loaded_model = joblib.load(filename)\n",
    "print('Test Acc: %.3f' % loaded_model.score(X_test_scaled, y_test))"
   ]
  },
  {
   "cell_type": "markdown",
   "id": "8649928b",
   "metadata": {},
   "source": [
    "<b>Random Forest<b>\n"
   ]
  },
  {
   "cell_type": "code",
   "execution_count": null,
   "id": "7e36b443",
   "metadata": {},
   "outputs": [],
   "source": [
    "feature_names1 = train_data_df.columns\n",
    "\n",
    "target = train_data[\"credit_card_default\"]\n",
    "target_names1 = [\"no default\", \"default\"]\n"
   ]
  },
  {
   "cell_type": "code",
   "execution_count": null,
   "id": "5413526e",
   "metadata": {},
   "outputs": [],
   "source": [
    "#Random Forest Classifier\n",
    "\n",
    "from sklearn.ensemble import RandomForestClassifier\n",
    "rf = RandomForestClassifier(n_estimators=200)\n",
    "rf = rf.fit(X_train_scaled, y_train)\n",
    "rf.score(X_test_scaled, y_test)"
   ]
  },
  {
   "cell_type": "code",
   "execution_count": null,
   "id": "cc9f1a9f",
   "metadata": {},
   "outputs": [],
   "source": [
    "#Create feature imporances Random Forest\n",
    "\n",
    "sorted(zip(rf.feature_importances_, feature_names1), reverse=True)"
   ]
  },
  {
   "cell_type": "code",
   "execution_count": null,
   "id": "a8758490",
   "metadata": {},
   "outputs": [],
   "source": [
    "#Create graph of top 5 feature importances Random Forest\n",
    "\n",
    "feat_importances = pd.Series(rf.feature_importances_, index=X_train.columns)\n",
    "feat_importances.nlargest(5).plot(kind='bar', color=['purple', 'green', 'blue', 'orange', 'red'])\n",
    "plt.title(\"Top 5 Feature Importances Random Forest\")\n",
    "plt.xlabel(\"Features\")\n",
    "plt.ylabel(\"% of Importance\")\n",
    "\n",
    "\n"
   ]
  },
  {
   "cell_type": "code",
   "execution_count": null,
   "id": "8dd58908",
   "metadata": {},
   "outputs": [],
   "source": [
    "# Calculate classification report - random forest\n",
    "\n",
    "from sklearn.metrics import classification_report\n",
    "predictions1 = rf.predict(X_test_scaled)\n",
    "print(classification_report(y_test, predictions1,\n",
    "                            target_names=target_names))"
   ]
  },
  {
   "cell_type": "code",
   "execution_count": null,
   "id": "2247b2f5",
   "metadata": {},
   "outputs": [],
   "source": [
    "#Confusion matrix - random forest\n",
    "\n",
    "import seaborn as sns\n",
    "from sklearn.metrics import confusion_matrix\n",
    "sns.heatmap(confusion_matrix(y_test, predictions), cmap=\"Blues\", \n",
    "        annot = True, fmt=\"d\")"
   ]
  },
  {
   "cell_type": "code",
   "execution_count": null,
   "id": "42ec9b15",
   "metadata": {},
   "outputs": [],
   "source": [
    "#Save the model - random forest\n",
    "\n",
    "import joblib\n",
    "\n",
    "filename1= 'saved_models/random_forest_trained.joblib'\n",
    "joblib.dump(rf, filename1)"
   ]
  },
  {
   "cell_type": "code",
   "execution_count": null,
   "id": "3a5207f1",
   "metadata": {},
   "outputs": [],
   "source": [
    "#Load the model - random forest\n",
    "\n",
    "loaded_model = joblib.load(filename1)\n",
    "print('Test Acc: %.3f' % loaded_model.score(X_test_scaled, y_test))"
   ]
  },
  {
   "cell_type": "markdown",
   "id": "5d18c895",
   "metadata": {},
   "source": [
    "<b>Decision Tree Graph<b>"
   ]
  },
  {
   "cell_type": "code",
   "execution_count": null,
   "id": "a8ad3bec",
   "metadata": {
    "scrolled": false
   },
   "outputs": [],
   "source": [
    "#Create decision tree graph\n",
    "\n",
    "import graphviz \n",
    "dot_data = tree.export_graphviz(\n",
    "    clf, out_file=None, \n",
    "    feature_names=feature_names1,  \n",
    "    class_names=target_names1,  \n",
    "    filled=True, rounded=True,  \n",
    "    special_characters=True)  \n",
    "\n",
    "import pydotplus\n",
    "graph = pydotplus.graph_from_dot_data(dot_data)\n",
    "graph.write_png('credit_decision_tree.png')\n",
    "\n",
    "graph = graphviz.Source(dot_data)  \n",
    "graph "
   ]
  },
  {
   "cell_type": "code",
   "execution_count": null,
   "id": "ad36b686",
   "metadata": {},
   "outputs": [],
   "source": []
  },
  {
   "cell_type": "code",
   "execution_count": null,
   "id": "f0f86760",
   "metadata": {},
   "outputs": [],
   "source": []
  }
 ],
 "metadata": {
  "kernelspec": {
   "display_name": "Python 3",
   "language": "python",
   "name": "python3"
  },
  "language_info": {
   "codemirror_mode": {
    "name": "ipython",
    "version": 3
   },
   "file_extension": ".py",
   "mimetype": "text/x-python",
   "name": "python",
   "nbconvert_exporter": "python",
   "pygments_lexer": "ipython3",
   "version": "3.8.8"
  }
 },
 "nbformat": 4,
 "nbformat_minor": 5
}
