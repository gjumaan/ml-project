{
 "cells": [
  {
   "cell_type": "code",
   "execution_count": null,
   "id": "002f6f14",
   "metadata": {},
   "outputs": [],
   "source": [
    "from sklearn import tree\n",
    "import pandas as pd"
   ]
  },
  {
   "cell_type": "code",
   "execution_count": null,
   "id": "863db208",
   "metadata": {},
   "outputs": [],
   "source": [
    "train_data = pd.read_csv(\"dataset/train_data_cleaned.csv\")\n",
    "train_data.head()"
   ]
  },
  {
   "cell_type": "code",
   "execution_count": null,
   "id": "9a6b9206",
   "metadata": {},
   "outputs": [],
   "source": [
    "train_data_drop = train_data.drop(['customer_id', 'name'], axis=1)\n",
    "train_data_drop"
   ]
  },
  {
   "cell_type": "code",
   "execution_count": null,
   "id": "901d2d8b",
   "metadata": {},
   "outputs": [],
   "source": [
    "train_data_clean = pd.get_dummies(train_data_drop, columns=['gender', 'owns_car', 'owns_house',\n",
    "       'occupation_type'], drop_first=True)\n",
    "\n",
    "train_data_clean"
   ]
  },
  {
   "cell_type": "code",
   "execution_count": null,
   "id": "b02f75c2",
   "metadata": {},
   "outputs": [],
   "source": []
  },
  {
   "cell_type": "code",
   "execution_count": null,
   "id": "a5d3ab6b",
   "metadata": {},
   "outputs": [],
   "source": [
    "target = train_data_clean[\"credit_card_default\"]\n",
    "target_names = [\"no\", \"yes\"]\n"
   ]
  },
  {
   "cell_type": "code",
   "execution_count": null,
   "id": "415ae070",
   "metadata": {},
   "outputs": [],
   "source": [
    "train_data_df = train_data_clean.drop(\"credit_card_default\", axis=1)\n",
    "\n",
    "feature_names = train_data_df.columns\n",
    "train_data_df"
   ]
  },
  {
   "cell_type": "code",
   "execution_count": null,
   "id": "47d2cca7",
   "metadata": {},
   "outputs": [],
   "source": [
    "from sklearn.model_selection import train_test_split\n",
    "X_train, X_test, y_train, y_test = train_test_split(train_data_df, target, random_state=42)"
   ]
  },
  {
   "cell_type": "code",
   "execution_count": null,
   "id": "59d91453",
   "metadata": {},
   "outputs": [],
   "source": [
    "from sklearn.preprocessing import StandardScaler\n",
    "X_scaler = StandardScaler().fit(X_train)\n"
   ]
  },
  {
   "cell_type": "code",
   "execution_count": null,
   "id": "d68b4f20",
   "metadata": {},
   "outputs": [],
   "source": [
    "X_train_scaled = X_scaler.transform(X_train)\n",
    "X_test_scaled = X_scaler.transform(X_test)\n"
   ]
  },
  {
   "cell_type": "code",
   "execution_count": null,
   "id": "13af13c7",
   "metadata": {},
   "outputs": [],
   "source": [
    "clf = tree.DecisionTreeClassifier()\n",
    "clf = clf.fit(X_train, y_train)\n",
    "clf.score(X_test, y_test)"
   ]
  },
  {
   "cell_type": "code",
   "execution_count": null,
   "id": "5413526e",
   "metadata": {},
   "outputs": [],
   "source": [
    "from sklearn.ensemble import RandomForestClassifier\n",
    "rf = RandomForestClassifier(n_estimators=200)\n",
    "rf = rf.fit(X_train, y_train)\n",
    "rf.score(X_test, y_test)"
   ]
  },
  {
   "cell_type": "code",
   "execution_count": null,
   "id": "cc9f1a9f",
   "metadata": {},
   "outputs": [],
   "source": [
    "sorted(zip(rf.feature_importances_, feature_names), reverse=True)"
   ]
  },
  {
   "cell_type": "code",
   "execution_count": null,
   "id": "7d571a3f",
   "metadata": {},
   "outputs": [],
   "source": [
    "import graphviz \n",
    "dot_data = tree.export_graphviz(\n",
    "    clf, out_file=None, \n",
    "    feature_names=train_data_df.feature_names,  \n",
    "    class_names=train_data_df.target_names,  \n",
    "    filled=True, rounded=True,  \n",
    "    special_characters=True)  \n",
    "\n",
    "import pydotplus\n",
    "graph = pydotplus.graph_from_dot_data(dot_data)\n",
    "graph.write_png('credit.png')\n",
    "\n",
    "graph = graphviz.Source(dot_data)  \n",
    "graph "
   ]
  }
 ],
 "metadata": {
  "kernelspec": {
   "display_name": "Python 3",
   "language": "python",
   "name": "python3"
  },
  "language_info": {
   "codemirror_mode": {
    "name": "ipython",
    "version": 3
   },
   "file_extension": ".py",
   "mimetype": "text/x-python",
   "name": "python",
   "nbconvert_exporter": "python",
   "pygments_lexer": "ipython3",
   "version": "3.8.8"
  }
 },
 "nbformat": 4,
 "nbformat_minor": 5
}
